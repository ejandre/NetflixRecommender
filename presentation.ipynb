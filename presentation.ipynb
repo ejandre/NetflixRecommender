{
 "cells": [
  {
   "cell_type": "markdown",
   "source": "# Netflix Recommendation System",
   "metadata": {
    "tags": [],
    "is_collapsed": false,
    "cell_id": "00000-839b2a46-fb2f-45e4-814a-66d890c41462",
    "deepnote_cell_type": "text-cell-h1"
   }
  },
  {
   "cell_type": "markdown",
   "source": "Eric Andrews, Maya Chalker, Katie Lawton",
   "metadata": {
    "tags": [],
    "cell_id": "00001-2b6ff770-c947-4ac9-afc4-608b8b36c7f7",
    "deepnote_cell_type": "markdown"
   }
  },
  {
   "cell_type": "markdown",
   "source": "## Project Purpose",
   "metadata": {
    "tags": [],
    "is_collapsed": false,
    "cell_id": "00001-0383233d-dff9-4e93-b444-b4c0ae27610d",
    "deepnote_cell_type": "text-cell-h2"
   }
  },
  {
   "cell_type": "markdown",
   "source": "Using the Netflix dataset available through Kaggle, created a movie and television show recommendation system using \nnatural language processing to identify sentiment and machine learning techniques such as TfidfVectorization and Cosine \nSimilarities.",
   "metadata": {
    "tags": [],
    "cell_id": "00002-612306da-1a28-4d74-9610-5cafe8c7c9a7",
    "deepnote_cell_type": "markdown"
   }
  },
  {
   "cell_type": "code",
   "metadata": {
    "tags": [],
    "cell_id": "00003-fcfb661d-5849-4e4e-9324-45796d6af346",
    "deepnote_to_be_reexecuted": false,
    "source_hash": "f741a08e",
    "execution_start": 1638451247825,
    "execution_millis": 12539,
    "deepnote_cell_type": "code"
   },
   "source": "import pandas as pd\nimport numpy as np\nimport seaborn as sns\nimport matplotlib.pyplot as plt\nimport nltk\nimport spacy",
   "execution_count": null,
   "outputs": []
  },
  {
   "cell_type": "code",
   "metadata": {
    "tags": [],
    "cell_id": "00004-9a9cb425-aced-4897-bf70-85ab601a29c3",
    "deepnote_to_be_reexecuted": false,
    "source_hash": "2f65882c",
    "execution_start": 1638451291407,
    "execution_millis": 665,
    "deepnote_cell_type": "code"
   },
   "source": "data = pd.read_csv('netflix_titles.csv')",
   "execution_count": null,
   "outputs": []
  },
  {
   "cell_type": "markdown",
   "source": "### EDA",
   "metadata": {
    "tags": [],
    "cell_id": "00005-9149c5a6-cc5a-4b77-8b70-6f3e704d7ce9",
    "deepnote_cell_type": "markdown"
   }
  },
  {
   "cell_type": "code",
   "metadata": {
    "tags": [],
    "cell_id": "00005-e874f4b9-03f0-4116-a094-e00b86a6d30c",
    "deepnote_to_be_reexecuted": false,
    "source_hash": "878de0e4",
    "execution_start": 1638451345030,
    "execution_millis": 13,
    "deepnote_output_heights": [
     251.4375
    ],
    "deepnote_cell_type": "code"
   },
   "source": "data.isnull().sum()",
   "execution_count": null,
   "outputs": [
    {
     "output_type": "execute_result",
     "execution_count": 3,
     "data": {
      "text/plain": "show_id            0\ntype               0\ntitle              0\ndirector        2634\ncast             825\ncountry          831\ndate_added        10\nrelease_year       0\nrating             4\nduration           3\nlisted_in          0\ndescription        0\ndtype: int64"
     },
     "metadata": {}
    }
   ]
  },
  {
   "cell_type": "code",
   "metadata": {
    "tags": [],
    "cell_id": "00007-7d1c5f28-eb78-4362-8b6f-261f298509f6",
    "deepnote_to_be_reexecuted": false,
    "source_hash": "a724b460",
    "execution_start": 1638451346132,
    "execution_millis": 41,
    "deepnote_output_heights": [
     null,
     21.1875
    ],
    "deepnote_cell_type": "code"
   },
   "source": "nltk.download('vader_lexicon')",
   "execution_count": null,
   "outputs": [
    {
     "name": "stderr",
     "text": "[nltk_data] Downloading package vader_lexicon to /root/nltk_data...\n",
     "output_type": "stream"
    },
    {
     "output_type": "execute_result",
     "execution_count": 4,
     "data": {
      "text/plain": "True"
     },
     "metadata": {}
    }
   ]
  },
  {
   "cell_type": "code",
   "metadata": {
    "tags": [],
    "cell_id": "00008-b7a747a1-65b4-4c10-a41f-a6e22f7a79b0",
    "deepnote_to_be_reexecuted": false,
    "source_hash": "ddf3be66",
    "execution_start": 1638451362214,
    "execution_millis": 28,
    "deepnote_cell_type": "code"
   },
   "source": "from nltk.sentiment.vader import SentimentIntensityAnalyzer\nsent_analyzer = SentimentIntensityAnalyzer()\ndef sentiment_scores(docx):\n    return sent_analyzer.polarity_scores(docx.text)",
   "execution_count": null,
   "outputs": []
  },
  {
   "cell_type": "code",
   "metadata": {
    "tags": [],
    "cell_id": "00009-e4a9a3b1-be63-4164-a67d-b556d0f1a3a4",
    "deepnote_to_be_reexecuted": false,
    "source_hash": "676486a9",
    "execution_start": 1638451362762,
    "execution_millis": 19088,
    "deepnote_cell_type": "code"
   },
   "source": "!python -m spacy download en",
   "execution_count": null,
   "outputs": [
    {
     "name": "stdout",
     "text": "2021-12-02 13:22:46.583975: W tensorflow/stream_executor/platform/default/dso_loader.cc:60] Could not load dynamic library 'libcudart.so.11.0'; dlerror: libcudart.so.11.0: cannot open shared object file: No such file or directory\n2021-12-02 13:22:46.584013: I tensorflow/stream_executor/cuda/cudart_stub.cc:29] Ignore above cudart dlerror if you do not have a GPU set up on your machine.\n\u001b[38;5;3m⚠ As of spaCy v3.0, shortcuts like 'en' are deprecated. Please use the\nfull pipeline package name 'en_core_web_sm' instead.\u001b[0m\nCollecting en-core-web-sm==3.2.0\n  Downloading https://github.com/explosion/spacy-models/releases/download/en_core_web_sm-3.2.0/en_core_web_sm-3.2.0-py3-none-any.whl (13.9 MB)\n\u001b[K     |████████████████████████████████| 13.9 MB 16.6 MB/s \n\u001b[?25hRequirement already satisfied: spacy<3.3.0,>=3.2.0 in /shared-libs/python3.7/py/lib/python3.7/site-packages (from en-core-web-sm==3.2.0) (3.2.0)\nRequirement already satisfied: typer<0.5.0,>=0.3.0 in /shared-libs/python3.7/py/lib/python3.7/site-packages (from spacy<3.3.0,>=3.2.0->en-core-web-sm==3.2.0) (0.4.0)\nRequirement already satisfied: murmurhash<1.1.0,>=0.28.0 in /shared-libs/python3.7/py/lib/python3.7/site-packages (from spacy<3.3.0,>=3.2.0->en-core-web-sm==3.2.0) (1.0.6)\nRequirement already satisfied: catalogue<2.1.0,>=2.0.6 in /shared-libs/python3.7/py/lib/python3.7/site-packages (from spacy<3.3.0,>=3.2.0->en-core-web-sm==3.2.0) (2.0.6)\nRequirement already satisfied: cymem<2.1.0,>=2.0.2 in /shared-libs/python3.7/py/lib/python3.7/site-packages (from spacy<3.3.0,>=3.2.0->en-core-web-sm==3.2.0) (2.0.6)\nRequirement already satisfied: spacy-loggers<2.0.0,>=1.0.0 in /shared-libs/python3.7/py/lib/python3.7/site-packages (from spacy<3.3.0,>=3.2.0->en-core-web-sm==3.2.0) (1.0.1)\nRequirement already satisfied: requests<3.0.0,>=2.13.0 in /shared-libs/python3.7/py/lib/python3.7/site-packages (from spacy<3.3.0,>=3.2.0->en-core-web-sm==3.2.0) (2.26.0)\nRequirement already satisfied: preshed<3.1.0,>=3.0.2 in /shared-libs/python3.7/py/lib/python3.7/site-packages (from spacy<3.3.0,>=3.2.0->en-core-web-sm==3.2.0) (3.0.6)\nRequirement already satisfied: numpy>=1.15.0 in /shared-libs/python3.7/py/lib/python3.7/site-packages (from spacy<3.3.0,>=3.2.0->en-core-web-sm==3.2.0) (1.19.5)\nRequirement already satisfied: packaging>=20.0 in /shared-libs/python3.7/py-core/lib/python3.7/site-packages (from spacy<3.3.0,>=3.2.0->en-core-web-sm==3.2.0) (21.2)\nRequirement already satisfied: pydantic!=1.8,!=1.8.1,<1.9.0,>=1.7.4 in /shared-libs/python3.7/py/lib/python3.7/site-packages (from spacy<3.3.0,>=3.2.0->en-core-web-sm==3.2.0) (1.8.2)\nRequirement already satisfied: srsly<3.0.0,>=2.4.1 in /shared-libs/python3.7/py/lib/python3.7/site-packages (from spacy<3.3.0,>=3.2.0->en-core-web-sm==3.2.0) (2.4.2)\nRequirement already satisfied: setuptools in /root/venv/lib/python3.7/site-packages (from spacy<3.3.0,>=3.2.0->en-core-web-sm==3.2.0) (47.1.0)\nRequirement already satisfied: wasabi<1.1.0,>=0.8.1 in /shared-libs/python3.7/py/lib/python3.7/site-packages (from spacy<3.3.0,>=3.2.0->en-core-web-sm==3.2.0) (0.8.2)\nRequirement already satisfied: thinc<8.1.0,>=8.0.12 in /shared-libs/python3.7/py/lib/python3.7/site-packages (from spacy<3.3.0,>=3.2.0->en-core-web-sm==3.2.0) (8.0.13)\nRequirement already satisfied: langcodes<4.0.0,>=3.2.0 in /shared-libs/python3.7/py/lib/python3.7/site-packages (from spacy<3.3.0,>=3.2.0->en-core-web-sm==3.2.0) (3.3.0)\nRequirement already satisfied: spacy-legacy<3.1.0,>=3.0.8 in /shared-libs/python3.7/py/lib/python3.7/site-packages (from spacy<3.3.0,>=3.2.0->en-core-web-sm==3.2.0) (3.0.8)\nRequirement already satisfied: pathy>=0.3.5 in /shared-libs/python3.7/py/lib/python3.7/site-packages (from spacy<3.3.0,>=3.2.0->en-core-web-sm==3.2.0) (0.6.1)\nRequirement already satisfied: blis<0.8.0,>=0.4.0 in /shared-libs/python3.7/py/lib/python3.7/site-packages (from spacy<3.3.0,>=3.2.0->en-core-web-sm==3.2.0) (0.7.5)\nRequirement already satisfied: tqdm<5.0.0,>=4.38.0 in /shared-libs/python3.7/py/lib/python3.7/site-packages (from spacy<3.3.0,>=3.2.0->en-core-web-sm==3.2.0) (4.62.3)\nRequirement already satisfied: typing-extensions<4.0.0.0,>=3.7.4; python_version < \"3.8\" in /shared-libs/python3.7/py-core/lib/python3.7/site-packages (from spacy<3.3.0,>=3.2.0->en-core-web-sm==3.2.0) (3.10.0.2)\nRequirement already satisfied: jinja2 in /shared-libs/python3.7/py-core/lib/python3.7/site-packages (from spacy<3.3.0,>=3.2.0->en-core-web-sm==3.2.0) (3.0.3)\nRequirement already satisfied: click<9.0.0,>=7.1.1 in /shared-libs/python3.7/py/lib/python3.7/site-packages (from typer<0.5.0,>=0.3.0->spacy<3.3.0,>=3.2.0->en-core-web-sm==3.2.0) (8.0.3)\nRequirement already satisfied: zipp>=0.5; python_version < \"3.8\" in /shared-libs/python3.7/py-core/lib/python3.7/site-packages (from catalogue<2.1.0,>=2.0.6->spacy<3.3.0,>=3.2.0->en-core-web-sm==3.2.0) (3.6.0)\nRequirement already satisfied: certifi>=2017.4.17 in /shared-libs/python3.7/py/lib/python3.7/site-packages (from requests<3.0.0,>=2.13.0->spacy<3.3.0,>=3.2.0->en-core-web-sm==3.2.0) (2021.10.8)\nRequirement already satisfied: urllib3<1.27,>=1.21.1 in /shared-libs/python3.7/py/lib/python3.7/site-packages (from requests<3.0.0,>=2.13.0->spacy<3.3.0,>=3.2.0->en-core-web-sm==3.2.0) (1.26.7)\nRequirement already satisfied: idna<4,>=2.5; python_version >= \"3\" in /shared-libs/python3.7/py-core/lib/python3.7/site-packages (from requests<3.0.0,>=2.13.0->spacy<3.3.0,>=3.2.0->en-core-web-sm==3.2.0) (3.3)\nRequirement already satisfied: charset-normalizer~=2.0.0; python_version >= \"3\" in /shared-libs/python3.7/py-core/lib/python3.7/site-packages (from requests<3.0.0,>=2.13.0->spacy<3.3.0,>=3.2.0->en-core-web-sm==3.2.0) (2.0.7)\nRequirement already satisfied: pyparsing<3,>=2.0.2 in /shared-libs/python3.7/py-core/lib/python3.7/site-packages (from packaging>=20.0->spacy<3.3.0,>=3.2.0->en-core-web-sm==3.2.0) (2.4.7)\nRequirement already satisfied: smart-open<6.0.0,>=5.0.0 in /shared-libs/python3.7/py/lib/python3.7/site-packages (from pathy>=0.3.5->spacy<3.3.0,>=3.2.0->en-core-web-sm==3.2.0) (5.2.1)\nRequirement already satisfied: MarkupSafe>=2.0 in /shared-libs/python3.7/py-core/lib/python3.7/site-packages (from jinja2->spacy<3.3.0,>=3.2.0->en-core-web-sm==3.2.0) (2.0.1)\nRequirement already satisfied: importlib-metadata; python_version < \"3.8\" in /shared-libs/python3.7/py-core/lib/python3.7/site-packages (from click<9.0.0,>=7.1.1->typer<0.5.0,>=0.3.0->spacy<3.3.0,>=3.2.0->en-core-web-sm==3.2.0) (4.8.2)\nInstalling collected packages: en-core-web-sm\nSuccessfully installed en-core-web-sm-3.2.0\n\u001b[33mWARNING: You are using pip version 20.1.1; however, version 21.3.1 is available.\nYou should consider upgrading via the '/root/venv/bin/python -m pip install --upgrade pip' command.\u001b[0m\n\u001b[38;5;2m✔ Download and installation successful\u001b[0m\nYou can now load the package via spacy.load('en_core_web_sm')\n",
     "output_type": "stream"
    }
   ]
  },
  {
   "cell_type": "code",
   "metadata": {
    "tags": [],
    "cell_id": "00009-250fa279-e370-41e3-b978-70314e66d587",
    "deepnote_to_be_reexecuted": false,
    "source_hash": "633df51f",
    "execution_start": 1638451391594,
    "execution_millis": 1450,
    "deepnote_cell_type": "code"
   },
   "source": "nlp = spacy.load('en_core_web_sm')",
   "execution_count": null,
   "outputs": []
  },
  {
   "cell_type": "code",
   "metadata": {
    "tags": [],
    "cell_id": "00010-c3e9bcb0-a8cb-4502-a04b-15e56576bab3",
    "deepnote_to_be_reexecuted": false,
    "source_hash": "47389cf7",
    "execution_start": 1638451393722,
    "execution_millis": 3,
    "deepnote_cell_type": "code"
   },
   "source": "from spacy.tokens import Doc\nDoc.set_extension(\"sentimenter\",getter=sentiment_scores)",
   "execution_count": null,
   "outputs": []
  },
  {
   "cell_type": "code",
   "metadata": {
    "tags": [],
    "cell_id": "00011-b64fe892-b24a-47b6-a13c-283d4c485850",
    "deepnote_to_be_reexecuted": false,
    "source_hash": "9bfb6e1f",
    "execution_start": 1638451394358,
    "execution_millis": 94783,
    "deepnote_cell_type": "code"
   },
   "source": "data['description_sentiment_score'] = data['description'].apply(lambda x: nlp(x)._.sentimenter['compound'])",
   "execution_count": null,
   "outputs": []
  },
  {
   "cell_type": "code",
   "metadata": {
    "tags": [],
    "cell_id": "00013-c02c18ec-5ea0-4404-8461-193cd2cfb34f",
    "deepnote_to_be_reexecuted": false,
    "source_hash": "3f17e99d",
    "execution_start": 1638451489141,
    "execution_millis": 54,
    "deepnote_cell_type": "code"
   },
   "source": "data[['title','description','description_sentiment_score']].sort_values(by='description_sentiment_score', ascending=False)",
   "execution_count": null,
   "outputs": [
    {
     "output_type": "execute_result",
     "execution_count": 10,
     "data": {
      "application/vnd.deepnote.dataframe.v2+json": {
       "row_count": 8807,
       "column_count": 3,
       "columns": [
        {
         "name": "title",
         "dtype": "object",
         "stats": {
          "unique_count": 8807,
          "nan_count": 0,
          "categories": [
           {
            "name": "Medal of Honor",
            "count": 1
           },
           {
            "name": "Qué pena tu serie",
            "count": 1
           },
           {
            "name": "8805 others",
            "count": 8805
           }
          ]
         }
        },
        {
         "name": "description",
         "dtype": "object",
         "stats": {
          "unique_count": 8775,
          "nan_count": 0,
          "categories": [
           {
            "name": "Paranormal activity at a lush, abandoned property alarms a group eager to redevelop the site, but the eerie events may not be as unearthly as they think.",
            "count": 4
           },
           {
            "name": "Challenged to compose 100 songs before he can marry the girl he loves, a tortured but passionate singer-songwriter embarks on a poignant musical journey.",
            "count": 3
           },
           {
            "name": "8773 others",
            "count": 8800
           }
          ]
         }
        },
        {
         "name": "description_sentiment_score",
         "dtype": "float64",
         "stats": {
          "unique_count": 796,
          "nan_count": 0,
          "min": "-0.9732",
          "max": "0.9709",
          "histogram": [
           {
            "bin_start": -0.9732,
            "bin_end": -0.77879,
            "count": 761
           },
           {
            "bin_start": -0.77879,
            "bin_end": -0.5843799999999999,
            "count": 1067
           },
           {
            "bin_start": -0.5843799999999999,
            "bin_end": -0.38996999999999993,
            "count": 826
           },
           {
            "bin_start": -0.38996999999999993,
            "bin_end": -0.19555999999999996,
            "count": 761
           },
           {
            "bin_start": -0.19555999999999996,
            "bin_end": -0.0011499999999999844,
            "count": 433
           },
           {
            "bin_start": -0.0011499999999999844,
            "bin_end": 0.1932600000000001,
            "count": 1332
           },
           {
            "bin_start": 0.1932600000000001,
            "bin_end": 0.38767000000000007,
            "count": 787
           },
           {
            "bin_start": 0.38767000000000007,
            "bin_end": 0.58208,
            "count": 946
           },
           {
            "bin_start": 0.58208,
            "bin_end": 0.77649,
            "count": 1069
           },
           {
            "bin_start": 0.77649,
            "bin_end": 0.9709,
            "count": 825
           }
          ]
         }
        },
        {
         "name": "_deepnote_index_column",
         "dtype": "int64"
        }
       ],
       "rows_top": [
        {
         "title": "Medal of Honor",
         "description": "Honoring service members whose courage merited the awarding of a Medal of Honor, this docudrama ser…",
         "description_sentiment_score": 0.9709,
         "_deepnote_index_column": 4403
        },
        {
         "title": "Qué pena tu serie",
         "description": "Javier is happily in love with Sofia, so when she breaks up their perfect life, he has to get her b…",
         "description_sentiment_score": 0.9657,
         "_deepnote_index_column": 7808
        },
        {
         "title": "LEGO Friends: The Power of Friendship",
         "description": "Five best friends face adventures side by side in their hometown. Zany antics, love and missteps ar…",
         "description_sentiment_score": 0.9647,
         "_deepnote_index_column": 733
        },
        {
         "title": "Too Hot to Handle",
         "description": "On the shores of paradise, gorgeous singles meet and mingle. But there’s a twist. To win a $100,000…",
         "description_sentiment_score": 0.9625,
         "_deepnote_index_column": 648
        },
        {
         "title": "The Spooky Tale of Captain Underpants Hack-a-ween",
         "description": "When Melvin tries to cancel Halloween, clever best friends Harold and George create their own spook…",
         "description_sentiment_score": 0.9606,
         "_deepnote_index_column": 3442
        },
        {
         "title": "Cinta 100KG",
         "description": "Two female friends, each with confidence issues, help each other search for true love and deal with…",
         "description_sentiment_score": 0.9571,
         "_deepnote_index_column": 3845
        },
        {
         "title": "Mumbai Delhi Mumbai",
         "description": "In Delhi for the first time, a Mumbai girl loses her phone but gets a surprise chance at true love …",
         "description_sentiment_score": 0.9545,
         "_deepnote_index_column": 2280
        },
        {
         "title": "True: Grabbleapple Harvest",
         "description": "It's Grabbleapple harvest season in the Rainbow Kingdom ... but Glummy Glooma doesn't want autumn t…",
         "description_sentiment_score": 0.9525,
         "_deepnote_index_column": 3350
        },
        {
         "title": "Oh, Hello On Broadway",
         "description": "Two delusional geriatrics reveal curious pasts, share a love of tuna and welcome a surprise guest i…",
         "description_sentiment_score": 0.9524,
         "_deepnote_index_column": 5432
        },
        {
         "title": "Ridley Jones",
         "description": "Curious kid Ridley and her friends protect the Museum of Natural History’s treasures and keep its m…",
         "description_sentiment_score": 0.9523,
         "_deepnote_index_column": 472
        },
        {
         "title": "Oggy Oggy",
         "description": "Join adorable kitten Oggy and his cast of cat pals in a bright and colorful kitty world. They're al…",
         "description_sentiment_score": 0.9508,
         "_deepnote_index_column": 234
        },
        {
         "title": "Kuch Kuch Hota Hai",
         "description": "Per her mother’s last wish, a girl sets out to reunite her father with the college best friend who …",
         "description_sentiment_score": 0.9493,
         "_deepnote_index_column": 2734
        },
        {
         "title": "At the Dolphin Bay",
         "description": "Encountering each other after a long separation, two childhood friends from orphanage must overcome…",
         "description_sentiment_score": 0.9485,
         "_deepnote_index_column": 3263
        },
        {
         "title": "Care Bears & Cousins",
         "description": "The whole huggable gang is back, bringing tales of caring and sharing to a new generation. And now …",
         "description_sentiment_score": 0.9485,
         "_deepnote_index_column": 5867
        },
        {
         "title": "Ponysitters Club",
         "description": "A young horse enthusiast teams up with her best friends to rescue and rehabilitate animals on her f…",
         "description_sentiment_score": 0.9468,
         "_deepnote_index_column": 4384
        },
        {
         "title": "Masha and the Bear",
         "description": "Lively little Masha lives near the forest, where she has many wonderful adventures with her best fr…",
         "description_sentiment_score": 0.9468,
         "_deepnote_index_column": 2583
        },
        {
         "title": "Zoids Wild",
         "description": "A quest for freedom and legendary treasure begins when a cheerful young adventurer follows his fath…",
         "description_sentiment_score": 0.946,
         "_deepnote_index_column": 2136
        },
        {
         "title": "Mukhsin",
         "description": "When young Mukhsin arrives in a new town, 10-year-old tomboy Orked adopts him as her new best frien…",
         "description_sentiment_score": 0.9451,
         "_deepnote_index_column": 1519
        },
        {
         "title": "The Bachelor",
         "description": "A single man searches for his soulmate through a series of dates with 25 contestants ready to roman…",
         "description_sentiment_score": 0.9451,
         "_deepnote_index_column": 8199
        },
        {
         "title": "The Last Paradiso",
         "description": "In 1950s Italy, a passionate free spirit dreams of love, justice and a better life till a forbidden…",
         "description_sentiment_score": 0.9451,
         "_deepnote_index_column": 1344
        },
        {
         "title": "The Smart Money Woman",
         "description": "Five glamorous millennials strive for success as they juggle careers, finances, love and friendship…",
         "description_sentiment_score": 0.9442,
         "_deepnote_index_column": 47
        },
        {
         "title": "We're Lalaloopsy",
         "description": "The Lalaloopsy gang and their adorable pets know every day is a perfect day to celebrate the magic …",
         "description_sentiment_score": 0.9442,
         "_deepnote_index_column": 5640
        },
        {
         "title": "Single Ladies Senior",
         "description": "Four best friends and spirited career women navigate the treacherous world of romance – even as it …",
         "description_sentiment_score": 0.9442,
         "_deepnote_index_column": 4265
        },
        {
         "title": "Sierra Burgess Is A Loser",
         "description": "A wrong-number text sparks a virtual romance between a smart but unpopular teen and a sweet jock wh…",
         "description_sentiment_score": 0.9432,
         "_deepnote_index_column": 4657
        },
        {
         "title": "Dolly Parton's Heartstrings",
         "description": "Eight stories celebrating family, faith, love and forgiveness come to life in this series inspired …",
         "description_sentiment_score": 0.9432,
         "_deepnote_index_column": 3238
        },
        {
         "title": "The Adventures of Puss in Boots",
         "description": "The world's greatest feline fighter, lover and milk connoisseur takes on daring adventures in exoti…",
         "description_sentiment_score": 0.9432,
         "_deepnote_index_column": 5063
        },
        {
         "title": "Mujeres arriba",
         "description": "A trio of best friends — a carefree bachelorette, a passionate mom and a perfectionist girlfriend —…",
         "description_sentiment_score": 0.9423,
         "_deepnote_index_column": 2485
        },
        {
         "title": "All Hail King Julien: Exiled",
         "description": "Julien's been dethroned, but loyal friends and some very unlikely allies will propel the lovable le…",
         "description_sentiment_score": 0.9413,
         "_deepnote_index_column": 5488
        },
        {
         "title": "Malibu Rescue: The Series",
         "description": "On the heels of Junior Rescue training, Team Flounder returns to brave the beach in a series of thr…",
         "description_sentiment_score": 0.9413,
         "_deepnote_index_column": 3779
        },
        {
         "title": "Spirit Riding Free: Pony Tales",
         "description": "Find the fun and adventure of \"Spirit Riding Free\" in this mix of music videos and short episodes f…",
         "description_sentiment_score": 0.9412,
         "_deepnote_index_column": 3406
        },
        {
         "title": "College Romance",
         "description": "Three best friends look for love, laughs and some lifelong memories while attending college togethe…",
         "description_sentiment_score": 0.9403,
         "_deepnote_index_column": 3463
        },
        {
         "title": "Elf Pets: Santa’s Reindeer Rescue",
         "description": "Determined to help Santa get ready for his merry rounds of gift-giving, a team of special elves wra…",
         "description_sentiment_score": 0.9382,
         "_deepnote_index_column": 1752
        },
        {
         "title": "The Great British Baking Show",
         "description": "A talented batch of amateur bakers face off in a 10-week competition, whipping up their best dishes…",
         "description_sentiment_score": 0.9382,
         "_deepnote_index_column": 8
        },
        {
         "title": "Color of Woman",
         "description": "Two women at a cosmetics company compete for love and success. One uses her brain and diligence, wh…",
         "description_sentiment_score": 0.9371,
         "_deepnote_index_column": 5665
        },
        {
         "title": "Born Beautiful",
         "description": "After her best friend dies, Barbs attempts to rediscover herself until love leaves her true identit…",
         "description_sentiment_score": 0.9371,
         "_deepnote_index_column": 2700
        },
        {
         "title": "Nadiya Bakes",
         "description": "Delightful cakes and heavenly breads pop from the oven as Nadiya Hussain returns to baking, her hap…",
         "description_sentiment_score": 0.9371,
         "_deepnote_index_column": 1317
        },
        {
         "title": "Cocomong",
         "description": "What's in your fridge? In sunny Refrigerator Land, everyday ingredients transform into animal frien…",
         "description_sentiment_score": 0.936,
         "_deepnote_index_column": 3128
        },
        {
         "title": "Bling Empire",
         "description": "Follow LA's wildly wealthy Asian and Asian American fun seekers as they go all out with fabulous pa…",
         "description_sentiment_score": 0.936,
         "_deepnote_index_column": 1400
        },
        {
         "title": "La Rosa de Guadalupe",
         "description": "This series responds to the need to believe in miracles, dreams, love stories and happy endings, wi…",
         "description_sentiment_score": 0.9349,
         "_deepnote_index_column": 7257
        },
        {
         "title": "Bareilly Ki Barfi",
         "description": "When she falls in love with the author of a novel she adores, bohemian Bitti enlists the help of a …",
         "description_sentiment_score": 0.9349,
         "_deepnote_index_column": 4690
        },
        {
         "title": "20 Feet From Stardom",
         "description": "Winner of the 2014 Academy Award for Best Documentary Feature, this film takes a look at the world …",
         "description_sentiment_score": 0.9349,
         "_deepnote_index_column": 5996
        },
        {
         "title": "4th Man Out",
         "description": "A young mechanic comes out to his extremely straight best friends. Once they get used to the idea, …",
         "description_sentiment_score": 0.9341,
         "_deepnote_index_column": 6015
        },
        {
         "title": "Nila",
         "description": "When a cabbie chances upon his childhood sweetheart, he tries to rekindle old feelings but finds th…",
         "description_sentiment_score": 0.9339,
         "_deepnote_index_column": 5584
        },
        {
         "title": "Jeff Garlin: Our Man In Chicago",
         "description": "Comedian Jeff Garlin (unintentionally) celebrates his 37th year of stand-up and shares his learning…",
         "description_sentiment_score": 0.9337,
         "_deepnote_index_column": 3289
        },
        {
         "title": "Sadie's Last Days on Earth",
         "description": "High schooler Sadie Mitchell believes the world is about to end – literally. Before it does, she se…",
         "description_sentiment_score": 0.9325,
         "_deepnote_index_column": 7916
        },
        {
         "title": "Honey: Rise Up and Dance",
         "description": "Despite discouragement from her loved ones, a talented street dancer tries out for an exclusive dan…",
         "description_sentiment_score": 0.9323,
         "_deepnote_index_column": 6991
        },
        {
         "title": "Hope: One in a Billion",
         "description": "The remarkable true story of Gift Ngoepe, the first African to play for Major League Baseball, is r…",
         "description_sentiment_score": 0.9319,
         "_deepnote_index_column": 6995
        },
        {
         "title": "Kevin Hart's Guide to Black History",
         "description": "Kevin Hart highlights the fascinating contributions of black history’s unsung heroes in this entert…",
         "description_sentiment_score": 0.9313,
         "_deepnote_index_column": 4121
        },
        {
         "title": "Love Family",
         "description": "A wealthy heir's search for a nameless childhood sweetheart leads him to an inn run by a family wit…",
         "description_sentiment_score": 0.9313,
         "_deepnote_index_column": 5730
        },
        {
         "title": "Must Be... Love",
         "description": "When a teenage girl develops romantic feelings for her childhood best friend, she finds herself cha…",
         "description_sentiment_score": 0.9313,
         "_deepnote_index_column": 1602
        },
        {
         "title": "Good on Paper",
         "description": "After years of putting her career first, a stand-up comic meets a guy who seems perfect: smart, nic…",
         "description_sentiment_score": 0.9313,
         "_deepnote_index_column": 644
        },
        {
         "title": "True: Rainbow Rescue",
         "description": "True and Bartleby travel to the other side of the Neverending Rainbow to bring back Dillydally — a …",
         "description_sentiment_score": 0.9312,
         "_deepnote_index_column": 2440
        },
        {
         "title": "A 2nd Chance",
         "description": "A gymnast lacks the confidence she needs to reach the top. But with the help of her new coach, she …",
         "description_sentiment_score": 0.9306,
         "_deepnote_index_column": 5389
        },
        {
         "title": "The Fisherman's Diary",
         "description": "Inspired by Nobel Peace Prize winner Malala Yousafzai, a young girl defies the expectations of her …",
         "description_sentiment_score": 0.93,
         "_deepnote_index_column": 1099
        },
        {
         "title": "Cat People",
         "description": "Cat people come in all shapes and sizes, but they share a love for their enchanting, unique feline …",
         "description_sentiment_score": 0.9294,
         "_deepnote_index_column": 497
        },
        {
         "title": "Monty Python: Before the Flying Circus",
         "description": "Discover how six seemingly ordinary but supremely talented men became Monty Python, sketch comedy's…",
         "description_sentiment_score": 0.9294,
         "_deepnote_index_column": 4545
        },
        {
         "title": "Love Station",
         "description": "Single coworkers at a radio station are brought together by mutual friends, but their starry-eyed n…",
         "description_sentiment_score": 0.9294,
         "_deepnote_index_column": 7351
        },
        {
         "title": "Find Yourself",
         "description": "A determined entrepreneur navigates a love triangle between a young charmer and an older executive,…",
         "description_sentiment_score": 0.9287,
         "_deepnote_index_column": 2982
        },
        {
         "title": "Charming",
         "description": "On the eve of his 21st birthday, an adored prince must find his one, true soulmate before a spell t…",
         "description_sentiment_score": 0.9287,
         "_deepnote_index_column": 1424
        },
        {
         "title": "Miss Dynamite",
         "description": "Wealthy, beautiful Valentina falls in love, only to realize that her man and her family are involve…",
         "description_sentiment_score": 0.9286,
         "_deepnote_index_column": 7463
        },
        {
         "title": "Katha",
         "description": "Secretly in love with his neighbor, a mild-mannered clerk is heartbroken when his much bolder, more…",
         "description_sentiment_score": 0.9278,
         "_deepnote_index_column": 7171
        },
        {
         "title": "Bangkok Bachelors",
         "description": "Three young men leading carefree bachelors’ lives in the city face the trials of true love when the…",
         "description_sentiment_score": 0.9274,
         "_deepnote_index_column": 6228
        },
        {
         "title": "Are You The One",
         "description": "Determined by a dating algorithm, a group of single contestants must identify their perfect matches…",
         "description_sentiment_score": 0.9274,
         "_deepnote_index_column": 1611
        },
        {
         "title": "The Breakup Playlist",
         "description": "A rock musician and a law student whose true passion is music fall in love and pursue a romance tha…",
         "description_sentiment_score": 0.9274,
         "_deepnote_index_column": 4077
        },
        {
         "title": "Big Bad Beetleborgs",
         "description": "When three teens free a spirit that offers to grant each a wish, they choose to become their favori…",
         "description_sentiment_score": 0.9274,
         "_deepnote_index_column": 6301
        },
        {
         "title": "Green Eggs and Ham",
         "description": "On a road trip to save an endangered animal, polar opposites Guy and Sam learn to try new things li…",
         "description_sentiment_score": 0.9274,
         "_deepnote_index_column": 3295
        },
        {
         "title": "The Big Family Cooking Showdown",
         "description": "In this unscripted series, families passionate about food serve up their most delicious dishes for …",
         "description_sentiment_score": 0.9273,
         "_deepnote_index_column": 4089
        },
        {
         "title": "#Roxy",
         "description": "A teenage hacker with a huge nose helps a cool kid woo a girl that he’s secretly in love with.",
         "description_sentiment_score": 0.926,
         "_deepnote_index_column": 5973
        },
        {
         "title": "What in the World Happened?",
         "description": "A happy secret romance between a 40-year-old woman and a 25-year-old man is complicated after a gre…",
         "description_sentiment_score": 0.926,
         "_deepnote_index_column": 5513
        },
        {
         "title": "A Russell Peters Christmas",
         "description": "Inspired by the variety shows of the 1970s, \"A Russell Peters Christmas\" is a sweet, silly, sentime…",
         "description_sentiment_score": 0.9255,
         "_deepnote_index_column": 6054
        },
        {
         "title": "Dennis and Gnasher Unleashed",
         "description": "Fearless Dennis, his loyal dog Gnasher and best friends Rubi, JJ and Pieface quench their thirst fo…",
         "description_sentiment_score": 0.9251,
         "_deepnote_index_column": 3821
        },
        {
         "title": "True and the Rainbow Kingdom",
         "description": "When something's wrong in the Rainbow Kingdom, bighearted guardian True and her best friend, Bartle…",
         "description_sentiment_score": 0.9246,
         "_deepnote_index_column": 3553
        },
        {
         "title": "Meteor Garden",
         "description": "Dong Shancai is determined to excel at her dream university, where she encounters an elite clique o…",
         "description_sentiment_score": 0.9246,
         "_deepnote_index_column": 4772
        },
        {
         "title": "Sahara",
         "description": "When his new love is captured by an evil snake charmer, a young cobra and his scorpion best friend …",
         "description_sentiment_score": 0.9246,
         "_deepnote_index_column": 5491
        },
        {
         "title": "Nailed It! France",
         "description": "On this fun and funny competition show, home bakers talented in catastrophe struggle to re-create d…",
         "description_sentiment_score": 0.9246,
         "_deepnote_index_column": 3377
        },
        {
         "title": "It's Bruno!",
         "description": "An old-school Brooklyn native devotes his days to caring for his adorable dog, Bruno – and making s…",
         "description_sentiment_score": 0.9246,
         "_deepnote_index_column": 3812
        },
        {
         "title": "Dhh",
         "description": "Convinced only a miracle can save them from failing school exams, a trio of friends seek help from …",
         "description_sentiment_score": 0.9231,
         "_deepnote_index_column": 2020
        },
        {
         "title": "The Last Kids on Earth: Happy Apocalypse to You",
         "description": "Help Jack and his monster-battling friends make choices to stay alive — and have some fun — in this…",
         "description_sentiment_score": 0.923,
         "_deepnote_index_column": 1096
        },
        {
         "title": "Pui Pui Molcar",
         "description": "They’re guinea pigs! And they’re cars! The fuzzy and adorable molcars have lots of fun adventures i…",
         "description_sentiment_score": 0.9229,
         "_deepnote_index_column": 1169
        },
        {
         "title": "Do Do Sol Sol La La Sol",
         "description": "A riches-to-rags pianist who loses everything but her smile is guided by twinkling little stars to …",
         "description_sentiment_score": 0.9224,
         "_deepnote_index_column": 1875
        },
        {
         "title": "The Half Of It",
         "description": "When smart but cash-strapped teen Ellie Chu agrees to write a love letter for a jock, she doesn't e…",
         "description_sentiment_score": 0.9224,
         "_deepnote_index_column": 2591
        },
        {
         "title": "Anchor and Hope",
         "description": "Kat and Eva’s happy romance hits a rough patch when Eva decides that she wants a child. Visiting fr…",
         "description_sentiment_score": 0.9217,
         "_deepnote_index_column": 6160
        },
        {
         "title": "Reality of Dream",
         "description": "Five friends from college chase their post-grad dreams of becoming a successful writer, film direct…",
         "description_sentiment_score": 0.9217,
         "_deepnote_index_column": 7838
        },
        {
         "title": "I Need Romance",
         "description": "A workaholic who lost interest in romance reunites with an old flame and gifted music composer, who…",
         "description_sentiment_score": 0.9201,
         "_deepnote_index_column": 287
        },
        {
         "title": "Ek Main Aur Ekk Tu",
         "description": "Bollywood stars Imran Khan and Kareena Kapoor pair up to play exceptionally dissimilar lovers in th…",
         "description_sentiment_score": 0.9198,
         "_deepnote_index_column": 4565
        },
        {
         "title": "Victor",
         "description": "In 1962 Brooklyn, a Puerto Rican teen who joins a gang is seduced by violence and heroin. But can h…",
         "description_sentiment_score": 0.9194,
         "_deepnote_index_column": 8675
        },
        {
         "title": "All About Nina",
         "description": "Fearless provocation has fueled stand-up comic Nina Geld's career, but a move to LA and a new love …",
         "description_sentiment_score": 0.9194,
         "_deepnote_index_column": 6115
        },
        {
         "title": "Tip the Mouse",
         "description": "In his tiny meadow village, curious little mouse Tip enjoys fun and adventure while learning about …",
         "description_sentiment_score": 0.9191,
         "_deepnote_index_column": 8596
        },
        {
         "title": "ViR: The Robot Boy",
         "description": "Humanoid robot boy ViR lives with his inventor, Dr. Prem Sahay, and, with his best friends, is alwa…",
         "description_sentiment_score": 0.9186,
         "_deepnote_index_column": 8679
        },
        {
         "title": "Blown Away",
         "description": "Ten master artists turn up the heat in glassblowing sculpture challenges for the chance to win $60,…",
         "description_sentiment_score": 0.9186,
         "_deepnote_index_column": 1383
        },
        {
         "title": "Love, Guaranteed",
         "description": "Sparks fly when a crusading but cash-strapped attorney takes on a charming client looking to sue a …",
         "description_sentiment_score": 0.9186,
         "_deepnote_index_column": 2052
        },
        {
         "title": "The Bachelorette",
         "description": "Beloved “Bachelor” contestant Ali Fedotowsky embarks on her own search for happily ever after and n…",
         "description_sentiment_score": 0.9186,
         "_deepnote_index_column": 1623
        },
        {
         "title": "Melodies of Life - Born This Way",
         "description": "A celebrated pastry chef and his fellow staff members at a bake shop embark on bittersweet adventur…",
         "description_sentiment_score": 0.9169,
         "_deepnote_index_column": 7438
        },
        {
         "title": "Queen of No Marriage",
         "description": "Sparks begin to fly when a successful 33-year-old single woman and a 25-year-old romantic with few …",
         "description_sentiment_score": 0.9169,
         "_deepnote_index_column": 7810
        },
        {
         "title": "Little Witch Academia",
         "description": "Akko enrolls at the Luna Nova Witchcraft Academy. She's not the best student, but her bright attitu…",
         "description_sentiment_score": 0.9164,
         "_deepnote_index_column": 5414
        },
        {
         "title": "Untold: Caitlyn Jenner",
         "description": "Caitlyn Jenner's unlikely path to Olympic glory was inspirational. But her more challenging road to…",
         "description_sentiment_score": 0.9158,
         "_deepnote_index_column": 235
        },
        {
         "title": "Love or Money",
         "description": "When persistent Leon sweeps her off her feet, ambitious Angel must choose between true love and her…",
         "description_sentiment_score": 0.9153,
         "_deepnote_index_column": 875
        },
        {
         "title": "Eyyvah Eyyvah 3",
         "description": "Life is tough for Hüseyin after marrying his true love. He works day and night to support his growi…",
         "description_sentiment_score": 0.9153,
         "_deepnote_index_column": 6727
        },
        {
         "title": "Queer Eye: We're in Japan!",
         "description": "The Fab Five touch down in Tokyo to spread the joy, explore the culture, and help four Japanese men…",
         "description_sentiment_score": 0.9153,
         "_deepnote_index_column": 3342
        },
        {
         "title": "Theeya Velai Seyyanum Kumaru",
         "description": "When shy Kumar gets stuck on the losing end of a love triangle, the Love Doctor, Mokia, has a strat…",
         "description_sentiment_score": 0.9153,
         "_deepnote_index_column": 4607
        },
        {
         "title": "Tim Allen: Men Are Pigs",
         "description": "Standup comedian Tim Allen delivers a set dedicated to \"men stuff\" like lawn care, power tools and …",
         "description_sentiment_score": 0.9153,
         "_deepnote_index_column": 4244
        },
        {
         "title": "My Little Pony: Friendship Is Magic",
         "description": "Journey to the enchanted land of Equestria, where unicorn Twilight Sparkle and her pals have advent…",
         "description_sentiment_score": 0.9153,
         "_deepnote_index_column": 525
        },
        {
         "title": "Wait, My Youth",
         "description": "Six hopeful friends journey into adulthood to create the moments that pull them together, draw them…",
         "description_sentiment_score": 0.9136,
         "_deepnote_index_column": 3367
        },
        {
         "title": "Castle and Castle",
         "description": "A pair of high-powered, successful lawyers find themselves defending opposite interests of the just…",
         "description_sentiment_score": 0.9136,
         "_deepnote_index_column": 49
        },
        {
         "title": "Christian Mingle",
         "description": "A career woman who has everything but romance finds her values challenged when she starts dating a …",
         "description_sentiment_score": 0.9136,
         "_deepnote_index_column": 6476
        },
        {
         "title": "Trash Truck",
         "description": "Six-year old Hank and his best pal, a giant trash truck, explore the world around them on fantastic…",
         "description_sentiment_score": 0.9136,
         "_deepnote_index_column": 923
        },
        {
         "title": "Super Monsters: Santa’s Super Monster Helpers",
         "description": "When Santa needs serious help prepping all of his presents, the Super Monsters lend a hand — and so…",
         "description_sentiment_score": 0.9134,
         "_deepnote_index_column": 1581
        },
        {
         "title": "Super Monsters Back to School",
         "description": "The Super Monsters welcome Vida to her new home in Pitchfork Pines with a tour of their favorite pl…",
         "description_sentiment_score": 0.9118,
         "_deepnote_index_column": 3584
        },
        {
         "title": "First Team: Juventus",
         "description": "Follow renowned soccer club Juventus on and off the pitch as they attempt to win a seventh straight…",
         "description_sentiment_score": 0.9118,
         "_deepnote_index_column": 4780
        },
        {
         "title": "Jaane Tu... Ya Jaane Na",
         "description": "Soft-spoken Jai and spitfire beauty Aditi couldn't be more different – but their family and friends…",
         "description_sentiment_score": 0.9118,
         "_deepnote_index_column": 1018
        },
        {
         "title": "Cupcake & Dino - General Services",
         "description": "An enterprising cupcake and his cheerful dinosaur brother take on jobs of all sorts as they work to…",
         "description_sentiment_score": 0.9118,
         "_deepnote_index_column": 3861
        },
        {
         "title": "Carnaval",
         "description": "After a breakup, an influencer takes her friends on a free trip to Bahia's vibrant Carnival, where …",
         "description_sentiment_score": 0.9118,
         "_deepnote_index_column": 783
        },
        {
         "title": "Pocoyo Carnival",
         "description": "To celebrate the carnival, everyone learns to dance to different music. Plus, Pocoyo's friends surp…",
         "description_sentiment_score": 0.9118,
         "_deepnote_index_column": 4894
        },
        {
         "title": "Lee Su-geun: The Sense Coach",
         "description": "Lee Su-geun's rise to Korean comedy stardom went hand in hand with his mastery over picking up soci…",
         "description_sentiment_score": 0.9118,
         "_deepnote_index_column": 484
        },
        {
         "title": "Chalay Thay Saath",
         "description": "Beautiful and adventurous doctor Resham meets a handsome Chinese backpacker named Adam while travel…",
         "description_sentiment_score": 0.9118,
         "_deepnote_index_column": 6441
        },
        {
         "title": "Chhota Bheem: Journey to Petra",
         "description": "The king has been away to meet an old friend, but when he sends for urgent help, Bheem finds himsel…",
         "description_sentiment_score": 0.9117,
         "_deepnote_index_column": 422
        },
        {
         "title": "Buddi",
         "description": "The Buddis bounce, spin, glide — and giggle! — through their magical world, learning new things and…",
         "description_sentiment_score": 0.9117,
         "_deepnote_index_column": 2006
        },
        {
         "title": "Pat a Pat Como",
         "description": "For Como and his friends, each new adventure is a lesson on why it's important to be considerate — …",
         "description_sentiment_score": 0.9117,
         "_deepnote_index_column": 1889
        },
        {
         "title": "Splash and Bubbles",
         "description": "Curious pals Splash, Bubbles, Dunk and Ripple have fun exploring new places, making new friends and…",
         "description_sentiment_score": 0.91,
         "_deepnote_index_column": 8070
        },
        {
         "title": "Popples",
         "description": "The adorable Best Popple Pals love helping their friends and neighbors, but every time they do it s…",
         "description_sentiment_score": 0.91,
         "_deepnote_index_column": 5829
        },
        {
         "title": "Ajab Prem Ki Ghazab Kahani",
         "description": "A young man's obsession with making others happy drives him to help the girl he loves marry someone…",
         "description_sentiment_score": 0.91,
         "_deepnote_index_column": 1795
        },
        {
         "title": "Step Sisters",
         "description": "With her Harvard Law dreams on the line, a black sorority leader agrees to help a rhythmically chal…",
         "description_sentiment_score": 0.91,
         "_deepnote_index_column": 5072
        },
        {
         "title": "Worn Stories",
         "description": "In this funny, heartfelt and moving docuseries, real people unpack the fascinating and quirky stori…",
         "description_sentiment_score": 0.9099,
         "_deepnote_index_column": 1143
        },
        {
         "title": "Dare Me",
         "description": "Relationships topple and loyalties flip when an icy new cheerleading coach takes over the high scho…",
         "description_sentiment_score": 0.9087,
         "_deepnote_index_column": 1477
        },
        {
         "title": "JJ+E",
         "description": "Elisabeth and John-John live in the same city, but they inhabit different worlds. Can a passionate …",
         "description_sentiment_score": 0.9081,
         "_deepnote_index_column": 93
        },
        {
         "title": "The Game Changers",
         "description": "Special Forces trainer James Wilks asks elite athletes to compare the merits of meat, protein and p…",
         "description_sentiment_score": 0.9081,
         "_deepnote_index_column": 3422
        },
        {
         "title": "Adam Ruins Everything",
         "description": "Education can be fun – and funny. Comedian Adam Conover bursts misconceptions, deconstructs topics …",
         "description_sentiment_score": 0.9081,
         "_deepnote_index_column": 6089
        },
        {
         "title": "The One",
         "description": "Love — and lies — spiral when a DNA researcher helps discover a way to find the perfect partner, an…",
         "description_sentiment_score": 0.9081,
         "_deepnote_index_column": 1217
        },
        {
         "title": "Nadiya’s Time to Eat",
         "description": "On this cooking show, Nadiya Hussain serves up delicious shortcuts, vital ingredients and fast favo…",
         "description_sentiment_score": 0.9081,
         "_deepnote_index_column": 2609
        },
        {
         "title": "The Circle Brazil",
         "description": "Be yourself or someone else? In this fun reality competition, online players try their best to flir…",
         "description_sentiment_score": 0.9076,
         "_deepnote_index_column": 2827
        },
        {
         "title": "Bob Ross: Beauty Is Everywhere",
         "description": "\"The Joy of Painting\" host Bob Ross brings his signature wet-on-wet style to a bevy of bucolic land…",
         "description_sentiment_score": 0.9062,
         "_deepnote_index_column": 6347
        },
        {
         "title": "Katti Batti",
         "description": "After falling in love during college, architect Maddy and free spirit Payal have five wonderful yea…",
         "description_sentiment_score": 0.9062,
         "_deepnote_index_column": 4448
        },
        {
         "title": "Fresh, Fried & Crispy",
         "description": "Passionate about food and ready for fun, critic Daym Drops drops in on America's smokin' hot spots …",
         "description_sentiment_score": 0.9062,
         "_deepnote_index_column": 748
        },
        {
         "title": "Mighty Little Bheem: Festival of Colors",
         "description": "From surprising stage performances to spraying colors with friends, join baby Bheem for all his Hol…",
         "description_sentiment_score": 0.9062,
         "_deepnote_index_column": 2841
        },
        {
         "title": "Ginny Weds Sunny",
         "description": "Eager to marry but constantly rejected by women, a bachelor hopes to win over a former crush by acc…",
         "description_sentiment_score": 0.9052,
         "_deepnote_index_column": 1869
        },
        {
         "title": "Garuda in My Heart 2",
         "description": "A young soccer player sets out to prove he can lead his team to a championship – but being a winner…",
         "description_sentiment_score": 0.9051,
         "_deepnote_index_column": 6829
        },
        {
         "title": "Hitch",
         "description": "Smooth and sexy Hitch helps clients make a great first impression on a date, but he's thrown when a…",
         "description_sentiment_score": 0.9042,
         "_deepnote_index_column": 6977
        },
        {
         "title": "She's the One",
         "description": "When his best friend gets stranded in the rain and becomes the subject of a romantic viral video, a…",
         "description_sentiment_score": 0.9042,
         "_deepnote_index_column": 1566
        },
        {
         "title": "Mystery Men",
         "description": "A team of far-from-super heroes try to earn respect by springing into action when brave and dashing…",
         "description_sentiment_score": 0.9042,
         "_deepnote_index_column": 164
        },
        {
         "title": "Firedrake the Silver Dragon",
         "description": "When his home is threatened by humans, a young dragon summons the courage to seek a mythical paradi…",
         "description_sentiment_score": 0.9042,
         "_deepnote_index_column": 80
        },
        {
         "title": "Desperados",
         "description": "After drunkenly sending a cringeworthy email, hopeless romantic Wes heads to Mexico with her best f…",
         "description_sentiment_score": 0.9042,
         "_deepnote_index_column": 2294
        },
        {
         "title": "Dancing with the Birds",
         "description": "From ruffling their majestic feathers to nailing im-peck-able courtship routines, birds in paradise…",
         "description_sentiment_score": 0.9042,
         "_deepnote_index_column": 3386
        },
        {
         "title": "The Ultimatum",
         "description": "Love and intrigue swirl around two women – one a champion of human rights, the other an ambitious b…",
         "description_sentiment_score": 0.9042,
         "_deepnote_index_column": 5405
        },
        {
         "title": "Keeping the Bees",
         "description": "Ayşe returns from Germany to her Black Sea hometown and sets out to fulfill her mom's dying wish — …",
         "description_sentiment_score": 0.9022,
         "_deepnote_index_column": 1162
        },
        {
         "title": "Alexa & Katie",
         "description": "Alexa is battling cancer. But with her best friend, Katie, by her side, she's also starting high sc…",
         "description_sentiment_score": 0.9022,
         "_deepnote_index_column": 2388
        },
        {
         "title": "Goldie & Bear",
         "description": "Best pals Goldie and Bear, from \"Goldilocks and the Three Bears,\" join other characters from belove…",
         "description_sentiment_score": 0.9022,
         "_deepnote_index_column": 6868
        },
        {
         "title": "Lost & Found Music Studios",
         "description": "Teen singers-songwriters in an elite music program form bonds of friendship, creativity and romance…",
         "description_sentiment_score": 0.9022,
         "_deepnote_index_column": 5692
        },
        {
         "title": "Dream Home Makeover",
         "description": "Dreams come true for real families looking for the perfect home tailored to their own unique style,…",
         "description_sentiment_score": 0.9022,
         "_deepnote_index_column": 1449
        },
        {
         "title": "Bo on the Go!",
         "description": "Staying at home doesn't mean sitting still for energetic Bo and her little dragon friend Dezzy, who…",
         "description_sentiment_score": 0.9005,
         "_deepnote_index_column": 3988
        },
        {
         "title": "Superlopez",
         "description": "In this adaptation of the comic strip, Juan López must balance an office job with heroic feats to s…",
         "description_sentiment_score": 0.9001,
         "_deepnote_index_column": 3977
        },
        {
         "title": "Incomplete",
         "description": "A man returns to his childhood hometown, where he meets the happily married woman he once jilted, w…",
         "description_sentiment_score": 0.9001,
         "_deepnote_index_column": 7064
        },
        {
         "title": "Girlfriends",
         "description": "Four close friends in Los Angeles challenge and support each other through life's triumphs and disa…",
         "description_sentiment_score": 0.9001,
         "_deepnote_index_column": 2009
        },
        {
         "title": "Jen Kirkman: I'm Gonna Die Alone (And I Feel Fine)",
         "description": "Jen Kirkman delivers some sharp, hilarious truths about divorce, kids, sex and turning 40 in this N…",
         "description_sentiment_score": 0.9001,
         "_deepnote_index_column": 5911
        },
        {
         "title": "Luna Petunia",
         "description": "With help from her magic toy chest, fun-loving Luna Petunia enters the fantastic land of Amazia, wh…",
         "description_sentiment_score": 0.9001,
         "_deepnote_index_column": 5166
        },
        {
         "title": "Bridgerton",
         "description": "The eight close-knit siblings of the Bridgerton family look for love and happiness in London high s…",
         "description_sentiment_score": 0.9001,
         "_deepnote_index_column": 1492
        },
        {
         "title": "Super Monsters: Dia de los Monsters",
         "description": "The Super Monsters celebrate Día de los Muertos in Vida’s hometown with her magical family, some ne…",
         "description_sentiment_score": 0.8999,
         "_deepnote_index_column": 1871
        },
        {
         "title": "ICarly",
         "description": "A cyberstar is born when 13-year-old Carly creates an Internet series with a little help from her b…",
         "description_sentiment_score": 0.8981,
         "_deepnote_index_column": 1332
        },
        {
         "title": "Project Papa",
         "description": "When a busy entrepreneur pauses her career to spend time with her aging father, both learn valuable…",
         "description_sentiment_score": 0.8979,
         "_deepnote_index_column": 2414
        },
        {
         "title": "Sugar Rush Christmas",
         "description": "It's everything you love about \"Sugar Rush\" – with a holly jolly holiday twist – in this Christmas-…",
         "description_sentiment_score": 0.8979,
         "_deepnote_index_column": 1641
        },
        {
         "title": "Sid the Science Kid",
         "description": "Armed with a healthy sense of humor and the help of his teacher, friends and family, curious kid Si…",
         "description_sentiment_score": 0.8979,
         "_deepnote_index_column": 8015
        },
        {
         "title": "Zona Rosa",
         "description": "An assortment of talent takes the stage for a night of honest stand-up featuring four of Mexico's f…",
         "description_sentiment_score": 0.8979,
         "_deepnote_index_column": 3232
        },
        {
         "title": "Ainori Love Wagon: African Journey",
         "description": "To find love, seven strangers leave Japan and embark on a journey through the continent of Africa t…",
         "description_sentiment_score": 0.8977,
         "_deepnote_index_column": 2977
        },
        {
         "title": "Rainbow Rangers",
         "description": "When Earth's animals and natural wonders need a rescue, the Rainbow Rangers combine their colorful …",
         "description_sentiment_score": 0.8977,
         "_deepnote_index_column": 588
        },
        {
         "title": "I Lost My Body",
         "description": "Romance, mystery and adventure intertwine as a young man falls in love and a severed hand scours Pa…",
         "description_sentiment_score": 0.8957,
         "_deepnote_index_column": 3210
        },
        {
         "title": "Krishna Cottage",
         "description": "True love is put to the test when another woman comes between a pair of star-crossed young lovers i…",
         "description_sentiment_score": 0.8957,
         "_deepnote_index_column": 200
        },
        {
         "title": "What Would Sophia Loren Do?",
         "description": "In this delightful short documentary, an Italian American grandmother and film buff finds strength …",
         "description_sentiment_score": 0.8957,
         "_deepnote_index_column": 1411
        }
       ],
       "rows_bottom": [
        {
         "title": "Suzzanna: Buried Alive",
         "description": "After a pregnant woman is murdered, her spirit seeks revenge against her increasingly terrified kil…",
         "description_sentiment_score": -0.9022,
         "_deepnote_index_column": 3948
        },
        {
         "title": "Chosen",
         "description": "When a mysterious box arrives at his door, a doctor and father is forced to participate in a twiste…",
         "description_sentiment_score": -0.9022,
         "_deepnote_index_column": 3414
        },
        {
         "title": "Ice Fantasy",
         "description": "The Ice Tribe prince journeys to a sacred mountain to vanquish evil but soon finds himself at war w…",
         "description_sentiment_score": -0.9032,
         "_deepnote_index_column": 5670
        },
        {
         "title": "Remember Me",
         "description": "Tyler's still feeling lost following the tragedy that's strained his relationship with his father w…",
         "description_sentiment_score": -0.9042,
         "_deepnote_index_column": 7854
        },
        {
         "title": "Lilli",
         "description": "A woman who's about to give birth finds her maternal instincts kicking in when she's abducted, impr…",
         "description_sentiment_score": -0.9042,
         "_deepnote_index_column": 4285
        },
        {
         "title": "London Heist",
         "description": "After a heist gone wrong, a career criminal gradually uncovers the hidden motive behind his father'…",
         "description_sentiment_score": -0.9042,
         "_deepnote_index_column": 1458
        },
        {
         "title": "The Plagues of Breslau",
         "description": "After a body is found sewn inside a cow hide, a Wrocław detective discovers a killer is recreating …",
         "description_sentiment_score": -0.9042,
         "_deepnote_index_column": 2653
        },
        {
         "title": "Brotherhood of Blades II: The Infernal Battlefield",
         "description": "While tracking down a seditious painter, an imperial guard is accused of a royal assassination atte…",
         "description_sentiment_score": -0.9042,
         "_deepnote_index_column": 6380
        },
        {
         "title": "NCIS",
         "description": "Follow the quirky agents of the NCIS – the Naval Criminal Investigative Service – as they track dow…",
         "description_sentiment_score": -0.9042,
         "_deepnote_index_column": 4798
        },
        {
         "title": "The World Is Not Enough",
         "description": "Greed, revenge, world domination: It's all in a day's work for James Bond, who's on a mission to pr…",
         "description_sentiment_score": -0.9062,
         "_deepnote_index_column": 8564
        },
        {
         "title": "Krishna and His Leela",
         "description": "Torn between his past and present girlfriends, a confused bachelor’s indecisiveness spins a web of …",
         "description_sentiment_score": -0.9062,
         "_deepnote_index_column": 2338
        },
        {
         "title": "Paint It Black",
         "description": "In the wake of a young artist’s suicide, his pianist mother and his despairing girlfriend square of…",
         "description_sentiment_score": -0.9062,
         "_deepnote_index_column": 7696
        },
        {
         "title": "Winter Sun",
         "description": "Years after ruthless businessmen kill his father and order the death of his twin brother, a modest …",
         "description_sentiment_score": -0.9062,
         "_deepnote_index_column": 8749
        },
        {
         "title": "Headshot",
         "description": "When a young man wakes from a coma, memories of brutal violence begin to surface, putting his life …",
         "description_sentiment_score": -0.9062,
         "_deepnote_index_column": 5442
        },
        {
         "title": "Evil Genius",
         "description": "This baffling true crime story starts with the grisly death of a pizza man who robs a bank with a b…",
         "description_sentiment_score": -0.9062,
         "_deepnote_index_column": 4867
        },
        {
         "title": "One of Us",
         "description": "In the wake of trauma and abuse, three Hasidic Jews face ostracism, anxiety and danger as they atte…",
         "description_sentiment_score": -0.9062,
         "_deepnote_index_column": 5209
        },
        {
         "title": "Karzzzz",
         "description": "When flashbacks reveal that he's the reincarnation of a man murdered by his wife, rock star Monty s…",
         "description_sentiment_score": -0.9062,
         "_deepnote_index_column": 7169
        },
        {
         "title": "Last Flight to Abuja",
         "description": "When disaster strikes mid-flight, a commercial plane's frantic passengers confront their pasts and …",
         "description_sentiment_score": -0.9062,
         "_deepnote_index_column": 2381
        },
        {
         "title": "The Writer",
         "description": "When accused of a murder eerily parallel to a plot in his novel, a best-selling crime writer must n…",
         "description_sentiment_score": -0.9062,
         "_deepnote_index_column": 3855
        },
        {
         "title": "Unknown Origins",
         "description": "A very chiseled but somber detective must find a serial killer who leaves clues that only his mento…",
         "description_sentiment_score": -0.9071,
         "_deepnote_index_column": 2088
        },
        {
         "title": "Madre",
         "description": "Pregnant and overwhelmed, Diana hires a caretaker for her son with severe autism. But she soon begi…",
         "description_sentiment_score": -0.9072,
         "_deepnote_index_column": 7374
        },
        {
         "title": "Kaabil",
         "description": "The happy life of a young blind couple is shattered when the wife is raped and corrupt police won't…",
         "description_sentiment_score": -0.9073,
         "_deepnote_index_column": 7158
        },
        {
         "title": "Cairo Station",
         "description": "A Cairo newsstand vendor's fantasies morph into a dangerous fixation with a lemonade seller as a se…",
         "description_sentiment_score": -0.9081,
         "_deepnote_index_column": 2368
        },
        {
         "title": "Tiger",
         "description": "Imprisoned for drug smuggling as a child, a young man uses the law he studied while in jail to take…",
         "description_sentiment_score": -0.9081,
         "_deepnote_index_column": 4609
        },
        {
         "title": "Unroyal",
         "description": "When a rude and arrogant princess finds herself relying on a gatekeeper after a terrible accident, …",
         "description_sentiment_score": -0.9081,
         "_deepnote_index_column": 268
        },
        {
         "title": "The Look of Silence",
         "description": "In a society terrorized into silence, the brother of a 1960s Indonesian genocide victim learns the …",
         "description_sentiment_score": -0.9081,
         "_deepnote_index_column": 8403
        },
        {
         "title": "Metro",
         "description": "Disgusted by the gold-chain snatchers in his home city of Chennai, a man vows to combat the crimina…",
         "description_sentiment_score": -0.9081,
         "_deepnote_index_column": 4953
        },
        {
         "title": "Muqaddar ka Faisla",
         "description": "God-fearing Pandit Krishna Kant loses everything and turns to a life of crime after his landlord tr…",
         "description_sentiment_score": -0.9081,
         "_deepnote_index_column": 2738
        },
        {
         "title": "Automata",
         "description": "In a dystopian future, an insurance adjuster for a tech company investigates a robot killed for vio…",
         "description_sentiment_score": -0.9081,
         "_deepnote_index_column": 6199
        },
        {
         "title": "Freedom at Midnight",
         "description": "Jailed after becoming entangled in the murder of a cop, a prisoner assembles a team of inmates to h…",
         "description_sentiment_score": -0.9081,
         "_deepnote_index_column": 4566
        },
        {
         "title": "Trial 4",
         "description": "Charged as a teen in the 1993 killing of a Boston cop, Sean K. Ellis fights to prove his innocence …",
         "description_sentiment_score": -0.91,
         "_deepnote_index_column": 1718
        },
        {
         "title": "Blood Will Tell",
         "description": "Family patriarch Elías begins to unravel after the death of his wife – which casts a suspicious lig…",
         "description_sentiment_score": -0.91,
         "_deepnote_index_column": 3718
        },
        {
         "title": "Enter the Dragon",
         "description": "Recruited by a British agent, Shaolin master Lee infiltrates a remote island and a brutal martial a…",
         "description_sentiment_score": -0.91,
         "_deepnote_index_column": 6701
        },
        {
         "title": "The Promise",
         "description": "When his powerful crime czar boss kills the man he considered a mentor, a young gangster on the ris…",
         "description_sentiment_score": -0.91,
         "_deepnote_index_column": 2637
        },
        {
         "title": "MOTHER",
         "description": "Shuhei’s erratic mother feels threatened when he starts to awaken to a world beyond her distorted c…",
         "description_sentiment_score": -0.91,
         "_deepnote_index_column": 1743
        },
        {
         "title": "Motor Mitraan Di",
         "description": "When three brothers unwittingly get entangled in a murder associated with a fraudulent ashram leade…",
         "description_sentiment_score": -0.9118,
         "_deepnote_index_column": 4585
        },
        {
         "title": "The Pharmacist",
         "description": "After his son's tragic death, a Louisiana pharmacist goes to extremes to expose the rampant corrupt…",
         "description_sentiment_score": -0.9118,
         "_deepnote_index_column": 2948
        },
        {
         "title": "Motu Patlu in Hong Kong: Kung Fu Kings 3",
         "description": "With a dangerous villain to defeat in Hong Kong, Motu takes his martial arts skills to the next lev…",
         "description_sentiment_score": -0.9118,
         "_deepnote_index_column": 1071
        },
        {
         "title": "Drishyam",
         "description": "An unexceptional man becomes a murder suspect when the son of a high-ranking police official who ha…",
         "description_sentiment_score": -0.9118,
         "_deepnote_index_column": 2272
        },
        {
         "title": "Devilman Crybaby",
         "description": "With demons reawakened and humanity in turmoil, a sensitive demon-boy is led into a brutal, degener…",
         "description_sentiment_score": -0.9136,
         "_deepnote_index_column": 5092
        },
        {
         "title": "The Crimes That Bind",
         "description": "When her son is accused of raping and trying to murder his ex-wife, Alicia embarks on a journey tha…",
         "description_sentiment_score": -0.9136,
         "_deepnote_index_column": 2111
        },
        {
         "title": "The Staircase",
         "description": "Accident or murder? After the mysterious death of his wife, author Michael Peterson watches his lif…",
         "description_sentiment_score": -0.9136,
         "_deepnote_index_column": 4836
        },
        {
         "title": "Casino Tycoon 2",
         "description": "Casino mogul Benny Ho wields enormous power. But a feud with his former partner and a massive fraud…",
         "description_sentiment_score": -0.9136,
         "_deepnote_index_column": 6429
        },
        {
         "title": "O Silêncio do Céu",
         "description": "After being raped in her home, a married woman chooses not to tell her husband, unaware that he has…",
         "description_sentiment_score": -0.9153,
         "_deepnote_index_column": 5626
        },
        {
         "title": "Rahasya",
         "description": "The murder of a teenage girl found dead in her bedroom opens up a twisted investigation that leads …",
         "description_sentiment_score": -0.9153,
         "_deepnote_index_column": 7821
        },
        {
         "title": "Vendetta: Truth, Lies and The Mafia",
         "description": "Sicily boasts a bold \"Anti-Mafia\" coalition. But what happens when those trying to bring down organ…",
         "description_sentiment_score": -0.9153,
         "_deepnote_index_column": 10
        },
        {
         "title": "The Yin Yang Master",
         "description": "A feud erupts between realms, and Yin Yang master Qing Ming teams up with disgraced guard Yuan Boya…",
         "description_sentiment_score": -0.9153,
         "_deepnote_index_column": 1184
        },
        {
         "title": "Kuldip Patwal: I Didn't Do It!",
         "description": "Accused of killing a politician, a local grocer’s fight to prove his innocence reveals his lifelong…",
         "description_sentiment_score": -0.9153,
         "_deepnote_index_column": 7238
        },
        {
         "title": "The Decline",
         "description": "An accident at a remote training camp leaves a group of survivalists bitterly divided — and caught …",
         "description_sentiment_score": -0.9153,
         "_deepnote_index_column": 2768
        },
        {
         "title": "Victim Number 8",
         "description": "No one can be trusted after a terrorist bombing in Bilbao kills seven and destroys the lives of the…",
         "description_sentiment_score": -0.9153,
         "_deepnote_index_column": 3587
        },
        {
         "title": "The Heroes of Evil",
         "description": "Three teenage misfits find camaraderie in sex, violence and petty crime. But what starts as a lark …",
         "description_sentiment_score": -0.9169,
         "_deepnote_index_column": 8343
        },
        {
         "title": "Hunt to Kill",
         "description": "U.S. Border Patrol agent and deadly hunter Jim Rhodes takes violent revenge when a group of despera…",
         "description_sentiment_score": -0.9169,
         "_deepnote_index_column": 7026
        },
        {
         "title": "Manhunt",
         "description": "A Chinese pharmaceutical lawyer framed for a vile crime teams up with a sharp-witted Japanese detec…",
         "description_sentiment_score": -0.9169,
         "_deepnote_index_column": 4881
        },
        {
         "title": "Wake Up",
         "description": "After taking the blame for a patient death, an anesthesiologist battling psychiatric trauma fights …",
         "description_sentiment_score": -0.9169,
         "_deepnote_index_column": 8690
        },
        {
         "title": "Alone in Berlin",
         "description": "After learning of their son's death on the battlefield, a grieving Berlin couple embark on a quietl…",
         "description_sentiment_score": -0.9169,
         "_deepnote_index_column": 6122
        },
        {
         "title": "Chhota Bheem And The Broken Amulet",
         "description": "When a stranger tries to steal an amulet from the palace, Bheem learns the sad story behind the orn…",
         "description_sentiment_score": -0.9169,
         "_deepnote_index_column": 410
        },
        {
         "title": "An Ordinary Man",
         "description": "A war criminal in hiding begins to suspect that the maid, his only confidant and contact with the o…",
         "description_sentiment_score": -0.9169,
         "_deepnote_index_column": 1903
        },
        {
         "title": "Larceny",
         "description": "An ex-CIA contractor turned thief is forced to head a CIA gambit to infiltrate a black ops Mexican …",
         "description_sentiment_score": -0.9169,
         "_deepnote_index_column": 7267
        },
        {
         "title": "Gang of the Caribbean",
         "description": "Disillusioned by life in 1970s France, a West Indian expatriate named Jimmy joins a gang of idealis…",
         "description_sentiment_score": -0.9169,
         "_deepnote_index_column": 2972
        },
        {
         "title": "Michael",
         "description": "After a dedicated cop accidentally kills a 12-year-old boy, he's fired, harassed and forced to take…",
         "description_sentiment_score": -0.9186,
         "_deepnote_index_column": 2279
        },
        {
         "title": "Demon's Path",
         "description": "To catch three criminal masterminds, a group of cops teams up with a forensic pathologist who can s…",
         "description_sentiment_score": -0.9186,
         "_deepnote_index_column": 4263
        },
        {
         "title": "The Keepers",
         "description": "This docuseries examines the decades-old murder of Sister Catherine Cesnik and its suspected link t…",
         "description_sentiment_score": -0.9186,
         "_deepnote_index_column": 5479
        },
        {
         "title": "Animas",
         "description": "A teen's eerie visions become increasingly frequent and terrifying after her longtime friend gets a…",
         "description_sentiment_score": -0.9186,
         "_deepnote_index_column": 4165
        },
        {
         "title": "Bordertown",
         "description": "A gifted detective takes a job in a small town so he can spend more time with his family. But he's …",
         "description_sentiment_score": -0.9186,
         "_deepnote_index_column": 2546
        },
        {
         "title": "The Rover",
         "description": "Set in a chaotic future, this Outback saga follows loner Eric's brutal ordeal when a criminal gang …",
         "description_sentiment_score": -0.9186,
         "_deepnote_index_column": 8493
        },
        {
         "title": "Designated Survivor: 60 Days",
         "description": "When the National Assembly suffers a catastrophic attack, Minister of Environment Park Mu-jin must …",
         "description_sentiment_score": -0.9201,
         "_deepnote_index_column": 3690
        },
        {
         "title": "My Pride",
         "description": "After their mother's death, Amal and her brothers struggle to live with their authoritarian father,…",
         "description_sentiment_score": -0.9201,
         "_deepnote_index_column": 4012
        },
        {
         "title": "Company",
         "description": "Following a misunderstanding, a gangster and his boss part ways and become bitter enemies – with de…",
         "description_sentiment_score": -0.9201,
         "_deepnote_index_column": 6522
        },
        {
         "title": "The Texas Chainsaw Massacre",
         "description": "When some friends visit a vandalized graveyard, they come upon a chainsaw-wielding maniac, and it's…",
         "description_sentiment_score": -0.9201,
         "_deepnote_index_column": 8527
        },
        {
         "title": "John Day",
         "description": "A bank manager and his wife, still grieving over their daughter who died in a fire, become pawns in…",
         "description_sentiment_score": -0.9201,
         "_deepnote_index_column": 7137
        },
        {
         "title": "Acts of Vengeance",
         "description": "Devastated by the murder of his wife and child, a formerly fast-talking lawyer takes a vow of silen…",
         "description_sentiment_score": -0.9201,
         "_deepnote_index_column": 5064
        },
        {
         "title": "Romina",
         "description": "A shocking assault inspires horrific violence when a group of teens encounters a girl from their sc…",
         "description_sentiment_score": -0.9201,
         "_deepnote_index_column": 4775
        },
        {
         "title": "Nimbe",
         "description": "A bullied teenager gravitates toward the acceptance he finds in a street gang but soon ends up invo…",
         "description_sentiment_score": -0.9201,
         "_deepnote_index_column": 2209
        },
        {
         "title": "Honeytrap",
         "description": "New to London, a naive and desperate teenager tries to fit in but instead becomes tragically implic…",
         "description_sentiment_score": -0.9209,
         "_deepnote_index_column": 2496
        },
        {
         "title": "American Assassin",
         "description": "After grad student Mitch Rapp suffers a tragic loss during a terrorist attack, his single-minded th…",
         "description_sentiment_score": -0.9217,
         "_deepnote_index_column": 6134
        },
        {
         "title": "War Against Women",
         "description": "Filmed over three years in 10 countries, this documentary gives voice to the women who have become …",
         "description_sentiment_score": -0.9217,
         "_deepnote_index_column": 3697
        },
        {
         "title": "Hasta los dientes",
         "description": "This documentary follows the controversy surrounding the 2010 murders of two students, who were fra…",
         "description_sentiment_score": -0.9217,
         "_deepnote_index_column": 3596
        },
        {
         "title": "Thriller",
         "description": "When a prank goes wrong, a shy kid from Compton is sent away for murder. Four years later, he’s bac…",
         "description_sentiment_score": -0.9217,
         "_deepnote_index_column": 3919
        },
        {
         "title": "The Highwaymen",
         "description": "Two steely former Texas Rangers are tasked with tracking and killing infamous criminals Bonnie and …",
         "description_sentiment_score": -0.922,
         "_deepnote_index_column": 3966
        },
        {
         "title": "All Light Will End",
         "description": "A horror novelist with a traumatic past returns to her childhood hometown, where she revisits her n…",
         "description_sentiment_score": -0.9231,
         "_deepnote_index_column": 6119
        },
        {
         "title": "Badland",
         "description": "A detective with a license to kill roams the Old West to wrangle Confederate war criminals and meet…",
         "description_sentiment_score": -0.9231,
         "_deepnote_index_column": 6218
        },
        {
         "title": "Dennis the Menace",
         "description": "The bane of George's life is a little boy named Dennis. But when a cunning thief attempts to rob Ge…",
         "description_sentiment_score": -0.9231,
         "_deepnote_index_column": 568
        },
        {
         "title": "Untold: Deal With the Devil",
         "description": "Christy Martin broke boundaries and noses as she rose in the boxing world, but her public persona b…",
         "description_sentiment_score": -0.9231,
         "_deepnote_index_column": 262
        },
        {
         "title": "Counterfeiting in Suburbia",
         "description": "Two teenagers print counterfeit money in their high school art room, but things go terribly wrong w…",
         "description_sentiment_score": -0.9231,
         "_deepnote_index_column": 6537
        },
        {
         "title": "Clinical",
         "description": "A psychiatrist is plagued by flashbacks to a terrifying attack as she treats a new patient who was …",
         "description_sentiment_score": -0.9231,
         "_deepnote_index_column": 5637
        },
        {
         "title": "Cracked Up: The Darrell Hammond Story",
         "description": "\"Saturday Night Live\" star Darrell Hammond reveals the extreme abuse he suffered during childhood, …",
         "description_sentiment_score": -0.9246,
         "_deepnote_index_column": 2577
        },
        {
         "title": "Enemigo íntimo",
         "description": "Siblings separated as children who no longer recognize each other are pitted against each other in …",
         "description_sentiment_score": -0.9246,
         "_deepnote_index_column": 6697
        },
        {
         "title": "Await Further Instructions",
         "description": "A family’s tense reunion turns terrifying when they get trapped in their home by an unknown force, …",
         "description_sentiment_score": -0.9246,
         "_deepnote_index_column": 4133
        },
        {
         "title": "Beckett",
         "description": "An American tourist goes on the run in Greece after a tragic accident plunges him into a political …",
         "description_sentiment_score": -0.9246,
         "_deepnote_index_column": 270
        },
        {
         "title": "Woodshock",
         "description": "Shattered after her mother's death, a woman floats away from reality under the effect of a potent, …",
         "description_sentiment_score": -0.9246,
         "_deepnote_index_column": 2350
        },
        {
         "title": "Austin Powers in Goldmember",
         "description": "The world's most shagadelic spy continues his fight against the diabolical Dr. Evil, who's teamed w…",
         "description_sentiment_score": -0.926,
         "_deepnote_index_column": 561
        },
        {
         "title": "Underworld: Awakening",
         "description": "As the war between vampires and Lycans rages on, Selene awakens from a prolonged, forced cryogenic …",
         "description_sentiment_score": -0.926,
         "_deepnote_index_column": 611
        },
        {
         "title": "Sniper: Legacy",
         "description": "When a troubled sniper begins killing officers he blames for a bungled mission, elite marksman Bran…",
         "description_sentiment_score": -0.926,
         "_deepnote_index_column": 808
        },
        {
         "title": "The Salvation",
         "description": "In the Old West, a Danish homesteader avenges the murder of his wife and son, only to unleash a gan…",
         "description_sentiment_score": -0.926,
         "_deepnote_index_column": 8496
        },
        {
         "title": "Memoir of a Murderer",
         "description": "Hiding his own murderous past, a man suffering from Alzheimer's must protect his daughter from her …",
         "description_sentiment_score": -0.9274,
         "_deepnote_index_column": 7440
        },
        {
         "title": "Sinister Circle",
         "description": "A psychologist and her mute son confront evil forces at the site of a terrible tragedy involving an…",
         "description_sentiment_score": -0.9274,
         "_deepnote_index_column": 8026
        },
        {
         "title": "The Place Beyond the Pines",
         "description": "A violent confrontation between a motorcycle-riding bank robber and a rookie cop spirals into a ten…",
         "description_sentiment_score": -0.9274,
         "_deepnote_index_column": 8458
        },
        {
         "title": "Spartacus",
         "description": "A Thracian man is condemned to a brutal death in the arena, only to outlast his executioners and be…",
         "description_sentiment_score": -0.9274,
         "_deepnote_index_column": 8064
        },
        {
         "title": "Night in Paradise",
         "description": "Hiding out in Jeju Island following a brutal tragedy, a wronged mobster with a target on his back c…",
         "description_sentiment_score": -0.9274,
         "_deepnote_index_column": 1085
        },
        {
         "title": "Brij Mohan Amar Rahe",
         "description": "Faking his death to escape the realities of his uneventful life worked out well for Brij Mohan – un…",
         "description_sentiment_score": -0.9274,
         "_deepnote_index_column": 4714
        },
        {
         "title": "Sick Note",
         "description": "After slacker Daniel Glass is misdiagnosed with cancer, his lies lead him into an absurd web of fra…",
         "description_sentiment_score": -0.9274,
         "_deepnote_index_column": 4367
        },
        {
         "title": "One-Punch Man",
         "description": "The most powerful superhero in the world can kill anyone with one blow. But nothing can challenge h…",
         "description_sentiment_score": -0.9281,
         "_deepnote_index_column": 5563
        },
        {
         "title": "Nneka The Pretty Serpent",
         "description": "Years after the mysterious murder of her parents, a traumatized woman gains supernatural powers tha…",
         "description_sentiment_score": -0.9287,
         "_deepnote_index_column": 256
        },
        {
         "title": "Oklahoma City",
         "description": "Domestic terrorist Timothy McVeigh's bomb attack on an Oklahoma City federal building in 1995 is ch…",
         "description_sentiment_score": -0.9287,
         "_deepnote_index_column": 7647
        },
        {
         "title": "40 Sticks",
         "description": "When their prison bus crashes in a forest on a rainy night, a group of criminals finds themselves b…",
         "description_sentiment_score": -0.9287,
         "_deepnote_index_column": 1665
        },
        {
         "title": "Die Ontwaking",
         "description": "An inexperienced murder detective joins a desperate search for a deranged serial killer who possess…",
         "description_sentiment_score": -0.9287,
         "_deepnote_index_column": 2990
        },
        {
         "title": "Rectify",
         "description": "Convicted of rape and murder at age 18, Daniel Holden spends nearly 20 years on death row until DNA…",
         "description_sentiment_score": -0.9287,
         "_deepnote_index_column": 7842
        },
        {
         "title": "Occupied",
         "description": "In the near future, Russia initiates a \"silk glove\" invasion of Norway to restart oil production, b…",
         "description_sentiment_score": -0.9294,
         "_deepnote_index_column": 3082
        },
        {
         "title": "LEGO Marvel Super Heroes: Black Panther",
         "description": "When Thanos joins forces with villains Killmonger and Klaue to destroy Earth, Black Panther rushes …",
         "description_sentiment_score": -0.93,
         "_deepnote_index_column": 4139
        },
        {
         "title": "23:59",
         "description": "When an army recruit is found dead, his fellow soldiers are forced to confront a terrifying secret …",
         "description_sentiment_score": -0.93,
         "_deepnote_index_column": 4277
        },
        {
         "title": "Soul Robbers",
         "description": "During Mexico's War of Independence, a group of men face unimaginable horrors when they attempt to …",
         "description_sentiment_score": -0.93,
         "_deepnote_index_column": 4799
        },
        {
         "title": "Kaalia",
         "description": "Jailed for robbing his brother’s unscrupulous employer, a simpleton has a transformation while in p…",
         "description_sentiment_score": -0.93,
         "_deepnote_index_column": 7160
        },
        {
         "title": "Manhunt: Deadly Games",
         "description": "Despite his heroics, security guard Richard Jewell becomes a suspect in the FBI investigation of a …",
         "description_sentiment_score": -0.9302,
         "_deepnote_index_column": 1585
        },
        {
         "title": "Ghost Pain",
         "description": "World War IV is over, but a bomb has gone off in Newport City, killing a major arms dealer who may …",
         "description_sentiment_score": -0.9306,
         "_deepnote_index_column": 6846
        },
        {
         "title": "Tokyo Trial",
         "description": "In the wake of World War II, 11 Allied judges are tasked with weighing the fates of Japanese war cr…",
         "description_sentiment_score": -0.9313,
         "_deepnote_index_column": 5677
        },
        {
         "title": "Qila",
         "description": "When an abusive landowner is murdered, his twin brother sets out to find the killer but quickly dis…",
         "description_sentiment_score": -0.9313,
         "_deepnote_index_column": 5462
        },
        {
         "title": "Dexter",
         "description": "By day, mild-mannered Dexter is a blood-spatter analyst for the Miami police. But at night, he is a…",
         "description_sentiment_score": -0.9313,
         "_deepnote_index_column": 6603
        },
        {
         "title": "Adam: His Song Continues",
         "description": "After their child was abducted and murdered, John and Reve Walsh fought to raise national awareness…",
         "description_sentiment_score": -0.9313,
         "_deepnote_index_column": 5943
        },
        {
         "title": "Marvel's The Punisher",
         "description": "A former Marine out to punish the criminals responsible for his family's murder finds himself ensna…",
         "description_sentiment_score": -0.9313,
         "_deepnote_index_column": 4178
        },
        {
         "title": "Fallen",
         "description": "A tough homicide cop faces his most dangerous assignment when he must stop a murderous evil spirit …",
         "description_sentiment_score": -0.9324,
         "_deepnote_index_column": 6735
        },
        {
         "title": "Offering to the Storm",
         "description": "Amaia investigates several suspicious infant deaths and horrific rituals. Meanwhile, people around …",
         "description_sentiment_score": -0.9325,
         "_deepnote_index_column": 2210
        },
        {
         "title": "Man Down",
         "description": "A childish idiot trapped in an adult's body, schoolteacher Dan hates his job, hates his girlfriend-…",
         "description_sentiment_score": -0.9325,
         "_deepnote_index_column": 5149
        },
        {
         "title": "Her Mother's Killer",
         "description": "Nearly 30 years after her mom's murder, a political strategist launches a calculated plan to ruin t…",
         "description_sentiment_score": -0.9325,
         "_deepnote_index_column": 2093
        },
        {
         "title": "Aashayein",
         "description": "When he learns he has terminal cancer, a cynical gambler and chronic smoker ditches his fiancée, sn…",
         "description_sentiment_score": -0.9325,
         "_deepnote_index_column": 6074
        },
        {
         "title": "Nails",
         "description": "Recently paralyzed in a devastating car accident, Dana begins to suspect a dark and sinister force …",
         "description_sentiment_score": -0.9325,
         "_deepnote_index_column": 7555
        },
        {
         "title": "Riot",
         "description": "Seeking vengeance for the murder of his wife, a cop robs a bank in order to be thrown into prison w…",
         "description_sentiment_score": -0.9337,
         "_deepnote_index_column": 3072
        },
        {
         "title": "Passenger 57",
         "description": "Air marshal John Cutter must stop notorious terrorist Charles Rane from killing hostages on board a…",
         "description_sentiment_score": -0.9349,
         "_deepnote_index_column": 7711
        },
        {
         "title": "The Beast Stalker",
         "description": "Feeling guilty after a high-speed chase leaves a girl dead, a determined sergeant pursues the crime…",
         "description_sentiment_score": -0.936,
         "_deepnote_index_column": 3647
        },
        {
         "title": "My Honor Was Loyalty",
         "description": "Amid the chaos and horror of World War II, a committed German soldier fights a private battle with …",
         "description_sentiment_score": -0.9382,
         "_deepnote_index_column": 7537
        },
        {
         "title": "Basic Instinct",
         "description": "A detective investigating a rock star's brutal murder becomes drawn to the prime suspect — a myster…",
         "description_sentiment_score": -0.9382,
         "_deepnote_index_column": 6248
        },
        {
         "title": "Avengement",
         "description": "Betrayed by his loan shark brother, a hardened convict escapes from prison while on furlough to exa…",
         "description_sentiment_score": -0.9382,
         "_deepnote_index_column": 3511
        },
        {
         "title": "Carbon",
         "description": "On the verge of losing his business, an entrepreneur launches a carbon tax scam that thrusts him in…",
         "description_sentiment_score": -0.9403,
         "_deepnote_index_column": 4665
        },
        {
         "title": "Kung Fu Magoo",
         "description": "Shortsighted curmudgeon Mr. Magoo and his young nephew, Justin, fight such nefarious foes as kung f…",
         "description_sentiment_score": -0.9403,
         "_deepnote_index_column": 7240
        },
        {
         "title": "Desolate",
         "description": "In a severe, drought-ravaged dystopia, the youngest of a farm family starts a quest for revenge aft…",
         "description_sentiment_score": -0.9403,
         "_deepnote_index_column": 6594
        },
        {
         "title": "Errementari: The Blacksmith and the Devil",
         "description": "A brutal blacksmith tortures a demon he blames for his misery, unaware a trespassing orphan is abou…",
         "description_sentiment_score": -0.9413,
         "_deepnote_index_column": 4512
        },
        {
         "title": "Voice",
         "description": "A deft detective whose wife is killed by a serial murderer teams up with a rookie cop, a gifted voi…",
         "description_sentiment_score": -0.9413,
         "_deepnote_index_column": 1769
        },
        {
         "title": "Do the Right Thing",
         "description": "On a sweltering day in Brooklyn, simmering racial tensions between residents rise to the surface an…",
         "description_sentiment_score": -0.9413,
         "_deepnote_index_column": 139
        },
        {
         "title": "Je Suis Karl",
         "description": "After most of her family is murdered in a terrorist bombing, a young woman is unknowingly lured int…",
         "description_sentiment_score": -0.9419,
         "_deepnote_index_column": 12
        },
        {
         "title": "In Line",
         "description": "A convicted murderer gets out of prison and reunites with his wife, who is plotting revenge against…",
         "description_sentiment_score": -0.9423,
         "_deepnote_index_column": 1776
        },
        {
         "title": "The Cell",
         "description": "A special operations officer vows to get revenge against the terrorist who killed his friend in a b…",
         "description_sentiment_score": -0.9423,
         "_deepnote_index_column": 8240
        },
        {
         "title": "Convict",
         "description": "Sentenced to death for committing rape, a convict navigates his final trying days alongside his all…",
         "description_sentiment_score": -0.9423,
         "_deepnote_index_column": 6531
        },
        {
         "title": "Hot Property",
         "description": "When a resourceful but flighty Londoner is threatened with eviction, she vows to do whatever it tak…",
         "description_sentiment_score": -0.9428,
         "_deepnote_index_column": 7004
        },
        {
         "title": "Shiva VS Autobots",
         "description": "When an evil enemy gains control of a gadget that sends vehicles destructively spinning out of cont…",
         "description_sentiment_score": -0.9441,
         "_deepnote_index_column": 1076
        },
        {
         "title": "Ezel",
         "description": "A young man framed for a crime escapes a prison sentence by faking his own death and assuming a new…",
         "description_sentiment_score": -0.9442,
         "_deepnote_index_column": 6728
        },
        {
         "title": "Inspector Gadget",
         "description": "Inspector Gadget is back and must face his old enemy, the evil Dr. Claw, who has reactivated MAD, h…",
         "description_sentiment_score": -0.9463,
         "_deepnote_index_column": 4857
        },
        {
         "title": "The Wind",
         "description": "Isolated on a wind-ravaged 19th-century homestead, a frontierswoman begins to suspect that evil lur…",
         "description_sentiment_score": -0.9468,
         "_deepnote_index_column": 822
        },
        {
         "title": "Still",
         "description": "A haunted hotel, a body in a water tank, a nightclub fire and a prison death comprise four horror t…",
         "description_sentiment_score": -0.9468,
         "_deepnote_index_column": 8091
        },
        {
         "title": "Ghayal",
         "description": "Framed for his older brother's murder, a boxer seeks violent revenge against the true killer who's …",
         "description_sentiment_score": -0.9477,
         "_deepnote_index_column": 6844
        },
        {
         "title": "Uma Maheswara Ugra Roopasya",
         "description": "Defeated and humiliated in a fight while trying to defuse a conflict among his fellow villagers, a …",
         "description_sentiment_score": -0.9477,
         "_deepnote_index_column": 2193
        },
        {
         "title": "The Life of David Gale",
         "description": "When a Texas professor and advocate for the elimination of the death penalty is falsely accused of …",
         "description_sentiment_score": -0.9477,
         "_deepnote_index_column": 604
        },
        {
         "title": "Contract",
         "description": "Following the death of his wife and daughter in a terrorist attack, an ex-Indian army commando agre…",
         "description_sentiment_score": -0.9485,
         "_deepnote_index_column": 6530
        },
        {
         "title": "Kung Fu Panda 2",
         "description": "With his fists up and belly full, Po embarks on a perilous journey with the Furious Five to take on…",
         "description_sentiment_score": -0.9485,
         "_deepnote_index_column": 574
        },
        {
         "title": "In Darkness",
         "description": "A blind pianist fears for her life after the suspicious death of her neighbor, the daughter of a bu…",
         "description_sentiment_score": -0.9517,
         "_deepnote_index_column": 4626
        },
        {
         "title": "Who Killed Little Gregory?",
         "description": "When their 4-year-old son is murdered, a young couple fights a twisting and arduous battle trying t…",
         "description_sentiment_score": -0.9517,
         "_deepnote_index_column": 3255
        },
        {
         "title": "Paranoid",
         "description": "When a woman is brutally murdered on a playground, a group of detectives find themselves drawn into…",
         "description_sentiment_score": -0.9524,
         "_deepnote_index_column": 5716
        },
        {
         "title": "Angel Eyes",
         "description": "When a violent assault leaves her vulnerable, a streetwise Chicago cop receives help from a haunted…",
         "description_sentiment_score": -0.9538,
         "_deepnote_index_column": 6163
        },
        {
         "title": "Kucch To Hai",
         "description": "A student tries to steal a test from a teacher's home, leaving him for dead after an accident. A st…",
         "description_sentiment_score": -0.9584,
         "_deepnote_index_column": 201
        },
        {
         "title": "Krisha",
         "description": "After 10 years away from her family, Krisha returns for Thanksgiving, but bitter grudges and troubl…",
         "description_sentiment_score": -0.9587,
         "_deepnote_index_column": 7234
        },
        {
         "title": "Revenger",
         "description": "Hell-bent on avenging the murder of his family, a former detective infiltrates a remote island that…",
         "description_sentiment_score": -0.959,
         "_deepnote_index_column": 4192
        },
        {
         "title": "Pink",
         "description": "A sexual assault victim, unjustly tried for the attempted murder of her attacker, is defended by a …",
         "description_sentiment_score": -0.9623,
         "_deepnote_index_column": 5629
        },
        {
         "title": "The Mess You Leave Behind",
         "description": "A teacher starts her job at a high school but is haunted by a suspicious death that occurred there …",
         "description_sentiment_score": -0.9628,
         "_deepnote_index_column": 1559
        },
        {
         "title": "Hidden in Plain Sight",
         "description": "A woman stages her own suicide but still lives in fear of her abusive ex-boyfriend tracking her dow…",
         "description_sentiment_score": -0.9633,
         "_deepnote_index_column": 1774
        },
        {
         "title": "W/O Ram",
         "description": "Frustrated with the stalled investigation into her husband's murder, a woman searches for the kille…",
         "description_sentiment_score": -0.9648,
         "_deepnote_index_column": 4477
        },
        {
         "title": "Cut Bank",
         "description": "A small-town dreamer is sure he's landed on a gold mine after accidentally filming a murder but is …",
         "description_sentiment_score": -0.9668,
         "_deepnote_index_column": 3190
        },
        {
         "title": "Kings of Jo'Burg",
         "description": "The Masire brothers rule Johannesburg's criminal underworld, but a supernatural family curse and a …",
         "description_sentiment_score": -0.9694,
         "_deepnote_index_column": 1593
        },
        {
         "title": "Soul Eater",
         "description": "Maka and the other students at the Death Weapon Meister Academy must kill 99 evil humans and one wi…",
         "description_sentiment_score": -0.9705,
         "_deepnote_index_column": 3020
        },
        {
         "title": "A Kind of Murder",
         "description": "Obsessed with an unsolved murder case, a crime novelist stuck in an unhappy marriage fantasizes abo…",
         "description_sentiment_score": -0.9732,
         "_deepnote_index_column": 6042
        }
       ]
      },
      "text/plain": "                                                  title  \\\n4403                                     Medal of Honor   \n7808                                  Qué pena tu serie   \n733               LEGO Friends: The Power of Friendship   \n648                                   Too Hot to Handle   \n3442  The Spooky Tale of Captain Underpants Hack-a-ween   \n...                                                 ...   \n4477                                            W/O Ram   \n3190                                           Cut Bank   \n1593                                   Kings of Jo'Burg   \n3020                                         Soul Eater   \n6042                                   A Kind of Murder   \n\n                                            description  \\\n4403  Honoring service members whose courage merited...   \n7808  Javier is happily in love with Sofia, so when ...   \n733   Five best friends face adventures side by side...   \n648   On the shores of paradise, gorgeous singles me...   \n3442  When Melvin tries to cancel Halloween, clever ...   \n...                                                 ...   \n4477  Frustrated with the stalled investigation into...   \n3190  A small-town dreamer is sure he's landed on a ...   \n1593  The Masire brothers rule Johannesburg's crimin...   \n3020  Maka and the other students at the Death Weapo...   \n6042  Obsessed with an unsolved murder case, a crime...   \n\n      description_sentiment_score  \n4403                       0.9709  \n7808                       0.9657  \n733                        0.9647  \n648                        0.9625  \n3442                       0.9606  \n...                           ...  \n4477                      -0.9648  \n3190                      -0.9668  \n1593                      -0.9694  \n3020                      -0.9705  \n6042                      -0.9732  \n\n[8807 rows x 3 columns]",
      "text/html": "<div>\n<style scoped>\n    .dataframe tbody tr th:only-of-type {\n        vertical-align: middle;\n    }\n\n    .dataframe tbody tr th {\n        vertical-align: top;\n    }\n\n    .dataframe thead th {\n        text-align: right;\n    }\n</style>\n<table border=\"1\" class=\"dataframe\">\n  <thead>\n    <tr style=\"text-align: right;\">\n      <th></th>\n      <th>title</th>\n      <th>description</th>\n      <th>description_sentiment_score</th>\n    </tr>\n  </thead>\n  <tbody>\n    <tr>\n      <th>4403</th>\n      <td>Medal of Honor</td>\n      <td>Honoring service members whose courage merited...</td>\n      <td>0.9709</td>\n    </tr>\n    <tr>\n      <th>7808</th>\n      <td>Qué pena tu serie</td>\n      <td>Javier is happily in love with Sofia, so when ...</td>\n      <td>0.9657</td>\n    </tr>\n    <tr>\n      <th>733</th>\n      <td>LEGO Friends: The Power of Friendship</td>\n      <td>Five best friends face adventures side by side...</td>\n      <td>0.9647</td>\n    </tr>\n    <tr>\n      <th>648</th>\n      <td>Too Hot to Handle</td>\n      <td>On the shores of paradise, gorgeous singles me...</td>\n      <td>0.9625</td>\n    </tr>\n    <tr>\n      <th>3442</th>\n      <td>The Spooky Tale of Captain Underpants Hack-a-ween</td>\n      <td>When Melvin tries to cancel Halloween, clever ...</td>\n      <td>0.9606</td>\n    </tr>\n    <tr>\n      <th>...</th>\n      <td>...</td>\n      <td>...</td>\n      <td>...</td>\n    </tr>\n    <tr>\n      <th>4477</th>\n      <td>W/O Ram</td>\n      <td>Frustrated with the stalled investigation into...</td>\n      <td>-0.9648</td>\n    </tr>\n    <tr>\n      <th>3190</th>\n      <td>Cut Bank</td>\n      <td>A small-town dreamer is sure he's landed on a ...</td>\n      <td>-0.9668</td>\n    </tr>\n    <tr>\n      <th>1593</th>\n      <td>Kings of Jo'Burg</td>\n      <td>The Masire brothers rule Johannesburg's crimin...</td>\n      <td>-0.9694</td>\n    </tr>\n    <tr>\n      <th>3020</th>\n      <td>Soul Eater</td>\n      <td>Maka and the other students at the Death Weapo...</td>\n      <td>-0.9705</td>\n    </tr>\n    <tr>\n      <th>6042</th>\n      <td>A Kind of Murder</td>\n      <td>Obsessed with an unsolved murder case, a crime...</td>\n      <td>-0.9732</td>\n    </tr>\n  </tbody>\n</table>\n<p>8807 rows × 3 columns</p>\n</div>"
     },
     "metadata": {}
    }
   ]
  },
  {
   "cell_type": "code",
   "metadata": {
    "tags": [],
    "cell_id": "00014-d1a24b80-f4f9-4b54-8cc5-c1c3f6ef1902",
    "deepnote_to_be_reexecuted": false,
    "source_hash": "69b1af25",
    "execution_start": 1638451508040,
    "execution_millis": 10,
    "deepnote_output_heights": [
     232.25
    ],
    "deepnote_cell_type": "code"
   },
   "source": "data.description_sentiment_score.value_counts()",
   "execution_count": null,
   "outputs": [
    {
     "output_type": "execute_result",
     "execution_count": 11,
     "data": {
      "text/plain": " 0.0000    847\n 0.4019    138\n-0.3818    107\n-0.5994    101\n 0.4215    100\n          ... \n 0.7745      1\n 0.8847      1\n-0.4295      1\n 0.9099      1\n 0.9278      1\nName: description_sentiment_score, Length: 796, dtype: int64"
     },
     "metadata": {}
    }
   ]
  },
  {
   "cell_type": "code",
   "metadata": {
    "tags": [],
    "cell_id": "00015-b0af728f-d2b5-4dc9-bf93-11f7ca4ff17f",
    "deepnote_to_be_reexecuted": false,
    "source_hash": "1756bb57",
    "execution_start": 1638451511291,
    "execution_millis": 1337,
    "deepnote_output_heights": [
     21.1875,
     354
    ],
    "deepnote_cell_type": "code"
   },
   "source": "sns.displot(data['description_sentiment_score'])",
   "execution_count": null,
   "outputs": [
    {
     "output_type": "execute_result",
     "execution_count": 12,
     "data": {
      "text/plain": "<seaborn.axisgrid.FacetGrid at 0x7fe21c70bb50>"
     },
     "metadata": {}
    },
    {
     "data": {
      "text/plain": "<Figure size 360x360 with 1 Axes>",
      "image/png": "[encoded data removed]"
     },
     "metadata": {
      "needs_background": "light",
      "image/png": {
       "width": 353,
       "height": 352
      }
     },
     "output_type": "display_data"
    }
   ]
  },
  {
   "cell_type": "markdown",
   "source": "## Recommendation System",
   "metadata": {
    "tags": [],
    "is_collapsed": false,
    "cell_id": "00002-8f434e01-8f64-4aa2-99e5-f743bab8fa3a",
    "deepnote_cell_type": "text-cell-h2"
   }
  },
  {
   "cell_type": "markdown",
   "source": "### Recommendation - Title",
   "metadata": {
    "tags": [],
    "is_collapsed": false,
    "cell_id": "00005-8dfbc834-06a1-4955-a9b7-2819fd2007e7",
    "deepnote_cell_type": "text-cell-h3"
   }
  },
  {
   "cell_type": "markdown",
   "source": "Term Frequency Inverse Document Frequency Vectorizer\n\nformula used:  𝑡𝑓𝑖𝑑𝑓(𝑑,𝑡)=𝑡𝑓(𝑡)×𝑖𝑑𝑓(𝑑,𝑡) \n - tf(t)= the term frequency is the number of times the term appears in the document\n - idf(d, t) = the document frequency is the number of documents 'd' that contain term 't'",
   "metadata": {
    "tags": [],
    "cell_id": "00015-f2f0e3aa-50e6-49c9-adfb-920bd4387119",
    "deepnote_cell_type": "markdown"
   }
  },
  {
   "cell_type": "markdown",
   "source": "Import the library and initialize the function.",
   "metadata": {
    "tags": [],
    "cell_id": "00007-0f0ef07d-bba1-4f3f-bf7a-ba593890fcd5",
    "deepnote_cell_type": "markdown"
   }
  },
  {
   "cell_type": "code",
   "metadata": {
    "tags": [],
    "cell_id": "00007-111a07b8-a3fd-41f2-8e4e-c64c7e794f4d",
    "deepnote_to_be_reexecuted": false,
    "source_hash": "8f4eeb78",
    "execution_start": 1638451534722,
    "execution_millis": 1,
    "deepnote_cell_type": "code"
   },
   "source": "from sklearn.feature_extraction.text import TfidfVectorizer\n\nvectorizer = TfidfVectorizer(stop_words='english')",
   "execution_count": null,
   "outputs": []
  },
  {
   "cell_type": "markdown",
   "source": "Clean up the description and fit the model to the data.",
   "metadata": {
    "tags": [],
    "cell_id": "00009-7585e637-f3bc-4ee3-b627-9b9411557502",
    "deepnote_cell_type": "markdown"
   }
  },
  {
   "cell_type": "code",
   "metadata": {
    "tags": [],
    "cell_id": "00004-600a696b-c3f2-4618-8a1c-83ecec5c464d",
    "deepnote_to_be_reexecuted": false,
    "source_hash": "ac3029d4",
    "execution_start": 1638451536204,
    "execution_millis": 229,
    "deepnote_output_heights": [
     193.9375
    ],
    "deepnote_cell_type": "code"
   },
   "source": "#Replace NaN with an empty string\ndata['description'] = data['description'].fillna('')\n\n#TF-IDF matrix by fitting and transforming using the called function above\ntfidf_matrix = vectorizer.fit_transform(data['description'])",
   "execution_count": null,
   "outputs": []
  },
  {
   "cell_type": "markdown",
   "source": "Calculate the cosine similarity",
   "metadata": {
    "tags": [],
    "cell_id": "00011-e029e15c-8ef0-4885-b4bf-5bf2eaa57afd",
    "deepnote_cell_type": "markdown"
   }
  },
  {
   "cell_type": "code",
   "metadata": {
    "tags": [],
    "cell_id": "00012-5a2eef80-8044-4cfb-a8b7-2075384607eb",
    "deepnote_to_be_reexecuted": false,
    "source_hash": "d873bb93",
    "execution_start": 1638451538681,
    "execution_millis": 717,
    "deepnote_cell_type": "code"
   },
   "source": "#Linear Kernel\nfrom sklearn.metrics.pairwise import linear_kernel\n\n#linear kernel\ncosine_sim = linear_kernel(tfidf_matrix, tfidf_matrix)",
   "execution_count": null,
   "outputs": []
  },
  {
   "cell_type": "markdown",
   "source": "Gather the unique titles",
   "metadata": {
    "tags": [],
    "cell_id": "00013-5015b390-feb8-45ba-b514-a4583296e83a",
    "deepnote_cell_type": "markdown"
   }
  },
  {
   "cell_type": "code",
   "metadata": {
    "tags": [],
    "cell_id": "00013-79fb9205-bb89-4906-8ca3-f4bf50c153f3",
    "deepnote_to_be_reexecuted": false,
    "source_hash": "774bb8c6",
    "execution_start": 1638451541638,
    "execution_millis": 5,
    "deepnote_cell_type": "code"
   },
   "source": "indices = pd.Series(data.index, index = data['title']).drop_duplicates()",
   "execution_count": null,
   "outputs": []
  },
  {
   "cell_type": "markdown",
   "source": "Define and call the function",
   "metadata": {
    "tags": [],
    "cell_id": "00015-114521ba-08ad-4129-ab75-a6e111ed8082",
    "deepnote_cell_type": "markdown"
   }
  },
  {
   "cell_type": "code",
   "metadata": {
    "tags": [],
    "cell_id": "00016-a9344e83-c48c-4d73-971b-2d1bce5399f8",
    "deepnote_to_be_reexecuted": false,
    "source_hash": "76405767",
    "execution_start": 1638451543343,
    "execution_millis": 10,
    "deepnote_output_heights": [
     193.875
    ],
    "deepnote_cell_type": "code"
   },
   "source": "def recommender_title(title, cosine_sim=cosine_sim):\n    idx = indices[title]\n    \n    #Get the pairwise similarity scores of all movies with that inputed title\n    similiarity_scores = list(enumerate(cosine_sim[idx]))\n        \n    #Sort the movies based on the similarity scores from high to low\n    similiarity_scores = sorted(similiarity_scores, key=lambda x:x[1], reverse=True)\n    \n    #Get the scores of the 10 most similar movies - the first one would be same title\n    similiarity_scores = similiarity_scores[1:11]\n    \n    #Get the movie indices\n    netflix_indices = [i[0] for i in similiarity_scores]\n    \n    info = []\n    for i in similiarity_scores:\n        info.append((data['title'].iloc[i[0]], i[1]))\n    return info\n\nrecommender_title('Friends')",
   "execution_count": null,
   "outputs": [
    {
     "output_type": "execute_result",
     "execution_count": 17,
     "data": {
      "text/plain": "[('Manhattan Romance', 0.15237026907479903),\n ('BoJack Horseman', 0.15028953368141512),\n ('Things Heard & Seen', 0.14949271133327652),\n ('Episodes', 0.14853697304061317),\n ('Studio 54', 0.1424046010458695),\n (\"Dad's Army\", 0.14049027459152919),\n ('Trailer Park Boys', 0.13427085466841834),\n ('Single Ladies Senior', 0.1270081801514374),\n ('Why Are You Like This', 0.12494353136358004),\n ('Menahi', 0.12364054398185152)]"
     },
     "metadata": {}
    }
   ]
  },
  {
   "cell_type": "markdown",
   "source": "## Linear Regression",
   "metadata": {
    "tags": [],
    "is_collapsed": false,
    "cell_id": "00003-2e156573-e00e-48cc-b8ba-ae171cda0917",
    "deepnote_cell_type": "text-cell-h2"
   }
  },
  {
   "cell_type": "code",
   "metadata": {
    "tags": [],
    "cell_id": "00006-b18d6d12-a4a7-4c6e-a6fc-d9a53bc029e7",
    "deepnote_to_be_reexecuted": false,
    "source_hash": "92d7ce40",
    "execution_start": 1638451545619,
    "execution_millis": 1562,
    "deepnote_cell_type": "code"
   },
   "source": "# read in IMDB datasets\nratings = pd.read_csv('IMDb ratings.csv')\nmovie_names = pd.read_csv('IMDb movies.csv')",
   "execution_count": null,
   "outputs": [
    {
     "name": "stderr",
     "text": "/shared-libs/python3.7/py-core/lib/python3.7/site-packages/IPython/core/interactiveshell.py:3173: DtypeWarning: Columns (3) have mixed types.Specify dtype option on import or set low_memory=False.\n  interactivity=interactivity, compiler=compiler, result=result)\n",
     "output_type": "stream"
    }
   ]
  },
  {
   "cell_type": "code",
   "metadata": {
    "tags": [],
    "cell_id": "00019-df3ba77d-ed5e-4c45-8e3b-b668a829c1bb",
    "deepnote_to_be_reexecuted": false,
    "source_hash": "eee120b0",
    "execution_start": 1638451548629,
    "execution_millis": 158,
    "deepnote_cell_type": "code"
   },
   "source": "# merge datasets to get dataframe with just movie titles and weighted average IMDB score\nrating_df = pd.merge(ratings[['imdb_title_id','weighted_average_vote']], \n                     movie_names[['imdb_title_id','title']], \n                     on = 'imdb_title_id', how = 'inner')\nrating_df = rating_df.set_index('imdb_title_id')\nrating_df",
   "execution_count": null,
   "outputs": [
    {
     "output_type": "execute_result",
     "execution_count": 19,
     "data": {
      "application/vnd.deepnote.dataframe.v2+json": {
       "row_count": 85855,
       "column_count": 2,
       "columns": [
        {
         "name": "weighted_average_vote",
         "dtype": "float64",
         "stats": {
          "unique_count": 89,
          "nan_count": 0,
          "min": "1.0",
          "max": "9.9",
          "histogram": [
           {
            "bin_start": 1,
            "bin_end": 1.8900000000000001,
            "count": 304
           },
           {
            "bin_start": 1.8900000000000001,
            "bin_end": 2.7800000000000002,
            "count": 1319
           },
           {
            "bin_start": 2.7800000000000002,
            "bin_end": 3.67,
            "count": 3476
           },
           {
            "bin_start": 3.67,
            "bin_end": 4.5600000000000005,
            "count": 6984
           },
           {
            "bin_start": 4.5600000000000005,
            "bin_end": 5.45,
            "count": 13839
           },
           {
            "bin_start": 5.45,
            "bin_end": 6.34,
            "count": 24960
           },
           {
            "bin_start": 6.34,
            "bin_end": 7.23,
            "count": 26341
           },
           {
            "bin_start": 7.23,
            "bin_end": 8.120000000000001,
            "count": 7699
           },
           {
            "bin_start": 8.120000000000001,
            "bin_end": 9.01,
            "count": 897
           },
           {
            "bin_start": 9.01,
            "bin_end": 9.9,
            "count": 36
           }
          ]
         }
        },
        {
         "name": "title",
         "dtype": "object"
        },
        {
         "name": "_deepnote_index_column",
         "dtype": "object"
        }
       ],
       "rows_top": [
        {
         "weighted_average_vote": 5.9,
         "title": "Miss Jerry",
         "_deepnote_index_column": "tt0000009"
        },
        {
         "weighted_average_vote": 6.1,
         "title": "The Story of the Kelly Gang",
         "_deepnote_index_column": "tt0000574"
        },
        {
         "weighted_average_vote": 5.8,
         "title": "Den sorte drøm",
         "_deepnote_index_column": "tt0001892"
        },
        {
         "weighted_average_vote": 5.2,
         "title": "Cleopatra",
         "_deepnote_index_column": "tt0002101"
        },
        {
         "weighted_average_vote": 7,
         "title": "L'Inferno",
         "_deepnote_index_column": "tt0002130"
        },
        {
         "weighted_average_vote": 5.7,
         "title": "From the Manger to the Cross; or, Jesus of Nazareth",
         "_deepnote_index_column": "tt0002199"
        },
        {
         "weighted_average_vote": 6.8,
         "title": "Madame DuBarry",
         "_deepnote_index_column": "tt0002423"
        },
        {
         "weighted_average_vote": 6.2,
         "title": "Quo Vadis?",
         "_deepnote_index_column": "tt0002445"
        },
        {
         "weighted_average_vote": 6.7,
         "title": "Independenta Romaniei",
         "_deepnote_index_column": "tt0002452"
        },
        {
         "weighted_average_vote": 5.5,
         "title": "Richard III",
         "_deepnote_index_column": "tt0002461"
        },
        {
         "weighted_average_vote": 6.6,
         "title": "Atlantis",
         "_deepnote_index_column": "tt0002646"
        },
        {
         "weighted_average_vote": 7,
         "title": "Fantômas - À l'ombre de la guillotine",
         "_deepnote_index_column": "tt0002844"
        },
        {
         "weighted_average_vote": 7.1,
         "title": "Il calvario di una madre",
         "_deepnote_index_column": "tt0003014"
        },
        {
         "weighted_average_vote": 7,
         "title": "Juve contre Fantômas",
         "_deepnote_index_column": "tt0003037"
        },
        {
         "weighted_average_vote": 6.2,
         "title": "Ma l'amor mio non muore...",
         "_deepnote_index_column": "tt0003102"
        },
        {
         "weighted_average_vote": 6.5,
         "title": "Maudite soit la guerre",
         "_deepnote_index_column": "tt0003131"
        },
        {
         "weighted_average_vote": 7,
         "title": "Le mort qui tue",
         "_deepnote_index_column": "tt0003165"
        },
        {
         "weighted_average_vote": 5.8,
         "title": "Amore di madre",
         "_deepnote_index_column": "tt0003167"
        },
        {
         "weighted_average_vote": 6.5,
         "title": "Lo studente di Praga",
         "_deepnote_index_column": "tt0003419"
        },
        {
         "weighted_average_vote": 6,
         "title": "Traffic in Souls",
         "_deepnote_index_column": "tt0003471"
        },
        {
         "weighted_average_vote": 6.2,
         "title": "Gli ultimi giorni di Pompei",
         "_deepnote_index_column": "tt0003489"
        },
        {
         "weighted_average_vote": 6.4,
         "title": "Assunta Spina",
         "_deepnote_index_column": "tt0003637"
        },
        {
         "weighted_average_vote": 6.4,
         "title": "The Avenging Conscience: or 'Thou Shalt Not Kill'",
         "_deepnote_index_column": "tt0003643"
        },
        {
         "weighted_average_vote": 6.5,
         "title": "The Bargain",
         "_deepnote_index_column": "tt0003657"
        },
        {
         "weighted_average_vote": 7.1,
         "title": "Cabiria",
         "_deepnote_index_column": "tt0003740"
        },
        {
         "weighted_average_vote": 6,
         "title": "Cinderella",
         "_deepnote_index_column": "tt0003772"
        },
        {
         "weighted_average_vote": 7.5,
         "title": "L'enfant de Paris",
         "_deepnote_index_column": "tt0003883"
        },
        {
         "weighted_average_vote": 6.9,
         "title": "Fantômas contre Fantômas",
         "_deepnote_index_column": "tt0003930"
        },
        {
         "weighted_average_vote": 5.8,
         "title": "A Florida Enchantment",
         "_deepnote_index_column": "tt0003973"
        },
        {
         "weighted_average_vote": 6.8,
         "title": "Der Golem",
         "_deepnote_index_column": "tt0004026"
        },
        {
         "weighted_average_vote": 7,
         "title": "Det hemmelighedsfulde X",
         "_deepnote_index_column": "tt0004066"
        },
        {
         "weighted_average_vote": 5.2,
         "title": "His Majesty, the Scarecrow of Oz",
         "_deepnote_index_column": "tt0004099"
        },
        {
         "weighted_average_vote": 6.6,
         "title": "Hypocrites",
         "_deepnote_index_column": "tt0004134"
        },
        {
         "weighted_average_vote": 5.8,
         "title": "In the Land of the Head Hunters",
         "_deepnote_index_column": "tt0004150"
        },
        {
         "weighted_average_vote": 6.1,
         "title": "Judith of Bethulia",
         "_deepnote_index_column": "tt0004181"
        },
        {
         "weighted_average_vote": 5.5,
         "title": "The Patchwork Girl of Oz",
         "_deepnote_index_column": "tt0004457"
        },
        {
         "weighted_average_vote": 6.3,
         "title": "The Perils of Pauline",
         "_deepnote_index_column": "tt0004465"
        },
        {
         "weighted_average_vote": 5.7,
         "title": "The Squaw Man",
         "_deepnote_index_column": "tt0004635"
        },
        {
         "weighted_average_vote": 6.1,
         "title": "La madonnina del porto",
         "_deepnote_index_column": "tt0004681"
        },
        {
         "weighted_average_vote": 6.3,
         "title": "Tillie's Punctured Romance",
         "_deepnote_index_column": "tt0004707"
        },
        {
         "weighted_average_vote": 6.3,
         "title": "A tolonc",
         "_deepnote_index_column": "tt0004712"
        },
        {
         "weighted_average_vote": 5.3,
         "title": "Uncle Tom's Cabin",
         "_deepnote_index_column": "tt0004743"
        },
        {
         "weighted_average_vote": 5.6,
         "title": "The Virginian",
         "_deepnote_index_column": "tt0004766"
        },
        {
         "weighted_average_vote": 6.4,
         "title": "The Wishing Ring: An Idyll of Old England",
         "_deepnote_index_column": "tt0004825"
        },
        {
         "weighted_average_vote": 5.7,
         "title": "The Wrath of the Gods",
         "_deepnote_index_column": "tt0004838"
        },
        {
         "weighted_average_vote": 6.6,
         "title": "Alias Jimmy Valentine",
         "_deepnote_index_column": "tt0004872"
        },
        {
         "weighted_average_vote": 6.2,
         "title": "Alice in Wonderland",
         "_deepnote_index_column": "tt0004873"
        },
        {
         "weighted_average_vote": 6.3,
         "title": "Nascita di una nazione",
         "_deepnote_index_column": "tt0004972"
        },
        {
         "weighted_average_vote": 6.4,
         "title": "Carmen",
         "_deepnote_index_column": "tt0005060"
        },
        {
         "weighted_average_vote": 6.6,
         "title": "The Cheat",
         "_deepnote_index_column": "tt0005078"
        },
        {
         "weighted_average_vote": 6,
         "title": "The Coward",
         "_deepnote_index_column": "tt0005149"
        },
        {
         "weighted_average_vote": 5.8,
         "title": "La vampira",
         "_deepnote_index_column": "tt0005339"
        },
        {
         "weighted_average_vote": 6.4,
         "title": "The Golden Chance",
         "_deepnote_index_column": "tt0005402"
        },
        {
         "weighted_average_vote": 6.8,
         "title": "Hævnens Nat",
         "_deepnote_index_column": "tt0005529"
        },
        {
         "weighted_average_vote": 6.6,
         "title": "The Italian",
         "_deepnote_index_column": "tt0005557"
        },
        {
         "weighted_average_vote": 5.9,
         "title": "Maciste",
         "_deepnote_index_column": "tt0005680"
        },
        {
         "weighted_average_vote": 5.6,
         "title": "Martyrs of the Alamo",
         "_deepnote_index_column": "tt0005719"
        },
        {
         "weighted_average_vote": 6.1,
         "title": "The Nigger",
         "_deepnote_index_column": "tt0005809"
        },
        {
         "weighted_average_vote": 6.9,
         "title": "Posle smerti",
         "_deepnote_index_column": "tt0005916"
        },
        {
         "weighted_average_vote": 6.9,
         "title": "Rapsodia satanica",
         "_deepnote_index_column": "tt0005951"
        },
        {
         "weighted_average_vote": 6.8,
         "title": "La rigenerazione",
         "_deepnote_index_column": "tt0005960"
        },
        {
         "weighted_average_vote": 7.3,
         "title": "I vampiri",
         "_deepnote_index_column": "tt0006206"
        },
        {
         "weighted_average_vote": 5.9,
         "title": "Young Romance",
         "_deepnote_index_column": "tt0006327"
        },
        {
         "weighted_average_vote": 6.2,
         "title": "20,000 Leagues Under the Sea",
         "_deepnote_index_column": "tt0006333"
        },
        {
         "weighted_average_vote": 4.5,
         "title": "The Children in the House",
         "_deepnote_index_column": "tt0006509"
        },
        {
         "weighted_average_vote": 6,
         "title": "Civilization",
         "_deepnote_index_column": "tt0006517"
        },
        {
         "weighted_average_vote": 6.8,
         "title": "The Devil's Needle",
         "_deepnote_index_column": "tt0006589"
        },
        {
         "weighted_average_vote": 6.1,
         "title": "Dödskyssen",
         "_deepnote_index_column": "tt0006617"
        },
        {
         "weighted_average_vote": 6.4,
         "title": "Flirting with Fate",
         "_deepnote_index_column": "tt0006688"
        },
        {
         "weighted_average_vote": 5.3,
         "title": "Going Straight",
         "_deepnote_index_column": "tt0006731"
        },
        {
         "weighted_average_vote": 6.6,
         "title": "The Good Bad-Man",
         "_deepnote_index_column": "tt0006736"
        },
        {
         "weighted_average_vote": 5.7,
         "title": "Gretchen the Greenhorn",
         "_deepnote_index_column": "tt0006745"
        },
        {
         "weighted_average_vote": 6.6,
         "title": "The Half-Breed",
         "_deepnote_index_column": "tt0006753"
        },
        {
         "weighted_average_vote": 6.8,
         "title": "Hell's Hinges",
         "_deepnote_index_column": "tt0006780"
        },
        {
         "weighted_average_vote": 5.9,
         "title": "His Picture in the Papers",
         "_deepnote_index_column": "tt0006809"
        },
        {
         "weighted_average_vote": 5.6,
         "title": "Hoodoo Ann",
         "_deepnote_index_column": "tt0006826"
        },
        {
         "weighted_average_vote": 7.8,
         "title": "Intolerance",
         "_deepnote_index_column": "tt0006864"
        },
        {
         "weighted_average_vote": 7.4,
         "title": "Judex",
         "_deepnote_index_column": "tt0006886"
        },
        {
         "weighted_average_vote": 6,
         "title": "The Matrimaniac",
         "_deepnote_index_column": "tt0007047"
        },
        {
         "weighted_average_vote": 7,
         "title": "Pikovaya dama",
         "_deepnote_index_column": "tt0007183"
        },
        {
         "weighted_average_vote": 4.7,
         "title": "Reggie Mixes In",
         "_deepnote_index_column": "tt0007257"
        },
        {
         "weighted_average_vote": 6.5,
         "title": "The Return of Draw Egan",
         "_deepnote_index_column": "tt0007260"
        },
        {
         "weighted_average_vote": 5.6,
         "title": "Schuhpalast Pinkus",
         "_deepnote_index_column": "tt0007309"
        },
        {
         "weighted_average_vote": 6.4,
         "title": "Sherlock Holmes",
         "_deepnote_index_column": "tt0007338"
        },
        {
         "weighted_average_vote": 6.8,
         "title": "Shoes",
         "_deepnote_index_column": "tt0007340"
        },
        {
         "weighted_average_vote": 6.2,
         "title": "Snow White",
         "_deepnote_index_column": "tt0007361"
        },
        {
         "weighted_average_vote": 5.3,
         "title": "The Social Secretary",
         "_deepnote_index_column": "tt0007367"
        },
        {
         "weighted_average_vote": 5.8,
         "title": "Vingarne",
         "_deepnote_index_column": "tt0007522"
        },
        {
         "weighted_average_vote": 6.3,
         "title": "Where Are My Children?",
         "_deepnote_index_column": "tt0007558"
        },
        {
         "weighted_average_vote": 5.9,
         "title": "'49-'17",
         "_deepnote_index_column": "tt0007610"
        },
        {
         "weighted_average_vote": 6,
         "title": "Bucking Broadway",
         "_deepnote_index_column": "tt0007755"
        },
        {
         "weighted_average_vote": 6.5,
         "title": "Cleopatra",
         "_deepnote_index_column": "tt0007801"
        },
        {
         "weighted_average_vote": 6.1,
         "title": "Furcht",
         "_deepnote_index_column": "tt0007983"
        },
        {
         "weighted_average_vote": 6.1,
         "title": "A Girl's Folly",
         "_deepnote_index_column": "tt0008011"
        },
        {
         "weighted_average_vote": 6.5,
         "title": "L'astronave",
         "_deepnote_index_column": "tt0008100"
        },
        {
         "weighted_average_vote": 6.5,
         "title": "Joan the Woman",
         "_deepnote_index_column": "tt0008150"
        },
        {
         "weighted_average_vote": 5.9,
         "title": "The Little American",
         "_deepnote_index_column": "tt0008188"
        },
        {
         "weighted_average_vote": 5.7,
         "title": "The Little Princess",
         "_deepnote_index_column": "tt0008196"
        },
        {
         "weighted_average_vote": 6.4,
         "title": "Desiderata",
         "_deepnote_index_column": "tt0008279"
        },
        {
         "weighted_average_vote": 6.7,
         "title": "A Modern Musketeer",
         "_deepnote_index_column": "tt0008309"
        },
        {
         "weighted_average_vote": 7.1,
         "title": "Otets Sergiy",
         "_deepnote_index_column": "tt0008395"
        },
        {
         "weighted_average_vote": 6.7,
         "title": "The Poor Little Rich Girl",
         "_deepnote_index_column": "tt0008443"
        },
        {
         "weighted_average_vote": 6.4,
         "title": "Raffles, the Amateur Cracksman",
         "_deepnote_index_column": "tt0008489"
        },
        {
         "weighted_average_vote": 6.1,
         "title": "Rebecca of Sunnybrook Farm",
         "_deepnote_index_column": "tt0008499"
        },
        {
         "weighted_average_vote": 5.7,
         "title": "A Romance of the Redwoods",
         "_deepnote_index_column": "tt0008519"
        },
        {
         "weighted_average_vote": 6.9,
         "title": "Satana likuyushchiy",
         "_deepnote_index_column": "tt0008536"
        },
        {
         "weighted_average_vote": 6.2,
         "title": "Straight Shooting",
         "_deepnote_index_column": "tt0008634"
        },
        {
         "weighted_average_vote": 6,
         "title": "A Tale of Two Cities",
         "_deepnote_index_column": "tt0008652"
        },
        {
         "weighted_average_vote": 7.4,
         "title": "Terje Vigen",
         "_deepnote_index_column": "tt0008663"
        },
        {
         "weighted_average_vote": 6,
         "title": "Thomas Graals bästa film",
         "_deepnote_index_column": "tt0008672"
        },
        {
         "weighted_average_vote": 4.8,
         "title": "Tillie Wakes Up",
         "_deepnote_index_column": "tt0008679"
        },
        {
         "weighted_average_vote": 6.1,
         "title": "Tom Sawyer",
         "_deepnote_index_column": "tt0008687"
        },
        {
         "weighted_average_vote": 6.7,
         "title": "Tösen från Stormyrtorpet",
         "_deepnote_index_column": "tt0008710"
        },
        {
         "weighted_average_vote": 6.4,
         "title": "Wild and Woolly",
         "_deepnote_index_column": "tt0008775"
        },
        {
         "weighted_average_vote": 5.8,
         "title": "Amarilly of Clothes-Line Alley",
         "_deepnote_index_column": "tt0008827"
        },
        {
         "weighted_average_vote": 5.9,
         "title": "Az aranyember",
         "_deepnote_index_column": "tt0008843"
        },
        {
         "weighted_average_vote": 5.5,
         "title": "Gli occhi della mummia",
         "_deepnote_index_column": "tt0008854"
        },
        {
         "weighted_average_vote": 7.3,
         "title": "I proscritti",
         "_deepnote_index_column": "tt0008879"
        },
        {
         "weighted_average_vote": 7,
         "title": "L'uccello blu",
         "_deepnote_index_column": "tt0008891"
        },
        {
         "weighted_average_vote": 6,
         "title": "Broadway Love",
         "_deepnote_index_column": "tt0008930"
        },
        {
         "weighted_average_vote": 6,
         "title": "Sangue gitano",
         "_deepnote_index_column": "tt0008950"
        },
        {
         "weighted_average_vote": 5.9,
         "title": "La decima sinfonia",
         "_deepnote_index_column": "tt0009014"
        },
        {
         "weighted_average_vote": 6.2,
         "title": "L'allegra prigione",
         "_deepnote_index_column": "tt0009062"
        },
        {
         "weighted_average_vote": 5.4,
         "title": "The Forbidden City",
         "_deepnote_index_column": "tt0009086"
        },
        {
         "weighted_average_vote": 6.4,
         "title": "Cuori del mondo",
         "_deepnote_index_column": "tt0009150"
        },
        {
         "weighted_average_vote": 6.1,
         "title": "Indemoniato",
         "_deepnote_index_column": "tt0009153"
        },
        {
         "weighted_average_vote": 5.1,
         "title": "Johanna Enlists",
         "_deepnote_index_column": "tt0009241"
        },
        {
         "weighted_average_vote": 6.5,
         "title": "M'Liss",
         "_deepnote_index_column": "tt0009326"
        },
        {
         "weighted_average_vote": 5.2,
         "title": "The Married Virgin",
         "_deepnote_index_column": "tt0009356"
        },
        {
         "weighted_average_vote": 5.9,
         "title": "Mickey",
         "_deepnote_index_column": "tt0009369"
        },
        {
         "weighted_average_vote": 6.4,
         "title": "Old Wives for New",
         "_deepnote_index_column": "tt0009440"
        },
        {
         "weighted_average_vote": 4.4,
         "title": "A Pair of Silk Stockings",
         "_deepnote_index_column": "tt0009475"
        },
        {
         "weighted_average_vote": 6.1,
         "title": "A Romance of Happy Valley",
         "_deepnote_index_column": "tt0009559"
        },
        {
         "weighted_average_vote": 5.1,
         "title": "Shifting Sands",
         "_deepnote_index_column": "tt0009608"
        },
        {
         "weighted_average_vote": 7.3,
         "title": "Charlot soldato",
         "_deepnote_index_column": "tt0009611"
        },
        {
         "weighted_average_vote": 6.7,
         "title": "Stella Maris",
         "_deepnote_index_column": "tt0009652"
        },
        {
         "weighted_average_vote": 5.7,
         "title": "Tarzan of the Apes",
         "_deepnote_index_column": "tt0009682"
        },
        {
         "weighted_average_vote": 7,
         "title": "Tih Minh",
         "_deepnote_index_column": "tt0009701"
        },
        {
         "weighted_average_vote": 5.9,
         "title": "The Unbeliever",
         "_deepnote_index_column": "tt0009737"
        },
        {
         "weighted_average_vote": 6.8,
         "title": "The Whispering Chorus",
         "_deepnote_index_column": "tt0009796"
        },
        {
         "weighted_average_vote": 7,
         "title": "Anders als die Andern",
         "_deepnote_index_column": "tt0009878"
        },
        {
         "weighted_average_vote": 5.9,
         "title": "Ravished Armenia",
         "_deepnote_index_column": "tt0009892"
        },
        {
         "weighted_average_vote": 7.2,
         "title": "La principessa delle ostriche",
         "_deepnote_index_column": "tt0009893"
        },
        {
         "weighted_average_vote": 7.1,
         "title": "El automóvil gris",
         "_deepnote_index_column": "tt0009894"
        },
        {
         "weighted_average_vote": 6.3,
         "title": "Il ritorno al paradiso terrestre",
         "_deepnote_index_column": "tt0009900"
        },
        {
         "weighted_average_vote": 7.1,
         "title": "Behind the Door",
         "_deepnote_index_column": "tt0009915"
        },
        {
         "weighted_average_vote": 7,
         "title": "Mariti ciechi",
         "_deepnote_index_column": "tt0009937"
        },
        {
         "weighted_average_vote": 7.3,
         "title": "Giglio infranto",
         "_deepnote_index_column": "tt0009968"
        },
        {
         "weighted_average_vote": 5.7,
         "title": "The Busher",
         "_deepnote_index_column": "tt0009976"
        },
        {
         "weighted_average_vote": 6.5,
         "title": "Daddy-Long-Legs",
         "_deepnote_index_column": "tt0010040"
        },
        {
         "weighted_average_vote": 5.9,
         "title": "The Delicious Little Devil",
         "_deepnote_index_column": "tt0010060"
        },
        {
         "weighted_average_vote": 6.6,
         "title": "Don't Change Your Husband",
         "_deepnote_index_column": "tt0010071"
        },
        {
         "weighted_average_vote": 5.3,
         "title": "Eyes of Youth",
         "_deepnote_index_column": "tt0010103"
        },
        {
         "weighted_average_vote": 5.4,
         "title": "For Better, for Worse",
         "_deepnote_index_column": "tt0010137"
        },
        {
         "weighted_average_vote": 6.5,
         "title": "Getting Mary Married",
         "_deepnote_index_column": "tt0010162"
        },
        {
         "weighted_average_vote": 5.8,
         "title": "The Greatest Question",
         "_deepnote_index_column": "tt0010193"
        },
        {
         "weighted_average_vote": 6.8,
         "title": "The Grim Game",
         "_deepnote_index_column": "tt0010195"
        },
        {
         "weighted_average_vote": 5.6,
         "title": "Harakiri",
         "_deepnote_index_column": "tt0010208"
        },
        {
         "weighted_average_vote": 3.9,
         "title": "Hawthorne of the U.S.A.",
         "_deepnote_index_column": "tt0010219"
        },
        {
         "weighted_average_vote": 5.6,
         "title": "Heart o' the Hills",
         "_deepnote_index_column": "tt0010227"
        },
        {
         "weighted_average_vote": 7.3,
         "title": "Il tesoro di Arne",
         "_deepnote_index_column": "tt0010247"
        },
        {
         "weighted_average_vote": 6.7,
         "title": "The Hoodlum",
         "_deepnote_index_column": "tt0010267"
        },
        {
         "weighted_average_vote": 6.9,
         "title": "Non vorrei essere un uomo",
         "_deepnote_index_column": "tt0010281"
        },
        {
         "weighted_average_vote": 6.9,
         "title": "Ingmarssönerna",
         "_deepnote_index_column": "tt0010298"
        },
        {
         "weighted_average_vote": 7.7,
         "title": "Per la patria",
         "_deepnote_index_column": "tt0010307"
        },
        {
         "weighted_average_vote": 8.1,
         "title": "Il gabinetto del dottor Caligari",
         "_deepnote_index_column": "tt0010323"
        },
        {
         "weighted_average_vote": 7,
         "title": "Male and Female",
         "_deepnote_index_column": "tt0010418"
        },
        {
         "weighted_average_vote": 6,
         "title": "Meyer il berlinese",
         "_deepnote_index_column": "tt0010456"
        },
        {
         "weighted_average_vote": 6.6,
         "title": "The Miracle Man",
         "_deepnote_index_column": "tt0010466"
        },
        {
         "weighted_average_vote": 6.9,
         "title": "The Mother and the Law",
         "_deepnote_index_column": "tt0010484"
        },
        {
         "weighted_average_vote": 6.3,
         "title": "Die Pest in Florenz",
         "_deepnote_index_column": "tt0010559"
        },
        {
         "weighted_average_vote": 6.6,
         "title": "Præsidenten",
         "_deepnote_index_column": "tt0010598"
        },
        {
         "weighted_average_vote": 7.4,
         "title": "La bambola di carne",
         "_deepnote_index_column": "tt0010600"
        },
        {
         "weighted_average_vote": 5.2,
         "title": "The Roaring Road",
         "_deepnote_index_column": "tt0010635"
        },
        {
         "weighted_average_vote": 4.9,
         "title": "Scarlet Days",
         "_deepnote_index_column": "tt0010662"
        },
        {
         "weighted_average_vote": 6.3,
         "title": "The Sentimental Bloke",
         "_deepnote_index_column": "tt0010680"
        },
        {
         "weighted_average_vote": 6.6,
         "title": "Il lago d'oro, ovvero I ragni",
         "_deepnote_index_column": "tt0010726"
        },
        {
         "weighted_average_vote": 6.9,
         "title": "Il canto del fiore rosso",
         "_deepnote_index_column": "tt0010755"
        },
        {
         "weighted_average_vote": 7,
         "title": "Amore sulle labbra",
         "_deepnote_index_column": "tt0010806"
        },
        {
         "weighted_average_vote": 6.5,
         "title": "Un affare misterioso",
         "_deepnote_index_column": "tt0010821"
        },
        {
         "weighted_average_vote": 6.6,
         "title": "Victory",
         "_deepnote_index_column": "tt0010844"
        },
        {
         "weighted_average_vote": 6.7,
         "title": "Wagon Tracks",
         "_deepnote_index_column": "tt0010853"
        },
        {
         "weighted_average_vote": 6.9,
         "title": "Quando le nuvole volano via",
         "_deepnote_index_column": "tt0010879"
        },
        {
         "weighted_average_vote": 6.4,
         "title": "The Wicked Darling",
         "_deepnote_index_column": "tt0010890"
        },
        {
         "weighted_average_vote": 5.5,
         "title": "Yankee Doodle in Berlin",
         "_deepnote_index_column": "tt0010925"
        },
        {
         "weighted_average_vote": 6.3,
         "title": "Algol - Tragödie der Macht",
         "_deepnote_index_column": "tt0010953"
        },
        {
         "weighted_average_vote": 6.6,
         "title": "Anna Bolena",
         "_deepnote_index_column": "tt0010962"
        },
        {
         "weighted_average_vote": 6.4,
         "title": "April Folly",
         "_deepnote_index_column": "tt0010964"
        },
        {
         "weighted_average_vote": 6.7,
         "title": "L'atlantide",
         "_deepnote_index_column": "tt0010969"
        },
        {
         "weighted_average_vote": 6.7,
         "title": "Pagine dal libro di Satana",
         "_deepnote_index_column": "tt0011000"
        },
        {
         "weighted_average_vote": 7,
         "title": "Dr. Jekyll e Mr. Hyde",
         "_deepnote_index_column": "tt0011130"
        },
        {
         "weighted_average_vote": 6.6,
         "title": "Erotikon",
         "_deepnote_index_column": "tt0011157"
        },
        {
         "weighted_average_vote": 6.2,
         "title": "Fante-Anne",
         "_deepnote_index_column": "tt0011173"
        },
        {
         "weighted_average_vote": 6.6,
         "title": "The Flapper",
         "_deepnote_index_column": "tt0011193"
        },
        {
         "weighted_average_vote": 6.4,
         "title": "Il cammino nella notte",
         "_deepnote_index_column": "tt0011217"
        },
        {
         "weighted_average_vote": 6,
         "title": "Genuine",
         "_deepnote_index_column": "tt0011221"
        },
        {
         "weighted_average_vote": 7.2,
         "title": "Il Golem - Come venne al mondo",
         "_deepnote_index_column": "tt0011237"
        },
        {
         "weighted_average_vote": 5.1,
         "title": "Headin' Home",
         "_deepnote_index_column": "tt0011267"
        },
        {
         "weighted_average_vote": 7.1,
         "title": "L'Hirondelle et la Mésange",
         "_deepnote_index_column": "tt0011294"
        },
        {
         "weighted_average_vote": 6.9,
         "title": "La giustizia del mare",
         "_deepnote_index_column": "tt0011302"
        },
        {
         "weighted_average_vote": 6.2,
         "title": "Humoresque",
         "_deepnote_index_column": "tt0011317"
        },
        {
         "weighted_average_vote": 6.2,
         "title": "L'uomo dal coltello a serramanico",
         "_deepnote_index_column": "tt0011344"
        },
        {
         "weighted_average_vote": 6.6,
         "title": "Just Pals",
         "_deepnote_index_column": "tt0011358"
        },
        {
         "weighted_average_vote": 6,
         "title": "Der Klosterjäger",
         "_deepnote_index_column": "tt0011369"
        },
        {
         "weighted_average_vote": 6.8,
         "title": "Klostret i Sendomir",
         "_deepnote_index_column": "tt0011370"
        },
        {
         "weighted_average_vote": 6.7,
         "title": "Due sorelle",
         "_deepnote_index_column": "tt0011371"
        },
        {
         "weighted_average_vote": 6.7,
         "title": "The Last of the Mohicans",
         "_deepnote_index_column": "tt0011387"
        },
        {
         "weighted_average_vote": 4.9,
         "title": "The Love Expert",
         "_deepnote_index_column": "tt0011414"
        },
        {
         "weighted_average_vote": 5.9,
         "title": "The Love Flower",
         "_deepnote_index_column": "tt0011415"
        },
        {
         "weighted_average_vote": 7.1,
         "title": "Il segno di Zorro",
         "_deepnote_index_column": "tt0011439"
        },
        {
         "weighted_average_vote": 6.6,
         "title": "Markens grøde",
         "_deepnote_index_column": "tt0011440"
        },
        {
         "weighted_average_vote": 6.5,
         "title": "Un pulcino nella stoppa",
         "_deepnote_index_column": "tt0011474"
        },
        {
         "weighted_average_vote": 5.7,
         "title": "Nomads of the North",
         "_deepnote_index_column": "tt0011513"
        },
        {
         "weighted_average_vote": 6.4,
         "title": "Pollyanna",
         "_deepnote_index_column": "tt0011588"
        },
        {
         "weighted_average_vote": 7.1,
         "title": "La vedova del pastore",
         "_deepnote_index_column": "tt0011607"
        },
        {
         "weighted_average_vote": 6.1,
         "title": "The Restless Sex",
         "_deepnote_index_column": "tt0011623"
        },
        {
         "weighted_average_vote": 6.5,
         "title": "Romeo e giulietta sulla neve",
         "_deepnote_index_column": "tt0011641"
        },
        {
         "weighted_average_vote": 5.7,
         "title": "The Round-Up",
         "_deepnote_index_column": "tt0011647"
        },
        {
         "weighted_average_vote": 6.1,
         "title": "The Saphead",
         "_deepnote_index_column": "tt0011652"
        },
        {
         "weighted_average_vote": 6,
         "title": "Sex",
         "_deepnote_index_column": "tt0011679"
        },
        {
         "weighted_average_vote": 5.2,
         "title": "Something to Think About",
         "_deepnote_index_column": "tt0011716"
        },
        {
         "weighted_average_vote": 6.4,
         "title": "Die Spinnen, 2. Teil - Das Brillantenschiff",
         "_deepnote_index_column": "tt0011723"
        },
        {
         "weighted_average_vote": 6.3,
         "title": "Suds",
         "_deepnote_index_column": "tt0011741"
        },
        {
         "weighted_average_vote": 6.1,
         "title": "Sumurum",
         "_deepnote_index_column": "tt0011742"
        },
        {
         "weighted_average_vote": 5.5,
         "title": "Terror Island",
         "_deepnote_index_column": "tt0011753"
        },
        {
         "weighted_average_vote": 6.5,
         "title": "The Toll Gate",
         "_deepnote_index_column": "tt0011779"
        },
        {
         "weighted_average_vote": 6.9,
         "title": "Von morgens bis mitternachts",
         "_deepnote_index_column": "tt0011833"
        },
        {
         "weighted_average_vote": 6.1,
         "title": "Das wandernde Bild",
         "_deepnote_index_column": "tt0011837"
        },
        {
         "weighted_average_vote": 7.4,
         "title": "Agonia sui ghiacci",
         "_deepnote_index_column": "tt0011841"
        },
        {
         "weighted_average_vote": 6.7,
         "title": "Why Change Your Wife?",
         "_deepnote_index_column": "tt0011865"
        },
        {
         "weighted_average_vote": 6.3,
         "title": "Within Our Gates",
         "_deepnote_index_column": "tt0011870"
        },
        {
         "weighted_average_vote": 6.8,
         "title": "The Ace of Hearts",
         "_deepnote_index_column": "tt0011904"
        },
        {
         "weighted_average_vote": 6,
         "title": "Adventures of Tarzan",
         "_deepnote_index_column": "tt0011908"
        },
        {
         "weighted_average_vote": 6.6,
         "title": "Fragilità, sei femmina!",
         "_deepnote_index_column": "tt0011909"
        },
        {
         "weighted_average_vote": 6.9,
         "title": "Be My Wife",
         "_deepnote_index_column": "tt0011948"
        },
        {
         "weighted_average_vote": 7,
         "title": "Lo scoiattolo",
         "_deepnote_index_column": "tt0011960"
        },
        {
         "weighted_average_vote": 6.8,
         "title": "The Blot",
         "_deepnote_index_column": "tt0011979"
        },
        {
         "weighted_average_vote": 6.4,
         "title": "Buried Treasure",
         "_deepnote_index_column": "tt0012016"
        },
        {
         "weighted_average_vote": 6.6,
         "title": "Camille",
         "_deepnote_index_column": "tt0012027"
        },
        {
         "weighted_average_vote": 6.8,
         "title": "La commedia umana",
         "_deepnote_index_column": "tt0012068"
        },
        {
         "weighted_average_vote": 5.5,
         "title": "Dream Street",
         "_deepnote_index_column": "tt0012122"
        },
        {
         "weighted_average_vote": 6.4,
         "title": "Ducks and Drakes",
         "_deepnote_index_column": "tt0012125"
        },
        {
         "weighted_average_vote": 7,
         "title": "Eldorado",
         "_deepnote_index_column": "tt0012134"
        },
        {
         "weighted_average_vote": 6.4,
         "title": "Enchantment",
         "_deepnote_index_column": "tt0012136"
        },
        {
         "weighted_average_vote": 6.5,
         "title": "Forbidden Fruit",
         "_deepnote_index_column": "tt0012187"
        },
        {
         "weighted_average_vote": 7.2,
         "title": "I quattro cavalieri dell'Apocalisse",
         "_deepnote_index_column": "tt0012190"
        },
        {
         "weighted_average_vote": 7,
         "title": "Amleto",
         "_deepnote_index_column": "tt0012249"
        },
        {
         "weighted_average_vote": 6.8,
         "title": "Hintertreppe",
         "_deepnote_index_column": "tt0012281"
        },
        {
         "weighted_average_vote": 6.7,
         "title": "Das indische Grabmal zweiter Teil - Der Tiger von Eschnapur",
         "_deepnote_index_column": "tt0012313"
        },
        {
         "weighted_average_vote": 6.6,
         "title": "Das indische Grabmal erster Teil - Die Sendung des Yoghi",
         "_deepnote_index_column": "tt0012314"
        }
       ],
       "rows_bottom": [
        {
         "weighted_average_vote": 6.5,
         "title": "Natpe Thunai",
         "_deepnote_index_column": "tt9615020"
        },
        {
         "weighted_average_vote": 5.9,
         "title": "Abou Leila",
         "_deepnote_index_column": "tt9615278"
        },
        {
         "weighted_average_vote": 6.7,
         "title": "Adú",
         "_deepnote_index_column": "tt9616700"
        },
        {
         "weighted_average_vote": 7.1,
         "title": "It Started as a Joke",
         "_deepnote_index_column": "tt9617578"
        },
        {
         "weighted_average_vote": 5.2,
         "title": "El Que Se Enamora Pierde",
         "_deepnote_index_column": "tt9619402"
        },
        {
         "weighted_average_vote": 5.7,
         "title": "La Missy sbagliata",
         "_deepnote_index_column": "tt9619798"
        },
        {
         "weighted_average_vote": 6.5,
         "title": "Promising Young Woman",
         "_deepnote_index_column": "tt9620292"
        },
        {
         "weighted_average_vote": 5.8,
         "title": "The Last Right",
         "_deepnote_index_column": "tt9621284"
        },
        {
         "weighted_average_vote": 6.6,
         "title": "Gromkaya svyaz",
         "_deepnote_index_column": "tt9624470"
        },
        {
         "weighted_average_vote": 7,
         "title": "Tottumiskysymys",
         "_deepnote_index_column": "tt9624686"
        },
        {
         "weighted_average_vote": 5.7,
         "title": "Nevia",
         "_deepnote_index_column": "tt9625240"
        },
        {
         "weighted_average_vote": 5.7,
         "title": "Mes jours de gloire",
         "_deepnote_index_column": "tt9625632"
        },
        {
         "weighted_average_vote": 4.6,
         "title": "Trauma Center",
         "_deepnote_index_column": "tt9625664"
        },
        {
         "weighted_average_vote": 6.9,
         "title": "Fourteen",
         "_deepnote_index_column": "tt9626278"
        },
        {
         "weighted_average_vote": 4.5,
         "title": "Ekipa",
         "_deepnote_index_column": "tt9626764"
        },
        {
         "weighted_average_vote": 5.2,
         "title": "Amar",
         "_deepnote_index_column": "tt9626774"
        },
        {
         "weighted_average_vote": 7.1,
         "title": "Mayabazaar 2016",
         "_deepnote_index_column": "tt9628392"
        },
        {
         "weighted_average_vote": 5.6,
         "title": "Un'estate con Sofia",
         "_deepnote_index_column": "tt9632590"
        },
        {
         "weighted_average_vote": 6.2,
         "title": "Darbar",
         "_deepnote_index_column": "tt9635540"
        },
        {
         "weighted_average_vote": 5.4,
         "title": "Pan deng zhe",
         "_deepnote_index_column": "tt9635616"
        },
        {
         "weighted_average_vote": 5.2,
         "title": "Sindhubaadh",
         "_deepnote_index_column": "tt9636256"
        },
        {
         "weighted_average_vote": 4.6,
         "title": "Home Sweet Home",
         "_deepnote_index_column": "tt9636630"
        },
        {
         "weighted_average_vote": 4.7,
         "title": "I Love You (Nanne Preethse)",
         "_deepnote_index_column": "tt9636910"
        },
        {
         "weighted_average_vote": 4.1,
         "title": "Midday Demons",
         "_deepnote_index_column": "tt9637246"
        },
        {
         "weighted_average_vote": 8.6,
         "title": "National Theatre Live: Small Island",
         "_deepnote_index_column": "tt9638084"
        },
        {
         "weighted_average_vote": 5.3,
         "title": "Gong hei bat poh",
         "_deepnote_index_column": "tt9638206"
        },
        {
         "weighted_average_vote": 6.1,
         "title": "Singel 39",
         "_deepnote_index_column": "tt9638668"
        },
        {
         "weighted_average_vote": 5.6,
         "title": "Bangla",
         "_deepnote_index_column": "tt9639274"
        },
        {
         "weighted_average_vote": 8.2,
         "title": "Prawaas",
         "_deepnote_index_column": "tt9642630"
        },
        {
         "weighted_average_vote": 5.8,
         "title": "Darkhoongah",
         "_deepnote_index_column": "tt9642950"
        },
        {
         "weighted_average_vote": 6.2,
         "title": "Domains",
         "_deepnote_index_column": "tt9643408"
        },
        {
         "weighted_average_vote": 6.3,
         "title": "L'uomo senza gravità",
         "_deepnote_index_column": "tt9646240"
        },
        {
         "weighted_average_vote": 6.5,
         "title": "Açela",
         "_deepnote_index_column": "tt9646548"
        },
        {
         "weighted_average_vote": 7.2,
         "title": "No Coração do Mundo",
         "_deepnote_index_column": "tt9646768"
        },
        {
         "weighted_average_vote": 6.9,
         "title": "God of the Piano",
         "_deepnote_index_column": "tt9647298"
        },
        {
         "weighted_average_vote": 6,
         "title": "G Saat",
         "_deepnote_index_column": "tt9647330"
        },
        {
         "weighted_average_vote": 6.8,
         "title": "Il lago delle oche selvatiche",
         "_deepnote_index_column": "tt9647768"
        },
        {
         "weighted_average_vote": 5.7,
         "title": "Ashita sekai ga owaru to shitemo",
         "_deepnote_index_column": "tt9648078"
        },
        {
         "weighted_average_vote": 5.7,
         "title": "Breve historia del planeta verde",
         "_deepnote_index_column": "tt9648372"
        },
        {
         "weighted_average_vote": 6.9,
         "title": "Wedding Cha Shinema",
         "_deepnote_index_column": "tt9648668"
        },
        {
         "weighted_average_vote": 3.6,
         "title": "Street Dancer 3D",
         "_deepnote_index_column": "tt9648672"
        },
        {
         "weighted_average_vote": 6.3,
         "title": "Un divano a Tunisi",
         "_deepnote_index_column": "tt9648886"
        },
        {
         "weighted_average_vote": 6.6,
         "title": "Dilan 1991",
         "_deepnote_index_column": "tt9648942"
        },
        {
         "weighted_average_vote": 5.2,
         "title": "Sole",
         "_deepnote_index_column": "tt9648994"
        },
        {
         "weighted_average_vote": 4.9,
         "title": "What Love Looks Like",
         "_deepnote_index_column": "tt9651918"
        },
        {
         "weighted_average_vote": 5,
         "title": "Chief Daddy",
         "_deepnote_index_column": "tt9652322"
        },
        {
         "weighted_average_vote": 8.2,
         "title": "National Theatre Live: All About Eve",
         "_deepnote_index_column": "tt9652730"
        },
        {
         "weighted_average_vote": 7.2,
         "title": "Bait",
         "_deepnote_index_column": "tt9652782"
        },
        {
         "weighted_average_vote": 4.4,
         "title": "Along Came the Devil 2",
         "_deepnote_index_column": "tt9652888"
        },
        {
         "weighted_average_vote": 7.3,
         "title": "Ulan",
         "_deepnote_index_column": "tt9653184"
        },
        {
         "weighted_average_vote": 7.3,
         "title": "Arest",
         "_deepnote_index_column": "tt9653828"
        },
        {
         "weighted_average_vote": 5.9,
         "title": "Yi wen ding qing",
         "_deepnote_index_column": "tt9657764"
        },
        {
         "weighted_average_vote": 6.9,
         "title": "The Long Good-Bye",
         "_deepnote_index_column": "tt9657904"
        },
        {
         "weighted_average_vote": 3.9,
         "title": "Night",
         "_deepnote_index_column": "tt9659470"
        },
        {
         "weighted_average_vote": 5.5,
         "title": "Trhlina",
         "_deepnote_index_column": "tt9663258"
        },
        {
         "weighted_average_vote": 6.5,
         "title": "The Secret Men Club",
         "_deepnote_index_column": "tt9663702"
        },
        {
         "weighted_average_vote": 5.7,
         "title": "American Son",
         "_deepnote_index_column": "tt9664078"
        },
        {
         "weighted_average_vote": 6.2,
         "title": "L'acrobate",
         "_deepnote_index_column": "tt9664206"
        },
        {
         "weighted_average_vote": 6.4,
         "title": "Disco Raja",
         "_deepnote_index_column": "tt9664732"
        },
        {
         "weighted_average_vote": 7.4,
         "title": "Mehandi Circus",
         "_deepnote_index_column": "tt9665400"
        },
        {
         "weighted_average_vote": 4.9,
         "title": "Seetha",
         "_deepnote_index_column": "tt9665402"
        },
        {
         "weighted_average_vote": 3.2,
         "title": "Sir-Ayet",
         "_deepnote_index_column": "tt9668564"
        },
        {
         "weighted_average_vote": 5.9,
         "title": "Aidiyet",
         "_deepnote_index_column": "tt9668594"
        },
        {
         "weighted_average_vote": 3.5,
         "title": "Zoombies 2",
         "_deepnote_index_column": "tt9670282"
        },
        {
         "weighted_average_vote": 6.6,
         "title": "Gaddalakonda Ganesh",
         "_deepnote_index_column": "tt9670480"
        },
        {
         "weighted_average_vote": 5.1,
         "title": "Adventure Boyz",
         "_deepnote_index_column": "tt9671918"
        },
        {
         "weighted_average_vote": 5.9,
         "title": "A Dog Barking at the Moon",
         "_deepnote_index_column": "tt9674226"
        },
        {
         "weighted_average_vote": 6.7,
         "title": "Cinayet Süsü",
         "_deepnote_index_column": "tt9675274"
        },
        {
         "weighted_average_vote": 7.6,
         "title": "Gang Leader",
         "_deepnote_index_column": "tt9675464"
        },
        {
         "weighted_average_vote": 8.2,
         "title": "Nerkonda Paarvai",
         "_deepnote_index_column": "tt9675716"
        },
        {
         "weighted_average_vote": 6.9,
         "title": "Camille",
         "_deepnote_index_column": "tt9678892"
        },
        {
         "weighted_average_vote": 5.1,
         "title": "Walter",
         "_deepnote_index_column": "tt9680064"
        },
        {
         "weighted_average_vote": 5.8,
         "title": "Pati Patni Aur Woh",
         "_deepnote_index_column": "tt9680136"
        },
        {
         "weighted_average_vote": 8.7,
         "title": "Yeh Suhaagraat Impossible",
         "_deepnote_index_column": "tt9680166"
        },
        {
         "weighted_average_vote": 5.5,
         "title": "Baccha shoshur",
         "_deepnote_index_column": "tt9680180"
        },
        {
         "weighted_average_vote": 5.8,
         "title": "Zhu xian I",
         "_deepnote_index_column": "tt9680630"
        },
        {
         "weighted_average_vote": 6.3,
         "title": "Malchik russkiy",
         "_deepnote_index_column": "tt9681728"
        },
        {
         "weighted_average_vote": 7,
         "title": "Blakus",
         "_deepnote_index_column": "tt9683250"
        },
        {
         "weighted_average_vote": 6.9,
         "title": "L'altra metà",
         "_deepnote_index_column": "tt9683478"
        },
        {
         "weighted_average_vote": 1.2,
         "title": "Greyhound Attack",
         "_deepnote_index_column": "tt9685652"
        },
        {
         "weighted_average_vote": 7.2,
         "title": "You Will Die at 20",
         "_deepnote_index_column": "tt9686154"
        },
        {
         "weighted_average_vote": 7.1,
         "title": "Il re di Staten Island",
         "_deepnote_index_column": "tt9686708"
        },
        {
         "weighted_average_vote": 6.9,
         "title": "Jaanu",
         "_deepnote_index_column": "tt9691336"
        },
        {
         "weighted_average_vote": 8.2,
         "title": "27 Steps of May",
         "_deepnote_index_column": "tt9695156"
        },
        {
         "weighted_average_vote": 6.5,
         "title": "De kuthoer",
         "_deepnote_index_column": "tt9695308"
        },
        {
         "weighted_average_vote": 6.9,
         "title": "De Club van Lelijke Kinderen",
         "_deepnote_index_column": "tt9695404"
        },
        {
         "weighted_average_vote": 6.2,
         "title": "Dreissig",
         "_deepnote_index_column": "tt9695764"
        },
        {
         "weighted_average_vote": 7,
         "title": "Delirijum tremens",
         "_deepnote_index_column": "tt9698430"
        },
        {
         "weighted_average_vote": 6.1,
         "title": "Thalasso",
         "_deepnote_index_column": "tt9699640"
        },
        {
         "weighted_average_vote": 6,
         "title": "Zárójelentés",
         "_deepnote_index_column": "tt9701934"
        },
        {
         "weighted_average_vote": 7,
         "title": "Timeless Love",
         "_deepnote_index_column": "tt9702698"
        },
        {
         "weighted_average_vote": 5.7,
         "title": "Diner",
         "_deepnote_index_column": "tt9729206"
        },
        {
         "weighted_average_vote": 4,
         "title": "A Man without a Shadow",
         "_deepnote_index_column": "tt9731048"
        },
        {
         "weighted_average_vote": 5.3,
         "title": "C'è tempo",
         "_deepnote_index_column": "tt9731442"
        },
        {
         "weighted_average_vote": 6.8,
         "title": "The Night House",
         "_deepnote_index_column": "tt9731534"
        },
        {
         "weighted_average_vote": 6.2,
         "title": "El plan",
         "_deepnote_index_column": "tt9733094"
        },
        {
         "weighted_average_vote": 6.6,
         "title": "Doraemon - Nobita alla scoperta della luna",
         "_deepnote_index_column": "tt9735672"
        },
        {
         "weighted_average_vote": 6.3,
         "title": "Boyz in the Wood",
         "_deepnote_index_column": "tt9735758"
        },
        {
         "weighted_average_vote": 7.2,
         "title": "Rawang... Sinsud thang pheuxn",
         "_deepnote_index_column": "tt9737688"
        },
        {
         "weighted_average_vote": 7.5,
         "title": "Platzspitzbaby",
         "_deepnote_index_column": "tt9737798"
        },
        {
         "weighted_average_vote": 2.5,
         "title": "Bone Breaker",
         "_deepnote_index_column": "tt9738400"
        },
        {
         "weighted_average_vote": 6.9,
         "title": "Persian Lessons",
         "_deepnote_index_column": "tt9738784"
        },
        {
         "weighted_average_vote": 5.5,
         "title": "Naukar Vahuti Da",
         "_deepnote_index_column": "tt9740272"
        },
        {
         "weighted_average_vote": 8,
         "title": "Brochevarevarura",
         "_deepnote_index_column": "tt9742334"
        },
        {
         "weighted_average_vote": 8.5,
         "title": "Mallesham",
         "_deepnote_index_column": "tt9742362"
        },
        {
         "weighted_average_vote": 5.8,
         "title": "Xue bao",
         "_deepnote_index_column": "tt9742422"
        },
        {
         "weighted_average_vote": 6.4,
         "title": "Helene",
         "_deepnote_index_column": "tt9742588"
        },
        {
         "weighted_average_vote": 4.9,
         "title": "Mi Amigo Alexis",
         "_deepnote_index_column": "tt9747396"
        },
        {
         "weighted_average_vote": 7,
         "title": "Beasts That Cling to the Straw",
         "_deepnote_index_column": "tt9747594"
        },
        {
         "weighted_average_vote": 5.2,
         "title": "Icing on the Cake",
         "_deepnote_index_column": "tt9749144"
        },
        {
         "weighted_average_vote": 4.4,
         "title": "Öldür Beni Sevgilim",
         "_deepnote_index_column": "tt9749604"
        },
        {
         "weighted_average_vote": 5.8,
         "title": "Bolshaya poeziya",
         "_deepnote_index_column": "tt9750028"
        },
        {
         "weighted_average_vote": 6.6,
         "title": "Ghasr-e Shirin",
         "_deepnote_index_column": "tt9750864"
        },
        {
         "weighted_average_vote": 6.2,
         "title": "Hikkoshi daimyô!",
         "_deepnote_index_column": "tt9752544"
        },
        {
         "weighted_average_vote": 6.6,
         "title": "23 Nafar",
         "_deepnote_index_column": "tt9755608"
        },
        {
         "weighted_average_vote": 6.5,
         "title": "Maskhare Baz",
         "_deepnote_index_column": "tt9755660"
        },
        {
         "weighted_average_vote": 6.9,
         "title": "The Dude in Me",
         "_deepnote_index_column": "tt9759978"
        },
        {
         "weighted_average_vote": 6.1,
         "title": "Ni no Kuni",
         "_deepnote_index_column": "tt9760504"
        },
        {
         "weighted_average_vote": 5.9,
         "title": "D/O Parvathamma",
         "_deepnote_index_column": "tt9760512"
        },
        {
         "weighted_average_vote": 5,
         "title": "Villain",
         "_deepnote_index_column": "tt9760934"
        },
        {
         "weighted_average_vote": 6.4,
         "title": "Nobadi",
         "_deepnote_index_column": "tt9761042"
        },
        {
         "weighted_average_vote": 4.1,
         "title": "Sadako",
         "_deepnote_index_column": "tt9764556"
        },
        {
         "weighted_average_vote": 6.5,
         "title": "Gimyohan gajok",
         "_deepnote_index_column": "tt9765144"
        },
        {
         "weighted_average_vote": 8.4,
         "title": "Damayanthi",
         "_deepnote_index_column": "tt9766160"
        },
        {
         "weighted_average_vote": 6.1,
         "title": "Bhangra Paa Le",
         "_deepnote_index_column": "tt9766280"
        },
        {
         "weighted_average_vote": 6.3,
         "title": "Kanpuriye",
         "_deepnote_index_column": "tt9766310"
        },
        {
         "weighted_average_vote": 6.2,
         "title": "Un sogno per papà",
         "_deepnote_index_column": "tt9767556"
        },
        {
         "weighted_average_vote": 5.6,
         "title": "Jada",
         "_deepnote_index_column": "tt9769714"
        },
        {
         "weighted_average_vote": 4.8,
         "title": "Mareld",
         "_deepnote_index_column": "tt9773184"
        },
        {
         "weighted_average_vote": 6.3,
         "title": "Siempre sí",
         "_deepnote_index_column": "tt9773532"
        },
        {
         "weighted_average_vote": 6.5,
         "title": "Da 5 Bloods - Come fratelli",
         "_deepnote_index_column": "tt9777644"
        },
        {
         "weighted_average_vote": 4.5,
         "title": "C'est quoi cette mamie?!",
         "_deepnote_index_column": "tt9777790"
        },
        {
         "weighted_average_vote": 6.3,
         "title": "Shinbun kisha",
         "_deepnote_index_column": "tt9778190"
        },
        {
         "weighted_average_vote": 6.3,
         "title": "A Girl Missing",
         "_deepnote_index_column": "tt9778738"
        },
        {
         "weighted_average_vote": 5.1,
         "title": "Il sindaco del Rione Sanità",
         "_deepnote_index_column": "tt9778888"
        },
        {
         "weighted_average_vote": 6.5,
         "title": "Cosa mi lasci di te",
         "_deepnote_index_column": "tt9779516"
        },
        {
         "weighted_average_vote": 6.8,
         "title": "Mestari Cheng",
         "_deepnote_index_column": "tt9779658"
        },
        {
         "weighted_average_vote": 7.4,
         "title": "15 Years",
         "_deepnote_index_column": "tt9779804"
        },
        {
         "weighted_average_vote": 7.3,
         "title": "Qissat Hubb",
         "_deepnote_index_column": "tt9780140"
        },
        {
         "weighted_average_vote": 7.7,
         "title": "Apollo: Missions to the Moon",
         "_deepnote_index_column": "tt9782756"
        },
        {
         "weighted_average_vote": 1.8,
         "title": "Adventures of Aladdin",
         "_deepnote_index_column": "tt9783778"
        },
        {
         "weighted_average_vote": 6.2,
         "title": "Jandar",
         "_deepnote_index_column": "tt9784048"
        },
        {
         "weighted_average_vote": 5.9,
         "title": "The Kissing Booth 2",
         "_deepnote_index_column": "tt9784456"
        },
        {
         "weighted_average_vote": 6.1,
         "title": "Adiós",
         "_deepnote_index_column": "tt9786512"
        },
        {
         "weighted_average_vote": 5.9,
         "title": "Ninu Veedani Needanu Nene",
         "_deepnote_index_column": "tt9789440"
        },
        {
         "weighted_average_vote": 6.8,
         "title": "Porinju Mariam Jose",
         "_deepnote_index_column": "tt9789670"
        },
        {
         "weighted_average_vote": 7.4,
         "title": "Un rubio",
         "_deepnote_index_column": "tt9789686"
        },
        {
         "weighted_average_vote": 6.8,
         "title": "Athiran",
         "_deepnote_index_column": "tt9793334"
        },
        {
         "weighted_average_vote": 5.6,
         "title": "The Vanished",
         "_deepnote_index_column": "tt9794630"
        },
        {
         "weighted_average_vote": 5.8,
         "title": "Tobol",
         "_deepnote_index_column": "tt9795368"
        },
        {
         "weighted_average_vote": 6.3,
         "title": "Falaknuma Das",
         "_deepnote_index_column": "tt9799984"
        },
        {
         "weighted_average_vote": 6.5,
         "title": "Sang Krasue",
         "_deepnote_index_column": "tt9799992"
        },
        {
         "weighted_average_vote": 6.9,
         "title": "Hvítur, hvítur dagur",
         "_deepnote_index_column": "tt9801736"
        },
        {
         "weighted_average_vote": 6.9,
         "title": "Sangkar",
         "_deepnote_index_column": "tt9805110"
        },
        {
         "weighted_average_vote": 4.4,
         "title": "Otryv",
         "_deepnote_index_column": "tt9805504"
        },
        {
         "weighted_average_vote": 6.1,
         "title": "Pasmerkti. Kauno Romanas",
         "_deepnote_index_column": "tt9805740"
        },
        {
         "weighted_average_vote": 7.6,
         "title": "Dov'è il mio corpo?",
         "_deepnote_index_column": "tt9806192"
        },
        {
         "weighted_average_vote": 6.4,
         "title": "Isi & Ossi",
         "_deepnote_index_column": "tt9806322"
        },
        {
         "weighted_average_vote": 5.7,
         "title": "La febbre del cemento",
         "_deepnote_index_column": "tt9806336"
        },
        {
         "weighted_average_vote": 3.4,
         "title": "Happy Sardar",
         "_deepnote_index_column": "tt9808564"
        },
        {
         "weighted_average_vote": 5.2,
         "title": "Todas las pecas del mundo",
         "_deepnote_index_column": "tt9809140"
        },
        {
         "weighted_average_vote": 6.7,
         "title": "Kyô mo iyagarase bentô",
         "_deepnote_index_column": "tt9810090"
        },
        {
         "weighted_average_vote": 4.7,
         "title": "A Second Chance: Rivals!",
         "_deepnote_index_column": "tt9810420"
        },
        {
         "weighted_average_vote": 5.7,
         "title": "Inséparables",
         "_deepnote_index_column": "tt9811374"
        },
        {
         "weighted_average_vote": 8.3,
         "title": "Chaos",
         "_deepnote_index_column": "tt9811598"
        },
        {
         "weighted_average_vote": 5.5,
         "title": "G-Loc",
         "_deepnote_index_column": "tt9812258"
        },
        {
         "weighted_average_vote": 7.5,
         "title": "Håp",
         "_deepnote_index_column": "tt9812614"
        },
        {
         "weighted_average_vote": 6.1,
         "title": "A Very British Christmas",
         "_deepnote_index_column": "tt9815084"
        },
        {
         "weighted_average_vote": 4.8,
         "title": "The Hard Way",
         "_deepnote_index_column": "tt9815714"
        },
        {
         "weighted_average_vote": 5.2,
         "title": "Terapia di letto",
         "_deepnote_index_column": "tt9815998"
        },
        {
         "weighted_average_vote": 5.7,
         "title": "Kaguya-sama wa kokurasetai ~ Tensai tachi no ren'ai zunô sen ~",
         "_deepnote_index_column": "tt9816396"
        },
        {
         "weighted_average_vote": 6.4,
         "title": "Majaray Nimrooz: Radde Khoon",
         "_deepnote_index_column": "tt9816970"
        },
        {
         "weighted_average_vote": 5.2,
         "title": "Talla",
         "_deepnote_index_column": "tt9816988"
        },
        {
         "weighted_average_vote": 6.7,
         "title": "Shabi Ke Mah Kamel Shod",
         "_deepnote_index_column": "tt9817018"
        },
        {
         "weighted_average_vote": 6.3,
         "title": "Ghasam",
         "_deepnote_index_column": "tt9817044"
        },
        {
         "weighted_average_vote": 7.9,
         "title": "Metri Shesh Va Nim",
         "_deepnote_index_column": "tt9817070"
        },
        {
         "weighted_average_vote": 5.8,
         "title": "15 August",
         "_deepnote_index_column": "tt9817300"
        },
        {
         "weighted_average_vote": 3.6,
         "title": "Jai Mummy Di",
         "_deepnote_index_column": "tt9817760"
        },
        {
         "weighted_average_vote": 7.2,
         "title": "Yowis Ben 2",
         "_deepnote_index_column": "tt9818102"
        },
        {
         "weighted_average_vote": 5.7,
         "title": "Villain",
         "_deepnote_index_column": "tt9820352"
        },
        {
         "weighted_average_vote": 5.4,
         "title": "Misteri Dilaila",
         "_deepnote_index_column": "tt9820594"
        },
        {
         "weighted_average_vote": 6.8,
         "title": "Wet Season",
         "_deepnote_index_column": "tt9822706"
        },
        {
         "weighted_average_vote": 5.2,
         "title": "Czarny Mercedes",
         "_deepnote_index_column": "tt9823170"
        },
        {
         "weighted_average_vote": 6.6,
         "title": "Avant qu'on explose",
         "_deepnote_index_column": "tt9825006"
        },
        {
         "weighted_average_vote": 6.9,
         "title": "Sayonara kuchibiru",
         "_deepnote_index_column": "tt9827784"
        },
        {
         "weighted_average_vote": 6,
         "title": "#IoSonoQui",
         "_deepnote_index_column": "tt9828918"
        },
        {
         "weighted_average_vote": 5,
         "title": "The Banana Splits Movie",
         "_deepnote_index_column": "tt9831136"
        },
        {
         "weighted_average_vote": 7.3,
         "title": "Ahaa Re",
         "_deepnote_index_column": "tt9834062"
        },
        {
         "weighted_average_vote": 6.1,
         "title": "Yalda",
         "_deepnote_index_column": "tt9834492"
        },
        {
         "weighted_average_vote": 5,
         "title": "Fei fen shu nü",
         "_deepnote_index_column": "tt9838372"
        },
        {
         "weighted_average_vote": 3.5,
         "title": "Murphy's Law: Ghanoone Morfi",
         "_deepnote_index_column": "tt9839040"
        },
        {
         "weighted_average_vote": 5.5,
         "title": "Se mi vuoi bene",
         "_deepnote_index_column": "tt9840382"
        },
        {
         "weighted_average_vote": 7.2,
         "title": "Love Struck Sick",
         "_deepnote_index_column": "tt9840958"
        },
        {
         "weighted_average_vote": 5.7,
         "title": "La isla de las mentiras",
         "_deepnote_index_column": "tt9843470"
        },
        {
         "weighted_average_vote": 7.7,
         "title": "Code Geass: Lelouch of the Rebellion Episode III",
         "_deepnote_index_column": "tt9844256"
        },
        {
         "weighted_average_vote": 5.2,
         "title": "Satsujinki o kau onna",
         "_deepnote_index_column": "tt9844358"
        },
        {
         "weighted_average_vote": 4.5,
         "title": "Out of Liberty",
         "_deepnote_index_column": "tt9844368"
        },
        {
         "weighted_average_vote": 7.2,
         "title": "Deux",
         "_deepnote_index_column": "tt9845110"
        },
        {
         "weighted_average_vote": 6.9,
         "title": "Fin de siglo",
         "_deepnote_index_column": "tt9845398"
        },
        {
         "weighted_average_vote": 6.5,
         "title": "Charter",
         "_deepnote_index_column": "tt9850050"
        },
        {
         "weighted_average_vote": 6.5,
         "title": "Children of the Sea",
         "_deepnote_index_column": "tt9850064"
        },
        {
         "weighted_average_vote": 7.6,
         "title": "Bruno Manser - Die Stimme des Regenwaldes",
         "_deepnote_index_column": "tt9850264"
        },
        {
         "weighted_average_vote": 6.3,
         "title": "Dreambuilders - La fabbrica dei sogni",
         "_deepnote_index_column": "tt9855978"
        },
        {
         "weighted_average_vote": 5.4,
         "title": "Nightmare Tenant",
         "_deepnote_index_column": "tt9855990"
        },
        {
         "weighted_average_vote": 5.9,
         "title": "Pan T.",
         "_deepnote_index_column": "tt9856606"
        },
        {
         "weighted_average_vote": 5.5,
         "title": "Hombres de piel dura",
         "_deepnote_index_column": "tt9859504"
        },
        {
         "weighted_average_vote": 5.6,
         "title": "Falling Inn Love - Ristrutturazione con amore",
         "_deepnote_index_column": "tt9860728"
        },
        {
         "weighted_average_vote": 2.3,
         "title": "Abduction 101",
         "_deepnote_index_column": "tt9860860"
        },
        {
         "weighted_average_vote": 4.8,
         "title": "Ali",
         "_deepnote_index_column": "tt9861522"
        },
        {
         "weighted_average_vote": 5.4,
         "title": "Urbanus: De Vuilnisheld",
         "_deepnote_index_column": "tt9863566"
        },
        {
         "weighted_average_vote": 3.9,
         "title": "Beyond the Line",
         "_deepnote_index_column": "tt9866208"
        },
        {
         "weighted_average_vote": 5.4,
         "title": "Mon Ami Walid",
         "_deepnote_index_column": "tt9866344"
        },
        {
         "weighted_average_vote": 3.7,
         "title": "Paranormal Investigation",
         "_deepnote_index_column": "tt9866700"
        },
        {
         "weighted_average_vote": 6.7,
         "title": "Gholamreza Takhti",
         "_deepnote_index_column": "tt9870726"
        },
        {
         "weighted_average_vote": 5.5,
         "title": "Momenti di trascurabile felicità",
         "_deepnote_index_column": "tt9872556"
        },
        {
         "weighted_average_vote": 5.1,
         "title": "Domovoy",
         "_deepnote_index_column": "tt9875852"
        },
        {
         "weighted_average_vote": 5.6,
         "title": "Koridor bessmertiya",
         "_deepnote_index_column": "tt9876160"
        },
        {
         "weighted_average_vote": 5.3,
         "title": "Nalpathiyonnu",
         "_deepnote_index_column": "tt9877340"
        },
        {
         "weighted_average_vote": 6,
         "title": "Subharathri",
         "_deepnote_index_column": "tt9878242"
        },
        {
         "weighted_average_vote": 6.4,
         "title": "Huisvrouwen bestaan niet 2",
         "_deepnote_index_column": "tt9878598"
        },
        {
         "weighted_average_vote": 4.5,
         "title": "Dulce Familia",
         "_deepnote_index_column": "tt9880982"
        },
        {
         "weighted_average_vote": 2.2,
         "title": "Aakashaganga II",
         "_deepnote_index_column": "tt9883042"
        },
        {
         "weighted_average_vote": 5.8,
         "title": "Dream Horse",
         "_deepnote_index_column": "tt9883996"
        },
        {
         "weighted_average_vote": 8.1,
         "title": "Munthiri Monchan",
         "_deepnote_index_column": "tt9886872"
        },
        {
         "weighted_average_vote": 7.5,
         "title": "Season of Love",
         "_deepnote_index_column": "tt9887520"
        },
        {
         "weighted_average_vote": 3.5,
         "title": "Bulletproof 2",
         "_deepnote_index_column": "tt9887580"
        },
        {
         "weighted_average_vote": 7.2,
         "title": "Nasir",
         "_deepnote_index_column": "tt9890308"
        },
        {
         "weighted_average_vote": 6.9,
         "title": "Mogul Mowgli",
         "_deepnote_index_column": "tt9892094"
        },
        {
         "weighted_average_vote": 7.2,
         "title": "No Dorai",
         "_deepnote_index_column": "tt9892338"
        },
        {
         "weighted_average_vote": 6,
         "title": "Sathru",
         "_deepnote_index_column": "tt9894098"
        },
        {
         "weighted_average_vote": 7.9,
         "title": "Upin & Ipin: Keris Siamang Tunggal",
         "_deepnote_index_column": "tt9894394"
        },
        {
         "weighted_average_vote": 7.2,
         "title": "Min pappa Marianne",
         "_deepnote_index_column": "tt9894440"
        },
        {
         "weighted_average_vote": 6.1,
         "title": "VFW",
         "_deepnote_index_column": "tt9894470"
        },
        {
         "weighted_average_vote": 5.7,
         "title": "The Pilgrim's Progress",
         "_deepnote_index_column": "tt9896916"
        },
        {
         "weighted_average_vote": 5.1,
         "title": "Coffee & Kareem",
         "_deepnote_index_column": "tt9898858"
        },
        {
         "weighted_average_vote": 3.9,
         "title": "Ashoftegi",
         "_deepnote_index_column": "tt9899850"
        },
        {
         "weighted_average_vote": 4,
         "title": "Columbus",
         "_deepnote_index_column": "tt9899880"
        },
        {
         "weighted_average_vote": 6.9,
         "title": "Lupin III: La menzogna di Fujiko Mine",
         "_deepnote_index_column": "tt9900060"
        },
        {
         "weighted_average_vote": 8.5,
         "title": "Kaithi",
         "_deepnote_index_column": "tt9900782"
        },
        {
         "weighted_average_vote": 7,
         "title": "Jessie",
         "_deepnote_index_column": "tt9903716"
        },
        {
         "weighted_average_vote": 4.8,
         "title": "La reina de los lagartos",
         "_deepnote_index_column": "tt9904250"
        },
        {
         "weighted_average_vote": 5,
         "title": "Enemy Lines",
         "_deepnote_index_column": "tt9904802"
        },
        {
         "weighted_average_vote": 7.4,
         "title": "Ottam",
         "_deepnote_index_column": "tt9905412"
        },
        {
         "weighted_average_vote": 8.8,
         "title": "Pengalila",
         "_deepnote_index_column": "tt9905462"
        },
        {
         "weighted_average_vote": 6.8,
         "title": "Manoharam",
         "_deepnote_index_column": "tt9906644"
        },
        {
         "weighted_average_vote": 5.3,
         "title": "Le lion",
         "_deepnote_index_column": "tt9908390"
        },
        {
         "weighted_average_vote": 7.7,
         "title": "De Beentjes van Sint-Hildegard",
         "_deepnote_index_column": "tt9911196"
        },
        {
         "weighted_average_vote": 7.9,
         "title": "Padmavyuhathile Abhimanyu",
         "_deepnote_index_column": "tt9911774"
        },
        {
         "weighted_average_vote": 6.4,
         "title": "Sokagin Çocuklari",
         "_deepnote_index_column": "tt9914286"
        },
        {
         "weighted_average_vote": 6.7,
         "title": "La vida sense la Sara Amat",
         "_deepnote_index_column": "tt9914942"
        }
       ]
      },
      "text/plain": "               weighted_average_vote                           title\nimdb_title_id                                                       \ntt0000009                        5.9                      Miss Jerry\ntt0000574                        6.1     The Story of the Kelly Gang\ntt0001892                        5.8                  Den sorte drøm\ntt0002101                        5.2                       Cleopatra\ntt0002130                        7.0                       L'Inferno\n...                              ...                             ...\ntt9908390                        5.3                         Le lion\ntt9911196                        7.7  De Beentjes van Sint-Hildegard\ntt9911774                        7.9       Padmavyuhathile Abhimanyu\ntt9914286                        6.4               Sokagin Çocuklari\ntt9914942                        6.7      La vida sense la Sara Amat\n\n[85855 rows x 2 columns]",
      "text/html": "<div>\n<style scoped>\n    .dataframe tbody tr th:only-of-type {\n        vertical-align: middle;\n    }\n\n    .dataframe tbody tr th {\n        vertical-align: top;\n    }\n\n    .dataframe thead th {\n        text-align: right;\n    }\n</style>\n<table border=\"1\" class=\"dataframe\">\n  <thead>\n    <tr style=\"text-align: right;\">\n      <th></th>\n      <th>weighted_average_vote</th>\n      <th>title</th>\n    </tr>\n    <tr>\n      <th>imdb_title_id</th>\n      <th></th>\n      <th></th>\n    </tr>\n  </thead>\n  <tbody>\n    <tr>\n      <th>tt0000009</th>\n      <td>5.9</td>\n      <td>Miss Jerry</td>\n    </tr>\n    <tr>\n      <th>tt0000574</th>\n      <td>6.1</td>\n      <td>The Story of the Kelly Gang</td>\n    </tr>\n    <tr>\n      <th>tt0001892</th>\n      <td>5.8</td>\n      <td>Den sorte drøm</td>\n    </tr>\n    <tr>\n      <th>tt0002101</th>\n      <td>5.2</td>\n      <td>Cleopatra</td>\n    </tr>\n    <tr>\n      <th>tt0002130</th>\n      <td>7.0</td>\n      <td>L'Inferno</td>\n    </tr>\n    <tr>\n      <th>...</th>\n      <td>...</td>\n      <td>...</td>\n    </tr>\n    <tr>\n      <th>tt9908390</th>\n      <td>5.3</td>\n      <td>Le lion</td>\n    </tr>\n    <tr>\n      <th>tt9911196</th>\n      <td>7.7</td>\n      <td>De Beentjes van Sint-Hildegard</td>\n    </tr>\n    <tr>\n      <th>tt9911774</th>\n      <td>7.9</td>\n      <td>Padmavyuhathile Abhimanyu</td>\n    </tr>\n    <tr>\n      <th>tt9914286</th>\n      <td>6.4</td>\n      <td>Sokagin Çocuklari</td>\n    </tr>\n    <tr>\n      <th>tt9914942</th>\n      <td>6.7</td>\n      <td>La vida sense la Sara Amat</td>\n    </tr>\n  </tbody>\n</table>\n<p>85855 rows × 2 columns</p>\n</div>"
     },
     "metadata": {}
    }
   ]
  },
  {
   "cell_type": "code",
   "metadata": {
    "tags": [],
    "cell_id": "00020-024eb76d-fef4-4683-8870-4c15717ad02a",
    "deepnote_to_be_reexecuted": false,
    "source_hash": "912e8173",
    "execution_start": 1638451554135,
    "execution_millis": 219,
    "deepnote_cell_type": "code"
   },
   "source": "# merge IMDB and Netflix data\nmovie_ratings = pd.merge(data, rating_df, how = 'left', on = 'title')\nmovie_ratings",
   "execution_count": null,
   "outputs": [
    {
     "output_type": "execute_result",
     "execution_count": 20,
     "data": {
      "application/vnd.deepnote.dataframe.v2+json": {
       "row_count": 9391,
       "column_count": 14,
       "columns": [
        {
         "name": "show_id",
         "dtype": "object",
         "stats": {
          "unique_count": 8807,
          "nan_count": 0,
          "categories": [
           {
            "name": "s633",
            "count": 7
           },
           {
            "name": "s2433",
            "count": 7
           },
           {
            "name": "8805 others",
            "count": 9377
           }
          ]
         }
        },
        {
         "name": "type",
         "dtype": "object",
         "stats": {
          "unique_count": 2,
          "nan_count": 0,
          "categories": [
           {
            "name": "Movie",
            "count": 6580
           },
           {
            "name": "TV Show",
            "count": 2811
           }
          ]
         }
        },
        {
         "name": "title",
         "dtype": "object",
         "stats": {
          "unique_count": 8807,
          "nan_count": 0,
          "categories": [
           {
            "name": "Wanted",
            "count": 7
           },
           {
            "name": "Alone",
            "count": 7
           },
           {
            "name": "8805 others",
            "count": 9377
           }
          ]
         }
        },
        {
         "name": "director",
         "dtype": "object",
         "stats": {
          "unique_count": 4528,
          "nan_count": 2757,
          "categories": [
           {
            "name": "Rajiv Chilaka",
            "count": 19
           },
           {
            "name": "4527 others",
            "count": 6615
           },
           {
            "name": "Missing",
            "count": 2757
           }
          ]
         }
        },
        {
         "name": "cast",
         "dtype": "object",
         "stats": {
          "unique_count": 7692,
          "nan_count": 847,
          "categories": [
           {
            "name": "David Attenborough",
            "count": 20
           },
           {
            "name": "7691 others",
            "count": 8524
           },
           {
            "name": "Missing",
            "count": 847
           }
          ]
         }
        },
        {
         "name": "country",
         "dtype": "object",
         "stats": {
          "unique_count": 748,
          "nan_count": 864,
          "categories": [
           {
            "name": "United States",
            "count": 2970
           },
           {
            "name": "747 others",
            "count": 5557
           },
           {
            "name": "Missing",
            "count": 864
           }
          ]
         }
        },
        {
         "name": "date_added",
         "dtype": "object",
         "stats": {
          "unique_count": 1767,
          "nan_count": 11,
          "categories": [
           {
            "name": "January 1, 2020",
            "count": 116
           },
           {
            "name": "1766 others",
            "count": 9264
           },
           {
            "name": "Missing",
            "count": 11
           }
          ]
         }
        },
        {
         "name": "release_year",
         "dtype": "int64",
         "stats": {
          "unique_count": 74,
          "nan_count": 0,
          "min": "1925",
          "max": "2021",
          "histogram": [
           {
            "bin_start": 1925,
            "bin_end": 1934.6,
            "count": 1
           },
           {
            "bin_start": 1934.6,
            "bin_end": 1944.2,
            "count": 8
           },
           {
            "bin_start": 1944.2,
            "bin_end": 1953.8,
            "count": 8
           },
           {
            "bin_start": 1953.8,
            "bin_end": 1963.4,
            "count": 23
           },
           {
            "bin_start": 1963.4,
            "bin_end": 1973,
            "count": 28
           },
           {
            "bin_start": 1973,
            "bin_end": 1982.6,
            "count": 108
           },
           {
            "bin_start": 1982.6,
            "bin_end": 1992.2,
            "count": 158
           },
           {
            "bin_start": 1992.2,
            "bin_end": 2001.8,
            "count": 314
           },
           {
            "bin_start": 2001.8,
            "bin_end": 2011.4,
            "count": 1201
           },
           {
            "bin_start": 2011.4,
            "bin_end": 2021,
            "count": 7542
           }
          ]
         }
        },
        {
         "name": "rating",
         "dtype": "object",
         "stats": {
          "unique_count": 17,
          "nan_count": 4,
          "categories": [
           {
            "name": "TV-MA",
            "count": 3453
           },
           {
            "name": "16 others",
            "count": 5934
           },
           {
            "name": "Missing",
            "count": 4
           }
          ]
         }
        },
        {
         "name": "duration",
         "dtype": "object",
         "stats": {
          "unique_count": 220,
          "nan_count": 3,
          "categories": [
           {
            "name": "1 Season",
            "count": 1885
           },
           {
            "name": "219 others",
            "count": 7503
           },
           {
            "name": "Missing",
            "count": 3
           }
          ]
         }
        },
        {
         "name": "listed_in",
         "dtype": "object"
        },
        {
         "name": "description",
         "dtype": "object"
        },
        {
         "name": "description_sentiment_score",
         "dtype": "float64"
        },
        {
         "name": "weighted_average_vote",
         "dtype": "float64"
        },
        {
         "name": "_deepnote_index_column",
         "dtype": "int64"
        }
       ],
       "rows_top": [
        {
         "show_id": "s1",
         "type": "Movie",
         "title": "Dick Johnson Is Dead",
         "director": "Kirsten Johnson",
         "cast": "nan",
         "country": "United States",
         "date_added": "September 25, 2021",
         "release_year": 2020,
         "rating": "PG-13",
         "duration": "90 min",
         "listed_in": "Documentaries",
         "description": "As her father nears the end of his life, filmmaker Kirsten Johnson stages his death in inventive an…",
         "description_sentiment_score": -0.296,
         "weighted_average_vote": "nan",
         "_deepnote_index_column": 0
        },
        {
         "show_id": "s2",
         "type": "TV Show",
         "title": "Blood & Water",
         "director": "nan",
         "cast": "Ama Qamata, Khosi Ngema, Gail Mabalane, Thabang Molaba, Dillon Windvogel, Natasha Thahane, Arno Gre…",
         "country": "South Africa",
         "date_added": "September 24, 2021",
         "release_year": 2021,
         "rating": "TV-MA",
         "duration": "2 Seasons",
         "listed_in": "International TV Shows, TV Dramas, TV Mysteries",
         "description": "After crossing paths at a party, a Cape Town teen sets out to prove whether a private-school swimmi…",
         "description_sentiment_score": -0.1531,
         "weighted_average_vote": "nan",
         "_deepnote_index_column": 1
        },
        {
         "show_id": "s3",
         "type": "TV Show",
         "title": "Ganglands",
         "director": "Julien Leclercq",
         "cast": "Sami Bouajila, Tracy Gotoas, Samuel Jouy, Nabiha Akkari, Sofia Lesaffre, Salim Kechiouche, Noureddi…",
         "country": "nan",
         "date_added": "September 24, 2021",
         "release_year": 2021,
         "rating": "TV-MA",
         "duration": "1 Season",
         "listed_in": "Crime TV Shows, International TV Shows, TV Action & Adventure",
         "description": "To protect his family from a powerful drug lord, skilled thief Mehdi and his expert team of robbers…",
         "description_sentiment_score": -0.7783,
         "weighted_average_vote": "nan",
         "_deepnote_index_column": 2
        },
        {
         "show_id": "s4",
         "type": "TV Show",
         "title": "Jailbirds New Orleans",
         "director": "nan",
         "cast": "nan",
         "country": "nan",
         "date_added": "September 24, 2021",
         "release_year": 2021,
         "rating": "TV-MA",
         "duration": "1 Season",
         "listed_in": "Docuseries, Reality TV",
         "description": "Feuds, flirtations and toilet talk go down among the incarcerated women at the Orleans Justice Cent…",
         "description_sentiment_score": 0.2263,
         "weighted_average_vote": "nan",
         "_deepnote_index_column": 3
        },
        {
         "show_id": "s5",
         "type": "TV Show",
         "title": "Kota Factory",
         "director": "nan",
         "cast": "Mayur More, Jitendra Kumar, Ranjan Raj, Alam Khan, Ahsaas Channa, Revathi Pillai, Urvi Singh, Arun …",
         "country": "India",
         "date_added": "September 24, 2021",
         "release_year": 2021,
         "rating": "TV-MA",
         "duration": "2 Seasons",
         "listed_in": "International TV Shows, Romantic TV Shows, TV Comedies",
         "description": "In a city of coaching centers known to train India’s finest collegiate minds, an earnest but unexce…",
         "description_sentiment_score": 0.743,
         "weighted_average_vote": "nan",
         "_deepnote_index_column": 4
        },
        {
         "show_id": "s6",
         "type": "TV Show",
         "title": "Midnight Mass",
         "director": "Mike Flanagan",
         "cast": "Kate Siegel, Zach Gilford, Hamish Linklater, Henry Thomas, Kristin Lehman, Samantha Sloyan, Igby Ri…",
         "country": "nan",
         "date_added": "September 24, 2021",
         "release_year": 2021,
         "rating": "TV-MA",
         "duration": "1 Season",
         "listed_in": "TV Dramas, TV Horror, TV Mysteries",
         "description": "The arrival of a charismatic young priest brings glorious miracles, ominous mysteries and renewed r…",
         "description_sentiment_score": 0.128,
         "weighted_average_vote": 2.4,
         "_deepnote_index_column": 5
        },
        {
         "show_id": "s7",
         "type": "Movie",
         "title": "My Little Pony: A New Generation",
         "director": "Robert Cullen, José Luis Ucha",
         "cast": "Vanessa Hudgens, Kimiko Glenn, James Marsden, Sofia Carson, Liza Koshy, Ken Jeong, Elizabeth Perkin…",
         "country": "nan",
         "date_added": "September 24, 2021",
         "release_year": 2021,
         "rating": "PG",
         "duration": "91 min",
         "listed_in": "Children & Family Movies",
         "description": "Equestria's divided. But a bright-eyed hero believes Earth Ponies, Pegasi and Unicorns should be pa…",
         "description_sentiment_score": 0.8402,
         "weighted_average_vote": "nan",
         "_deepnote_index_column": 6
        },
        {
         "show_id": "s8",
         "type": "Movie",
         "title": "Sankofa",
         "director": "Haile Gerima",
         "cast": "Kofi Ghanaba, Oyafunmike Ogunlano, Alexandra Duah, Nick Medley, Mutabaruka, Afemo Omilami, Reggie C…",
         "country": "United States, Ghana, Burkina Faso, United Kingdom, Germany, Ethiopia",
         "date_added": "September 24, 2021",
         "release_year": 1993,
         "rating": "TV-MA",
         "duration": "125 min",
         "listed_in": "Dramas, Independent Movies, International Movies",
         "description": "On a photo shoot in Ghana, an American model slips back in time, becomes enslaved on a plantation a…",
         "description_sentiment_score": -0.7845,
         "weighted_average_vote": 6.9,
         "_deepnote_index_column": 7
        },
        {
         "show_id": "s9",
         "type": "TV Show",
         "title": "The Great British Baking Show",
         "director": "Andy Devonshire",
         "cast": "Mel Giedroyc, Sue Perkins, Mary Berry, Paul Hollywood",
         "country": "United Kingdom",
         "date_added": "September 24, 2021",
         "release_year": 2021,
         "rating": "TV-14",
         "duration": "9 Seasons",
         "listed_in": "British TV Shows, Reality TV",
         "description": "A talented batch of amateur bakers face off in a 10-week competition, whipping up their best dishes…",
         "description_sentiment_score": 0.9382,
         "weighted_average_vote": "nan",
         "_deepnote_index_column": 8
        },
        {
         "show_id": "s10",
         "type": "Movie",
         "title": "The Starling",
         "director": "Theodore Melfi",
         "cast": "Melissa McCarthy, Chris O'Dowd, Kevin Kline, Timothy Olyphant, Daveed Diggs, Skyler Gisondo, Laura …",
         "country": "United States",
         "date_added": "September 24, 2021",
         "release_year": 2021,
         "rating": "PG-13",
         "duration": "104 min",
         "listed_in": "Comedies, Dramas",
         "description": "A woman adjusting to life after a loss contends with a feisty bird that's taken over her garden — a…",
         "description_sentiment_score": -0.6249,
         "weighted_average_vote": "nan",
         "_deepnote_index_column": 9
        },
        {
         "show_id": "s11",
         "type": "TV Show",
         "title": "Vendetta: Truth, Lies and The Mafia",
         "director": "nan",
         "cast": "nan",
         "country": "nan",
         "date_added": "September 24, 2021",
         "release_year": 2021,
         "rating": "TV-MA",
         "duration": "1 Season",
         "listed_in": "Crime TV Shows, Docuseries, International TV Shows",
         "description": "Sicily boasts a bold \"Anti-Mafia\" coalition. But what happens when those trying to bring down organ…",
         "description_sentiment_score": -0.9153,
         "weighted_average_vote": "nan",
         "_deepnote_index_column": 10
        },
        {
         "show_id": "s12",
         "type": "TV Show",
         "title": "Bangkok Breaking",
         "director": "Kongkiat Komesiri",
         "cast": "Sukollawat Kanarot, Sushar Manaying, Pavarit Mongkolpisit, Sahajak Boonthanakit, Suthipongse Thatph…",
         "country": "nan",
         "date_added": "September 23, 2021",
         "release_year": 2021,
         "rating": "TV-MA",
         "duration": "1 Season",
         "listed_in": "Crime TV Shows, International TV Shows, TV Action & Adventure",
         "description": "Struggling to earn a living in Bangkok, a man joins an emergency rescue service and realizes he mus…",
         "description_sentiment_score": -0.6705,
         "weighted_average_vote": "nan",
         "_deepnote_index_column": 11
        },
        {
         "show_id": "s13",
         "type": "Movie",
         "title": "Je Suis Karl",
         "director": "Christian Schwochow",
         "cast": "Luna Wedler, Jannis Niewöhner, Milan Peschel, Edin Hasanović, Anna Fialová, Marlon Boess, Victor Bo…",
         "country": "Germany, Czech Republic",
         "date_added": "September 23, 2021",
         "release_year": 2021,
         "rating": "TV-MA",
         "duration": "127 min",
         "listed_in": "Dramas, International Movies",
         "description": "After most of her family is murdered in a terrorist bombing, a young woman is unknowingly lured int…",
         "description_sentiment_score": -0.9419,
         "weighted_average_vote": "nan",
         "_deepnote_index_column": 12
        },
        {
         "show_id": "s14",
         "type": "Movie",
         "title": "Confessions of an Invisible Girl",
         "director": "Bruno Garotti",
         "cast": "Klara Castanho, Lucca Picon, Júlia Gomes, Marcus Bessa, Kiria Malheiros, Fernanda Concon, Gabriel L…",
         "country": "nan",
         "date_added": "September 22, 2021",
         "release_year": 2021,
         "rating": "TV-PG",
         "duration": "91 min",
         "listed_in": "Children & Family Movies, Comedies",
         "description": "When the clever but socially-awkward Tetê joins a new school, she'll do anything to fit in. But the…",
         "description_sentiment_score": 0.6428,
         "weighted_average_vote": "nan",
         "_deepnote_index_column": 13
        },
        {
         "show_id": "s15",
         "type": "TV Show",
         "title": "Crime Stories: India Detectives",
         "director": "nan",
         "cast": "nan",
         "country": "nan",
         "date_added": "September 22, 2021",
         "release_year": 2021,
         "rating": "TV-MA",
         "duration": "1 Season",
         "listed_in": "British TV Shows, Crime TV Shows, Docuseries",
         "description": "Cameras following Bengaluru police on the job offer a rare glimpse into the complex and challenging…",
         "description_sentiment_score": -0.4404,
         "weighted_average_vote": "nan",
         "_deepnote_index_column": 14
        },
        {
         "show_id": "s16",
         "type": "TV Show",
         "title": "Dear White People",
         "director": "nan",
         "cast": "Logan Browning, Brandon P. Bell, DeRon Horton, Antoinette Robertson, John Patrick Amedori, Ashley B…",
         "country": "United States",
         "date_added": "September 22, 2021",
         "release_year": 2021,
         "rating": "TV-MA",
         "duration": "4 Seasons",
         "listed_in": "TV Comedies, TV Dramas",
         "description": "Students of color navigate the daily slights and slippery politics of life at an Ivy League college…",
         "description_sentiment_score": 0,
         "weighted_average_vote": 6.1,
         "_deepnote_index_column": 15
        },
        {
         "show_id": "s17",
         "type": "Movie",
         "title": "Europe's Most Dangerous Man: Otto Skorzeny in Spain",
         "director": "Pedro de Echave García, Pablo Azorín Williams",
         "cast": "nan",
         "country": "nan",
         "date_added": "September 22, 2021",
         "release_year": 2020,
         "rating": "TV-MA",
         "duration": "67 min",
         "listed_in": "Documentaries, International Movies",
         "description": "Declassified documents reveal the post-WWII life of Otto Skorzeny, a close Hitler ally who escaped …",
         "description_sentiment_score": 0,
         "weighted_average_vote": "nan",
         "_deepnote_index_column": 16
        },
        {
         "show_id": "s18",
         "type": "TV Show",
         "title": "Falsa identidad",
         "director": "nan",
         "cast": "Luis Ernesto Franco, Camila Sodi, Sergio Goyri, Samadhi Zendejas, Eduardo Yáñez, Sonya Smith, Aleja…",
         "country": "Mexico",
         "date_added": "September 22, 2021",
         "release_year": 2020,
         "rating": "TV-MA",
         "duration": "2 Seasons",
         "listed_in": "Crime TV Shows, Spanish-Language TV Shows, TV Dramas",
         "description": "Strangers Diego and Isabel flee their home in Mexico and pretend to be a married couple to escape h…",
         "description_sentiment_score": -0.7964,
         "weighted_average_vote": "nan",
         "_deepnote_index_column": 17
        },
        {
         "show_id": "s19",
         "type": "Movie",
         "title": "Intrusion",
         "director": "Adam Salky",
         "cast": "Freida Pinto, Logan Marshall-Green, Robert John Burke, Megan Elisabeth Kelly, Sarah Minnich, Hayes …",
         "country": "nan",
         "date_added": "September 22, 2021",
         "release_year": 2021,
         "rating": "TV-14",
         "duration": "94 min",
         "listed_in": "Thrillers",
         "description": "After a deadly home invasion at a couple’s new dream house, the traumatized wife searches for answe…",
         "description_sentiment_score": -0.6249,
         "weighted_average_vote": "nan",
         "_deepnote_index_column": 18
        },
        {
         "show_id": "s20",
         "type": "TV Show",
         "title": "Jaguar",
         "director": "nan",
         "cast": "Blanca Suárez, Iván Marcos, Óscar Casas, Adrián Lastra, Francesc Garrido, Stefan Weinert, Julia Möl…",
         "country": "nan",
         "date_added": "September 22, 2021",
         "release_year": 2021,
         "rating": "TV-MA",
         "duration": "1 Season",
         "listed_in": "International TV Shows, Spanish-Language TV Shows, TV Action & Adventure",
         "description": "In the 1960s, a Holocaust survivor joins a group of self-trained spies who seek justice against Naz…",
         "description_sentiment_score": 0.6369,
         "weighted_average_vote": 5.5,
         "_deepnote_index_column": 19
        },
        {
         "show_id": "s21",
         "type": "TV Show",
         "title": "Monsters Inside: The 24 Faces of Billy Milligan",
         "director": "Olivier Megaton",
         "cast": "nan",
         "country": "nan",
         "date_added": "September 22, 2021",
         "release_year": 2021,
         "rating": "TV-14",
         "duration": "1 Season",
         "listed_in": "Crime TV Shows, Docuseries, International TV Shows",
         "description": "In the late 1970s, an accused serial rapist claims multiple personalities control his behavior, set…",
         "description_sentiment_score": -0.765,
         "weighted_average_vote": "nan",
         "_deepnote_index_column": 20
        },
        {
         "show_id": "s22",
         "type": "TV Show",
         "title": "Resurrection: Ertugrul",
         "director": "nan",
         "cast": "Engin Altan Düzyatan, Serdar Gökhan, Hülya Darcan, Kaan Taşaner, Esra Bilgiç, Osman Soykut, Serdar …",
         "country": "Turkey",
         "date_added": "September 22, 2021",
         "release_year": 2018,
         "rating": "TV-14",
         "duration": "5 Seasons",
         "listed_in": "International TV Shows, TV Action & Adventure, TV Dramas",
         "description": "When a good deed unwittingly endangers his clan, a 13th-century Turkish warrior agrees to fight a s…",
         "description_sentiment_score": -0.2732,
         "weighted_average_vote": "nan",
         "_deepnote_index_column": 21
        },
        {
         "show_id": "s23",
         "type": "Movie",
         "title": "Avvai Shanmughi",
         "director": "K.S. Ravikumar",
         "cast": "Kamal Hassan, Meena, Gemini Ganesan, Heera Rajgopal, Nassar, S.P. Balasubrahmanyam",
         "country": "nan",
         "date_added": "September 21, 2021",
         "release_year": 1996,
         "rating": "TV-PG",
         "duration": "161 min",
         "listed_in": "Comedies, International Movies",
         "description": "Newly divorced and denied visitation rights with his daughter, a doting father disguises himself as…",
         "description_sentiment_score": -0.5994,
         "weighted_average_vote": "nan",
         "_deepnote_index_column": 22
        },
        {
         "show_id": "s24",
         "type": "Movie",
         "title": "Go! Go! Cory Carson: Chrissy Takes the Wheel",
         "director": "Alex Woo, Stanley Moore",
         "cast": "Maisie Benson, Paul Killam, Kerry Gudjohnsen, AC Lim",
         "country": "nan",
         "date_added": "September 21, 2021",
         "release_year": 2021,
         "rating": "TV-Y",
         "duration": "61 min",
         "listed_in": "Children & Family Movies",
         "description": "From arcade games to sled days and hiccup cures, Cory Carson’s curious little sister Chrissy speeds…",
         "description_sentiment_score": 0.8016,
         "weighted_average_vote": "nan",
         "_deepnote_index_column": 23
        },
        {
         "show_id": "s25",
         "type": "Movie",
         "title": "Jeans",
         "director": "S. Shankar",
         "cast": "Prashanth, Aishwarya Rai Bachchan, Sri Lakshmi, Nassar",
         "country": "India",
         "date_added": "September 21, 2021",
         "release_year": 1998,
         "rating": "TV-14",
         "duration": "166 min",
         "listed_in": "Comedies, International Movies, Romantic Movies",
         "description": "When the father of the man she loves insists that his twin sons marry twin sisters, a woman creates…",
         "description_sentiment_score": 0.8176,
         "weighted_average_vote": 6.5,
         "_deepnote_index_column": 24
        },
        {
         "show_id": "s26",
         "type": "TV Show",
         "title": "Love on the Spectrum",
         "director": "nan",
         "cast": "Brooke Satchwell",
         "country": "Australia",
         "date_added": "September 21, 2021",
         "release_year": 2021,
         "rating": "TV-14",
         "duration": "2 Seasons",
         "listed_in": "Docuseries, International TV Shows, Reality TV",
         "description": "Finding love can be hard for anyone. For young adults on the autism spectrum, exploring the unpredi…",
         "description_sentiment_score": 0.5859,
         "weighted_average_vote": "nan",
         "_deepnote_index_column": 25
        },
        {
         "show_id": "s27",
         "type": "Movie",
         "title": "Minsara Kanavu",
         "director": "Rajiv Menon",
         "cast": "Arvind Swamy, Kajol, Prabhu Deva, Nassar, S.P. Balasubrahmanyam, Girish Karnad",
         "country": "nan",
         "date_added": "September 21, 2021",
         "release_year": 1997,
         "rating": "TV-PG",
         "duration": "147 min",
         "listed_in": "Comedies, International Movies, Music & Musicals",
         "description": "A tangled love triangle ensues when a man falls for a woman studying to become a nun — and she fall…",
         "description_sentiment_score": 0.8779,
         "weighted_average_vote": "nan",
         "_deepnote_index_column": 26
        },
        {
         "show_id": "s28",
         "type": "Movie",
         "title": "Grown Ups",
         "director": "Dennis Dugan",
         "cast": "Adam Sandler, Kevin James, Chris Rock, David Spade, Rob Schneider, Salma Hayek, Maria Bello, Maya R…",
         "country": "United States",
         "date_added": "September 20, 2021",
         "release_year": 2010,
         "rating": "PG-13",
         "duration": "103 min",
         "listed_in": "Comedies",
         "description": "Mourning the loss of their beloved junior high basketball coach, five middle-aged pals reunite at a…",
         "description_sentiment_score": 0.3182,
         "weighted_average_vote": "nan",
         "_deepnote_index_column": 27
        },
        {
         "show_id": "s29",
         "type": "Movie",
         "title": "Dark Skies",
         "director": "Scott Stewart",
         "cast": "Keri Russell, Josh Hamilton, J.K. Simmons, Dakota Goyo, Kadan Rockett, L.J. Benet, Rich Hutchman, M…",
         "country": "United States",
         "date_added": "September 19, 2021",
         "release_year": 2013,
         "rating": "PG-13",
         "duration": "97 min",
         "listed_in": "Horror Movies, Sci-Fi & Fantasy",
         "description": "A family’s idyllic suburban life shatters when an alien force invades their home, and as they strug…",
         "description_sentiment_score": -0.5719,
         "weighted_average_vote": "nan",
         "_deepnote_index_column": 28
        },
        {
         "show_id": "s30",
         "type": "Movie",
         "title": "Paranoia",
         "director": "Robert Luketic",
         "cast": "Liam Hemsworth, Gary Oldman, Amber Heard, Harrison Ford, Lucas Till, Embeth Davidtz, Julian McMahon…",
         "country": "United States, India, France",
         "date_added": "September 19, 2021",
         "release_year": 2013,
         "rating": "PG-13",
         "duration": "106 min",
         "listed_in": "Thrillers",
         "description": "Blackmailed by his company's CEO, a low-level employee finds himself forced to spy on the boss's ri…",
         "description_sentiment_score": -0.4588,
         "weighted_average_vote": 6.3,
         "_deepnote_index_column": 29
        },
        {
         "show_id": "s30",
         "type": "Movie",
         "title": "Paranoia",
         "director": "Robert Luketic",
         "cast": "Liam Hemsworth, Gary Oldman, Amber Heard, Harrison Ford, Lucas Till, Embeth Davidtz, Julian McMahon…",
         "country": "United States, India, France",
         "date_added": "September 19, 2021",
         "release_year": 2013,
         "rating": "PG-13",
         "duration": "106 min",
         "listed_in": "Thrillers",
         "description": "Blackmailed by his company's CEO, a low-level employee finds himself forced to spy on the boss's ri…",
         "description_sentiment_score": -0.4588,
         "weighted_average_vote": 4.9,
         "_deepnote_index_column": 30
        },
        {
         "show_id": "s31",
         "type": "Movie",
         "title": "Ankahi Kahaniya",
         "director": "Ashwiny Iyer Tiwari, Abhishek Chaubey, Saket Chaudhary",
         "cast": "Abhishek Banerjee, Rinku Rajguru, Delzad Hiwale, Kunal Kapoor, Zoya Hussain, Nikhil Dwivedi, Palomi…",
         "country": "nan",
         "date_added": "September 17, 2021",
         "release_year": 2021,
         "rating": "TV-14",
         "duration": "111 min",
         "listed_in": "Dramas, Independent Movies, International Movies",
         "description": "As big city life buzzes around them, lonely souls discover surprising sources of connection and com…",
         "description_sentiment_score": 0.34,
         "weighted_average_vote": "nan",
         "_deepnote_index_column": 31
        },
        {
         "show_id": "s32",
         "type": "TV Show",
         "title": "Chicago Party Aunt",
         "director": "nan",
         "cast": "Lauren Ash, Rory O'Malley, RuPaul Charles, Jill Talley, Ike Barinholtz, Jon Barinholtz, Matthew Cra…",
         "country": "nan",
         "date_added": "September 17, 2021",
         "release_year": 2021,
         "rating": "TV-MA",
         "duration": "1 Season",
         "listed_in": "TV Comedies",
         "description": "Chicago Party Aunt Diane is an idolized troublemaker with a talent for avoiding adulthood — and a s…",
         "description_sentiment_score": 0.0258,
         "weighted_average_vote": "nan",
         "_deepnote_index_column": 32
        },
        {
         "show_id": "s33",
         "type": "TV Show",
         "title": "Sex Education",
         "director": "nan",
         "cast": "Asa Butterfield, Gillian Anderson, Ncuti Gatwa, Emma Mackey, Connor Swindells, Kedar Williams-Stirl…",
         "country": "United Kingdom",
         "date_added": "September 17, 2021",
         "release_year": 2020,
         "rating": "TV-MA",
         "duration": "3 Seasons",
         "listed_in": "British TV Shows, International TV Shows, TV Comedies",
         "description": "Insecure Otis has all the answers when it comes to sex advice, thanks to his therapist mom. So rebe…",
         "description_sentiment_score": -0.2006,
         "weighted_average_vote": "nan",
         "_deepnote_index_column": 33
        },
        {
         "show_id": "s34",
         "type": "TV Show",
         "title": "Squid Game",
         "director": "nan",
         "cast": "Lee Jung-jae, Park Hae-soo, Wi Ha-jun, Oh Young-soo, Jung Ho-yeon, Heo Sung-tae, Kim Joo-ryoung, Tr…",
         "country": "nan",
         "date_added": "September 17, 2021",
         "release_year": 2021,
         "rating": "TV-MA",
         "duration": "1 Season",
         "listed_in": "International TV Shows, TV Dramas, TV Thrillers",
         "description": "Hundreds of cash-strapped players accept a strange invitation to compete in children's games. Insid…",
         "description_sentiment_score": 0.6597,
         "weighted_average_vote": "nan",
         "_deepnote_index_column": 34
        }
       ],
       "rows_bottom": [
        {
         "show_id": "s8773",
         "type": "Movie",
         "title": "Yamla Pagla Deewana 2",
         "director": "Sangeeth Sivan",
         "cast": "Dharmendra, Sunny Deol, Bobby Deol, Neha Sharma, Kristina Akheeva, Annu Kapoor, Johnny Lever, Suche…",
         "country": "India",
         "date_added": "May 1, 2017",
         "release_year": 2013,
         "rating": "TV-14",
         "duration": "147 min",
         "listed_in": "Action & Adventure, Comedies, International Movies",
         "description": "Up to his old tricks, con man Dharam poses as a millionaire to get his younger son married to the d…",
         "description_sentiment_score": 0.25,
         "weighted_average_vote": 3.4,
         "_deepnote_index_column": 9355
        },
        {
         "show_id": "s8774",
         "type": "Movie",
         "title": "Yanda Kartavya Aahe",
         "director": "Kedar Shinde",
         "cast": "Ankush Choudhary, Smita Shewale, Mohan Joshi, Atmaram Bhende, Asha Bhende",
         "country": "India",
         "date_added": "January 1, 2018",
         "release_year": 2006,
         "rating": "TV-PG",
         "duration": "151 min",
         "listed_in": "Comedies, Dramas, International Movies",
         "description": "Thanks to an arranged marriage that was designed to make an ailing grandmother happy, newlyweds Rah…",
         "description_sentiment_score": 0.765,
         "weighted_average_vote": 6.6,
         "_deepnote_index_column": 9356
        },
        {
         "show_id": "s8775",
         "type": "Movie",
         "title": "يوم الدين",
         "director": "Abu Bakr Shawky",
         "cast": "Rady Gamal, Ahmed Abdelhafiz, Shahira Fahmy, Shehab Ibrahim, Mohamed Abd El Azim, Osama Abdullah, K…",
         "country": "Egypt, Austria, United States",
         "date_added": "October 22, 2019",
         "release_year": 2018,
         "rating": "TV-14",
         "duration": "97 min",
         "listed_in": "Dramas, Independent Movies, International Movies",
         "description": "A man cured of leprosy and a young orphan leave their colony for the first time to travel across Eg…",
         "description_sentiment_score": 0.0772,
         "weighted_average_vote": "nan",
         "_deepnote_index_column": 9357
        },
        {
         "show_id": "s8776",
         "type": "TV Show",
         "title": "Yeh Meri Family",
         "director": "nan",
         "cast": "Vishesh Bansal, Mona Singh, Akarsh Khurana, Ahan Nirban, Ruhi Khan, Prasad Reddy, Revathi Pillai",
         "country": "India",
         "date_added": "August 31, 2018",
         "release_year": 2018,
         "rating": "TV-PG",
         "duration": "1 Season",
         "listed_in": "International TV Shows, TV Comedies",
         "description": "In the summer of 1998, middle child Harshu balances school, family, friendship and other challenges…",
         "description_sentiment_score": 0.5994,
         "weighted_average_vote": "nan",
         "_deepnote_index_column": 9358
        },
        {
         "show_id": "s8777",
         "type": "Movie",
         "title": "Yellowbird",
         "director": "Christian De Vita",
         "cast": "Dakota Fanning, Seth Green, Christine Baranski, Zachary Gordon, Richard Kind, Danny Glover, Elliott…",
         "country": "France, Belgium",
         "date_added": "August 5, 2015",
         "release_year": 2014,
         "rating": "PG",
         "duration": "90 min",
         "listed_in": "Children & Family Movies, Comedies",
         "description": "An orphaned bird tags along with a flock on their long migration to Africa and becomes a hero when …",
         "description_sentiment_score": 0.2263,
         "weighted_average_vote": 5.6,
         "_deepnote_index_column": 9359
        },
        {
         "show_id": "s8778",
         "type": "Movie",
         "title": "Yes or No",
         "director": "Saratswadee Wongsomphet",
         "cast": "Sushar Manaying, Supanart Jittaleela, Arisara Thongborisut, Soranut Yupanun, Inthira Yeunyong",
         "country": "Thailand",
         "date_added": "December 6, 2018",
         "release_year": 2010,
         "rating": "TV-PG",
         "duration": "111 min",
         "listed_in": "International Movies, LGBTQ Movies, Romantic Movies",
         "description": "Traditional girl Pie is initially uncomfortable with her tomboyish new roommate. But as time goes o…",
         "description_sentiment_score": 0.4404,
         "weighted_average_vote": "nan",
         "_deepnote_index_column": 9360
        },
        {
         "show_id": "s8779",
         "type": "Movie",
         "title": "Yes or No 2",
         "director": "Saratswadee Wongsomphet",
         "cast": "Supanart Jittaleela, Sushar Manaying, Nisa Boonsantear, Apittha Khlaiudom, Apapattra Meesang",
         "country": "Thailand",
         "date_added": "November 8, 2018",
         "release_year": 2012,
         "rating": "TV-PG",
         "duration": "112 min",
         "listed_in": "International Movies, LGBTQ Movies, Romantic Movies",
         "description": "No longer university girls, Kim and Pie face new hurdles in their relationship, including work, new…",
         "description_sentiment_score": -0.0258,
         "weighted_average_vote": "nan",
         "_deepnote_index_column": 9361
        },
        {
         "show_id": "s8780",
         "type": "Movie",
         "title": "Yes or No 2.5",
         "director": "Kirati Nakintanon",
         "cast": "Supanart Jittaleela, Pimpakan Bangchawong, Chansakorn Kittiwattanakorn, Sunanta Yoonniyom",
         "country": "Thailand",
         "date_added": "November 8, 2018",
         "release_year": 2015,
         "rating": "TV-PG",
         "duration": "107 min",
         "listed_in": "International Movies, LGBTQ Movies, Romantic Movies",
         "description": "Roommates Wine and Pie find their lives turned upside down when two more ladies move in next door, …",
         "description_sentiment_score": 0.4215,
         "weighted_average_vote": 5.3,
         "_deepnote_index_column": 9362
        },
        {
         "show_id": "s8781",
         "type": "TV Show",
         "title": "Yo-Kai Watch",
         "director": "nan",
         "cast": "Johnny Yong Bosch, J.W. Terry, Alicyn Packard, Melissa Hutchison, Pierre Holloway, Brent Pendergrass",
         "country": "United States",
         "date_added": "April 1, 2016",
         "release_year": 2015,
         "rating": "TV-Y7",
         "duration": "1 Season",
         "listed_in": "Anime Series, Kids' TV",
         "description": "Nate frees a mythical being trapped in a magic capsule, and the two new friends have adventures wit…",
         "description_sentiment_score": 0,
         "weighted_average_vote": "nan",
         "_deepnote_index_column": 9363
        },
        {
         "show_id": "s8782",
         "type": "Movie",
         "title": "Yo-Kai Watch: The Movie",
         "director": "Mark Risley",
         "cast": "Johnny Yong Bosch, Joey D'Auria, Alicyn Packard, Melissa Hutchison, Paul Greenberg, Brent Pendergra…",
         "country": "Japan, United States",
         "date_added": "December 1, 2016",
         "release_year": 2016,
         "rating": "TV-Y7",
         "duration": "96 min",
         "listed_in": "Anime Features, Children & Family Movies",
         "description": "Nate's special Yo-Kai Watch is missing. He travels back in time to meet the watch's inventor, his g…",
         "description_sentiment_score": 0.4574,
         "weighted_average_vote": "nan",
         "_deepnote_index_column": 9364
        },
        {
         "show_id": "s8783",
         "type": "Movie",
         "title": "Yoga Hosers",
         "director": "Kevin Smith",
         "cast": "Harley Quinn Smith, Lily-Rose Depp, Johnny Depp, Justin Long, Austin Butler, Tyler Posey, Stan Lee,…",
         "country": "United States",
         "date_added": "December 2, 2016",
         "release_year": 2016,
         "rating": "PG-13",
         "duration": "88 min",
         "listed_in": "Comedies, Horror Movies, Independent Movies",
         "description": "With an all-important high school party at stake, two teen yoga fanatics enlist a man hunter to hel…",
         "description_sentiment_score": 0.5859,
         "weighted_average_vote": "nan",
         "_deepnote_index_column": 9365
        },
        {
         "show_id": "s8784",
         "type": "TV Show",
         "title": "Yoko",
         "director": "nan",
         "cast": "Eileen Stevens, Alyson Leigh Rosenfeld, Sarah Natochenny, H.D. Quinn",
         "country": "nan",
         "date_added": "June 23, 2018",
         "release_year": 2016,
         "rating": "TV-Y",
         "duration": "1 Season",
         "listed_in": "Kids' TV",
         "description": "Friends Mai, Oto and Vik's games at the park become magical adventures, thanks to Yoko, who can tur…",
         "description_sentiment_score": 0.8126,
         "weighted_average_vote": "nan",
         "_deepnote_index_column": 9366
        },
        {
         "show_id": "s8785",
         "type": "Movie",
         "title": "Yoko and His Friends",
         "director": "nan",
         "cast": "Eileen Stevens, Alyson Leigh Rosenfeld, Sarah Natochenny, H.D. Quinn",
         "country": "Russia, Spain",
         "date_added": "June 23, 2018",
         "release_year": 2015,
         "rating": "TV-Y",
         "duration": "78 min",
         "listed_in": "Children & Family Movies",
         "description": "Vik meets new friends in a new city, where they go on exciting adventures together with a magical b…",
         "description_sentiment_score": 0.5927,
         "weighted_average_vote": "nan",
         "_deepnote_index_column": 9367
        },
        {
         "show_id": "s8786",
         "type": "TV Show",
         "title": "YOM",
         "director": "nan",
         "cast": "Sairaj, Devyani Dagaonkar, Ketan Singh, Mayur Vyas, Ketan Kava",
         "country": "nan",
         "date_added": "June 7, 2018",
         "release_year": 2016,
         "rating": "TV-Y7",
         "duration": "1 Season",
         "listed_in": "Kids' TV",
         "description": "With the mind of a human being, and the body of whichever animal he chooses to be, a young boy prot…",
         "description_sentiment_score": -0.2732,
         "weighted_average_vote": "nan",
         "_deepnote_index_column": 9368
        },
        {
         "show_id": "s8787",
         "type": "Movie",
         "title": "You Can Tutu",
         "director": "James Brown",
         "cast": "Lily O'Regan, Jeannettsy Enriquez Borges, Joeley Gibson, Zahra Hassan Malik, Cleo Badcock, Stuart M…",
         "country": "United Kingdom",
         "date_added": "December 31, 2017",
         "release_year": 2017,
         "rating": "TV-G",
         "duration": "87 min",
         "listed_in": "Children & Family Movies",
         "description": "A gifted young ballet dancer struggles to find her footing in an uptight ballet school that brings …",
         "description_sentiment_score": -0.6249,
         "weighted_average_vote": 4.3,
         "_deepnote_index_column": 9369
        },
        {
         "show_id": "s8788",
         "type": "Movie",
         "title": "You Can’t Fight Christmas",
         "director": "Kenny Young",
         "cast": "Brely Evans, Andra Fuller, Persia White, Porscha Coleman, Travis Winfrey, Nathan Davis Jr., Dedrick…",
         "country": "United States",
         "date_added": "December 19, 2017",
         "release_year": 2017,
         "rating": "TV-PG",
         "duration": "85 min",
         "listed_in": "Comedies, Romantic Movies",
         "description": "After stepping in to revitalize his family's hotel, a money-minded businessman clashes with the hot…",
         "description_sentiment_score": 0.5574,
         "weighted_average_vote": "nan",
         "_deepnote_index_column": 9370
        },
        {
         "show_id": "s8789",
         "type": "Movie",
         "title": "You Carry Me",
         "director": "Ivona Juka",
         "cast": "Lana Baric, Vojislav Brajovic, Natasa Janjic, Goran Hajdukovic, Helena Beljan, Juraj Dabic, Natasa …",
         "country": "Croatia, Slovenia, Serbia, Montenegro",
         "date_added": "July 1, 2016",
         "release_year": 2015,
         "rating": "TV-MA",
         "duration": "157 min",
         "listed_in": "Dramas, International Movies",
         "description": "A soap opera producer, director and makeup artist each face wrenching family turmoil, from teen reb…",
         "description_sentiment_score": -0.4588,
         "weighted_average_vote": "nan",
         "_deepnote_index_column": 9371
        },
        {
         "show_id": "s8790",
         "type": "Movie",
         "title": "You Changed My Life",
         "director": "Cathy Garcia-Molina",
         "cast": "John Lloyd Cruz, Sarah Geronimo, Rayver Cruz, Dante Rivero, Rowell Santiago, Al Tantay, Irma Adlawa…",
         "country": "Philippines",
         "date_added": "February 27, 2019",
         "release_year": 2009,
         "rating": "TV-PG",
         "duration": "116 min",
         "listed_in": "Comedies, Dramas, International Movies",
         "description": "Laida and Miggy think they've found perfect happiness with each other, until their burgeoning caree…",
         "description_sentiment_score": 0.8074,
         "weighted_average_vote": 6.5,
         "_deepnote_index_column": 9372
        },
        {
         "show_id": "s8791",
         "type": "Movie",
         "title": "You Don't Mess with the Zohan",
         "director": "Dennis Dugan",
         "cast": "Adam Sandler, John Turturro, Emmanuelle Chriqui, Nick Swardson, Lainie Kazan, Ido Mosseri, Rob Schn…",
         "country": "United States",
         "date_added": "September 1, 2019",
         "release_year": 2008,
         "rating": "UR",
         "duration": "113 min",
         "listed_in": "Action & Adventure, Comedies",
         "description": "An Israeli counterterrorism soldier with a secretly fabulous ambition to become a Manhattan hairsty…",
         "description_sentiment_score": 0.836,
         "weighted_average_vote": "nan",
         "_deepnote_index_column": 9373
        },
        {
         "show_id": "s8792",
         "type": "Movie",
         "title": "Young Adult",
         "director": "Jason Reitman",
         "cast": "Charlize Theron, Patton Oswalt, Patrick Wilson, Elizabeth Reaser, Jill Eikenberry, Mary Beth Hurt, …",
         "country": "United States",
         "date_added": "November 20, 2019",
         "release_year": 2011,
         "rating": "R",
         "duration": "94 min",
         "listed_in": "Comedies, Dramas, Independent Movies",
         "description": "When a divorced writer gets a letter from an old boyfriend announcing his wife's had a baby, she re…",
         "description_sentiment_score": 0,
         "weighted_average_vote": 6.2,
         "_deepnote_index_column": 9374
        },
        {
         "show_id": "s8793",
         "type": "Movie",
         "title": "Young Tiger",
         "director": "Mu Chu",
         "cast": "Qiu Yuen, Charlie Chin, Jackie Chan, Hu Chin, Nan Chiang",
         "country": "Hong Kong",
         "date_added": "November 1, 2016",
         "release_year": 1973,
         "rating": "NR",
         "duration": "81 min",
         "listed_in": "Action & Adventure, International Movies",
         "description": "Aided only by a tough female police officer, a Hong Kong taxi driver tries to escape from gangsters…",
         "description_sentiment_score": 0.0516,
         "weighted_average_vote": "nan",
         "_deepnote_index_column": 9375
        },
        {
         "show_id": "s8794",
         "type": "Movie",
         "title": "Yours, Mine and Ours",
         "director": "Raja Gosnell",
         "cast": "Dennis Quaid, Rene Russo, Sean Faris, Katija Pevec, Dean Collins, Tyler Patrick Jones, Haley Ramm, …",
         "country": "United States",
         "date_added": "November 20, 2019",
         "release_year": 2005,
         "rating": "PG",
         "duration": "88 min",
         "listed_in": "Children & Family Movies, Comedies",
         "description": "When a father of eight and a mother of 10 prepare to wed, the couple's children attempt to sabotage…",
         "description_sentiment_score": -0.2263,
         "weighted_average_vote": "nan",
         "_deepnote_index_column": 9376
        },
        {
         "show_id": "s8795",
         "type": "Movie",
         "title": "اشتباك",
         "director": "Mohamed Diab",
         "cast": "Nelly Karim, Hany Adel, Tarek Abdel Aziz, Ahmed Malek, Ahmed Dash, Husni Sheta, Aly Eltayeb, Amr El…",
         "country": "Egypt, France",
         "date_added": "October 11, 2018",
         "release_year": 2016,
         "rating": "TV-14",
         "duration": "98 min",
         "listed_in": "Dramas, Independent Movies, International Movies",
         "description": "Amid the tumult following Egyptian President Morsi's ouster, demonstrators from divergent backgroun…",
         "description_sentiment_score": 0,
         "weighted_average_vote": "nan",
         "_deepnote_index_column": 9377
        },
        {
         "show_id": "s8796",
         "type": "TV Show",
         "title": "Yu-Gi-Oh! Arc-V",
         "director": "nan",
         "cast": "Mike Liscio, Emily Bauer, Billy Bob Thompson, Alyson Leigh Rosenfeld, Michael Crouch",
         "country": "Japan, Canada",
         "date_added": "May 1, 2018",
         "release_year": 2015,
         "rating": "TV-Y7",
         "duration": "2 Seasons",
         "listed_in": "Anime Series, Kids' TV",
         "description": "Now that he's discovered the Pendulum Summoning technique, Yuya's dream of becoming the greatest \"d…",
         "description_sentiment_score": 0.0857,
         "weighted_average_vote": "nan",
         "_deepnote_index_column": 9378
        },
        {
         "show_id": "s8797",
         "type": "TV Show",
         "title": "Yunus Emre",
         "director": "nan",
         "cast": "Gökhan Atalay, Payidar Tüfekçioglu, Baran Akbulut, Mehmet Çepiç, Seda Tosun, Mehmet Ali Tuncer, Asu…",
         "country": "Turkey",
         "date_added": "January 17, 2017",
         "release_year": 2016,
         "rating": "TV-PG",
         "duration": "2 Seasons",
         "listed_in": "International TV Shows, TV Dramas",
         "description": "During the Mongol invasions, Yunus Emre leaves his home to travel across the Ottoman Empire, defyin…",
         "description_sentiment_score": 0,
         "weighted_average_vote": "nan",
         "_deepnote_index_column": 9379
        },
        {
         "show_id": "s8798",
         "type": "TV Show",
         "title": "Zak Storm",
         "director": "nan",
         "cast": "Michael Johnston, Jessica Gee-George, Christine Marie Cabanos, Christopher Smith, Max Mittelman, Re…",
         "country": "United States, France, South Korea, Indonesia",
         "date_added": "September 13, 2018",
         "release_year": 2016,
         "rating": "TV-Y7",
         "duration": "3 Seasons",
         "listed_in": "Kids' TV",
         "description": "Teen surfer Zak Storm is mysteriously transported to the Bermuda Triangle, where he becomes the cap…",
         "description_sentiment_score": 0,
         "weighted_average_vote": "nan",
         "_deepnote_index_column": 9380
        },
        {
         "show_id": "s8799",
         "type": "Movie",
         "title": "Zed Plus",
         "director": "Chandra Prakash Dwivedi",
         "cast": "Adil Hussain, Mona Singh, K.K. Raina, Sanjay Mishra, Anil Rastogi, Ravi Jhankal, Kulbhushan Kharban…",
         "country": "India",
         "date_added": "December 31, 2019",
         "release_year": 2014,
         "rating": "TV-MA",
         "duration": "131 min",
         "listed_in": "Comedies, Dramas, International Movies",
         "description": "A philandering small-town mechanic's political ambitions are sparked when the visiting prime minist…",
         "description_sentiment_score": 0.5859,
         "weighted_average_vote": 6.4,
         "_deepnote_index_column": 9381
        },
        {
         "show_id": "s8800",
         "type": "Movie",
         "title": "Zenda",
         "director": "Avadhoot Gupte",
         "cast": "Santosh Juvekar, Siddharth Chandekar, Sachit Patil, Chinmay Mandlekar, Rajesh Shringarpure, Pushkar…",
         "country": "India",
         "date_added": "February 15, 2018",
         "release_year": 2009,
         "rating": "TV-14",
         "duration": "120 min",
         "listed_in": "Dramas, International Movies",
         "description": "A change in the leadership of a political party sparks bitter conflict and the party's division int…",
         "description_sentiment_score": -0.34,
         "weighted_average_vote": 7,
         "_deepnote_index_column": 9382
        },
        {
         "show_id": "s8801",
         "type": "TV Show",
         "title": "Zindagi Gulzar Hai",
         "director": "nan",
         "cast": "Sanam Saeed, Fawad Khan, Ayesha Omer, Mehreen Raheel, Sheheryar Munawar, Samina Peerzada, Waseem Ab…",
         "country": "Pakistan",
         "date_added": "December 15, 2016",
         "release_year": 2012,
         "rating": "TV-PG",
         "duration": "1 Season",
         "listed_in": "International TV Shows, Romantic TV Shows, TV Dramas",
         "description": "Strong-willed, middle-class Kashaf and carefree, wealthy Zaroon meet in college, but before love ca…",
         "description_sentiment_score": 0.8873,
         "weighted_average_vote": "nan",
         "_deepnote_index_column": 9383
        },
        {
         "show_id": "s8802",
         "type": "Movie",
         "title": "Zinzana",
         "director": "Majid Al Ansari",
         "cast": "Ali Suliman, Saleh Bakri, Yasa, Ali Al-Jabri, Mansoor Alfeeli, Ahd",
         "country": "United Arab Emirates, Jordan",
         "date_added": "March 9, 2016",
         "release_year": 2015,
         "rating": "TV-MA",
         "duration": "96 min",
         "listed_in": "Dramas, International Movies, Thrillers",
         "description": "Recovering alcoholic Talal wakes up inside a small-town police station cell, where he's subject to …",
         "description_sentiment_score": 0,
         "weighted_average_vote": 6.7,
         "_deepnote_index_column": 9384
        },
        {
         "show_id": "s8803",
         "type": "Movie",
         "title": "Zodiac",
         "director": "David Fincher",
         "cast": "Mark Ruffalo, Jake Gyllenhaal, Robert Downey Jr., Anthony Edwards, Brian Cox, Elias Koteas, Donal L…",
         "country": "United States",
         "date_added": "November 20, 2019",
         "release_year": 2007,
         "rating": "R",
         "duration": "158 min",
         "listed_in": "Cult Movies, Dramas, Thrillers",
         "description": "A political cartoonist, a crime reporter and a pair of cops investigate San Francisco's infamous Zo…",
         "description_sentiment_score": -0.6808,
         "weighted_average_vote": 7.7,
         "_deepnote_index_column": 9385
        },
        {
         "show_id": "s8804",
         "type": "TV Show",
         "title": "Zombie Dumb",
         "director": "nan",
         "cast": "nan",
         "country": "nan",
         "date_added": "July 1, 2019",
         "release_year": 2018,
         "rating": "TV-Y7",
         "duration": "2 Seasons",
         "listed_in": "Kids' TV, Korean TV Shows, TV Comedies",
         "description": "While living alone in a spooky town, a young girl befriends a motley crew of zombie children with d…",
         "description_sentiment_score": -0.25,
         "weighted_average_vote": "nan",
         "_deepnote_index_column": 9386
        },
        {
         "show_id": "s8805",
         "type": "Movie",
         "title": "Zombieland",
         "director": "Ruben Fleischer",
         "cast": "Jesse Eisenberg, Woody Harrelson, Emma Stone, Abigail Breslin, Amber Heard, Bill Murray, Derek Graf",
         "country": "United States",
         "date_added": "November 1, 2019",
         "release_year": 2009,
         "rating": "R",
         "duration": "88 min",
         "listed_in": "Comedies, Horror Movies",
         "description": "Looking to survive in a world taken over by zombies, a dorky college student teams with an urban ro…",
         "description_sentiment_score": -0.2732,
         "weighted_average_vote": "nan",
         "_deepnote_index_column": 9387
        },
        {
         "show_id": "s8806",
         "type": "Movie",
         "title": "Zoom",
         "director": "Peter Hewitt",
         "cast": "Tim Allen, Courteney Cox, Chevy Chase, Kate Mara, Ryan Newman, Michael Cassidy, Spencer Breslin, Ri…",
         "country": "United States",
         "date_added": "January 11, 2020",
         "release_year": 2006,
         "rating": "PG",
         "duration": "88 min",
         "listed_in": "Children & Family Movies, Comedies",
         "description": "Dragged from civilian life, a former superhero must train a new crop of youthful saviors when the m…",
         "description_sentiment_score": -0.6808,
         "weighted_average_vote": 4.4,
         "_deepnote_index_column": 9388
        },
        {
         "show_id": "s8806",
         "type": "Movie",
         "title": "Zoom",
         "director": "Peter Hewitt",
         "cast": "Tim Allen, Courteney Cox, Chevy Chase, Kate Mara, Ryan Newman, Michael Cassidy, Spencer Breslin, Ri…",
         "country": "United States",
         "date_added": "January 11, 2020",
         "release_year": 2006,
         "rating": "PG",
         "duration": "88 min",
         "listed_in": "Children & Family Movies, Comedies",
         "description": "Dragged from civilian life, a former superhero must train a new crop of youthful saviors when the m…",
         "description_sentiment_score": -0.6808,
         "weighted_average_vote": 6.1,
         "_deepnote_index_column": 9389
        },
        {
         "show_id": "s8807",
         "type": "Movie",
         "title": "Zubaan",
         "director": "Mozez Singh",
         "cast": "Vicky Kaushal, Sarah-Jane Dias, Raaghav Chanana, Manish Chaudhary, Meghna Malik, Malkeet Rauni, Ani…",
         "country": "India",
         "date_added": "March 2, 2019",
         "release_year": 2015,
         "rating": "TV-14",
         "duration": "111 min",
         "listed_in": "Dramas, International Movies, Music & Musicals",
         "description": "A scrappy but poor boy worms his way into a tycoon's dysfunctional family, while facing his fear of…",
         "description_sentiment_score": -0.7579,
         "weighted_average_vote": 6.2,
         "_deepnote_index_column": 9390
        }
       ]
      },
      "text/plain": "     show_id     type                  title         director  \\\n0         s1    Movie   Dick Johnson Is Dead  Kirsten Johnson   \n1         s2  TV Show          Blood & Water              NaN   \n2         s3  TV Show              Ganglands  Julien Leclercq   \n3         s4  TV Show  Jailbirds New Orleans              NaN   \n4         s5  TV Show           Kota Factory              NaN   \n...      ...      ...                    ...              ...   \n9386   s8804  TV Show            Zombie Dumb              NaN   \n9387   s8805    Movie             Zombieland  Ruben Fleischer   \n9388   s8806    Movie                   Zoom     Peter Hewitt   \n9389   s8806    Movie                   Zoom     Peter Hewitt   \n9390   s8807    Movie                 Zubaan      Mozez Singh   \n\n                                                   cast        country  \\\n0                                                   NaN  United States   \n1     Ama Qamata, Khosi Ngema, Gail Mabalane, Thaban...   South Africa   \n2     Sami Bouajila, Tracy Gotoas, Samuel Jouy, Nabi...            NaN   \n3                                                   NaN            NaN   \n4     Mayur More, Jitendra Kumar, Ranjan Raj, Alam K...          India   \n...                                                 ...            ...   \n9386                                                NaN            NaN   \n9387  Jesse Eisenberg, Woody Harrelson, Emma Stone, ...  United States   \n9388  Tim Allen, Courteney Cox, Chevy Chase, Kate Ma...  United States   \n9389  Tim Allen, Courteney Cox, Chevy Chase, Kate Ma...  United States   \n9390  Vicky Kaushal, Sarah-Jane Dias, Raaghav Chanan...          India   \n\n              date_added  release_year rating   duration  \\\n0     September 25, 2021          2020  PG-13     90 min   \n1     September 24, 2021          2021  TV-MA  2 Seasons   \n2     September 24, 2021          2021  TV-MA   1 Season   \n3     September 24, 2021          2021  TV-MA   1 Season   \n4     September 24, 2021          2021  TV-MA  2 Seasons   \n...                  ...           ...    ...        ...   \n9386        July 1, 2019          2018  TV-Y7  2 Seasons   \n9387    November 1, 2019          2009      R     88 min   \n9388    January 11, 2020          2006     PG     88 min   \n9389    January 11, 2020          2006     PG     88 min   \n9390       March 2, 2019          2015  TV-14    111 min   \n\n                                              listed_in  \\\n0                                         Documentaries   \n1       International TV Shows, TV Dramas, TV Mysteries   \n2     Crime TV Shows, International TV Shows, TV Act...   \n3                                Docuseries, Reality TV   \n4     International TV Shows, Romantic TV Shows, TV ...   \n...                                                 ...   \n9386             Kids' TV, Korean TV Shows, TV Comedies   \n9387                            Comedies, Horror Movies   \n9388                 Children & Family Movies, Comedies   \n9389                 Children & Family Movies, Comedies   \n9390     Dramas, International Movies, Music & Musicals   \n\n                                            description  \\\n0     As her father nears the end of his life, filmm...   \n1     After crossing paths at a party, a Cape Town t...   \n2     To protect his family from a powerful drug lor...   \n3     Feuds, flirtations and toilet talk go down amo...   \n4     In a city of coaching centers known to train I...   \n...                                                 ...   \n9386  While living alone in a spooky town, a young g...   \n9387  Looking to survive in a world taken over by zo...   \n9388  Dragged from civilian life, a former superhero...   \n9389  Dragged from civilian life, a former superhero...   \n9390  A scrappy but poor boy worms his way into a ty...   \n\n      description_sentiment_score  weighted_average_vote  \n0                         -0.2960                    NaN  \n1                         -0.1531                    NaN  \n2                         -0.7783                    NaN  \n3                          0.2263                    NaN  \n4                          0.7430                    NaN  \n...                           ...                    ...  \n9386                      -0.2500                    NaN  \n9387                      -0.2732                    NaN  \n9388                      -0.6808                    4.4  \n9389                      -0.6808                    6.1  \n9390                      -0.7579                    6.2  \n\n[9391 rows x 14 columns]",
      "text/html": "<div>\n<style scoped>\n    .dataframe tbody tr th:only-of-type {\n        vertical-align: middle;\n    }\n\n    .dataframe tbody tr th {\n        vertical-align: top;\n    }\n\n    .dataframe thead th {\n        text-align: right;\n    }\n</style>\n<table border=\"1\" class=\"dataframe\">\n  <thead>\n    <tr style=\"text-align: right;\">\n      <th></th>\n      <th>show_id</th>\n      <th>type</th>\n      <th>title</th>\n      <th>director</th>\n      <th>cast</th>\n      <th>country</th>\n      <th>date_added</th>\n      <th>release_year</th>\n      <th>rating</th>\n      <th>duration</th>\n      <th>listed_in</th>\n      <th>description</th>\n      <th>description_sentiment_score</th>\n      <th>weighted_average_vote</th>\n    </tr>\n  </thead>\n  <tbody>\n    <tr>\n      <th>0</th>\n      <td>s1</td>\n      <td>Movie</td>\n      <td>Dick Johnson Is Dead</td>\n      <td>Kirsten Johnson</td>\n      <td>NaN</td>\n      <td>United States</td>\n      <td>September 25, 2021</td>\n      <td>2020</td>\n      <td>PG-13</td>\n      <td>90 min</td>\n      <td>Documentaries</td>\n      <td>As her father nears the end of his life, filmm...</td>\n      <td>-0.2960</td>\n      <td>NaN</td>\n    </tr>\n    <tr>\n      <th>1</th>\n      <td>s2</td>\n      <td>TV Show</td>\n      <td>Blood &amp; Water</td>\n      <td>NaN</td>\n      <td>Ama Qamata, Khosi Ngema, Gail Mabalane, Thaban...</td>\n      <td>South Africa</td>\n      <td>September 24, 2021</td>\n      <td>2021</td>\n      <td>TV-MA</td>\n      <td>2 Seasons</td>\n      <td>International TV Shows, TV Dramas, TV Mysteries</td>\n      <td>After crossing paths at a party, a Cape Town t...</td>\n      <td>-0.1531</td>\n      <td>NaN</td>\n    </tr>\n    <tr>\n      <th>2</th>\n      <td>s3</td>\n      <td>TV Show</td>\n      <td>Ganglands</td>\n      <td>Julien Leclercq</td>\n      <td>Sami Bouajila, Tracy Gotoas, Samuel Jouy, Nabi...</td>\n      <td>NaN</td>\n      <td>September 24, 2021</td>\n      <td>2021</td>\n      <td>TV-MA</td>\n      <td>1 Season</td>\n      <td>Crime TV Shows, International TV Shows, TV Act...</td>\n      <td>To protect his family from a powerful drug lor...</td>\n      <td>-0.7783</td>\n      <td>NaN</td>\n    </tr>\n    <tr>\n      <th>3</th>\n      <td>s4</td>\n      <td>TV Show</td>\n      <td>Jailbirds New Orleans</td>\n      <td>NaN</td>\n      <td>NaN</td>\n      <td>NaN</td>\n      <td>September 24, 2021</td>\n      <td>2021</td>\n      <td>TV-MA</td>\n      <td>1 Season</td>\n      <td>Docuseries, Reality TV</td>\n      <td>Feuds, flirtations and toilet talk go down amo...</td>\n      <td>0.2263</td>\n      <td>NaN</td>\n    </tr>\n    <tr>\n      <th>4</th>\n      <td>s5</td>\n      <td>TV Show</td>\n      <td>Kota Factory</td>\n      <td>NaN</td>\n      <td>Mayur More, Jitendra Kumar, Ranjan Raj, Alam K...</td>\n      <td>India</td>\n      <td>September 24, 2021</td>\n      <td>2021</td>\n      <td>TV-MA</td>\n      <td>2 Seasons</td>\n      <td>International TV Shows, Romantic TV Shows, TV ...</td>\n      <td>In a city of coaching centers known to train I...</td>\n      <td>0.7430</td>\n      <td>NaN</td>\n    </tr>\n    <tr>\n      <th>...</th>\n      <td>...</td>\n      <td>...</td>\n      <td>...</td>\n      <td>...</td>\n      <td>...</td>\n      <td>...</td>\n      <td>...</td>\n      <td>...</td>\n      <td>...</td>\n      <td>...</td>\n      <td>...</td>\n      <td>...</td>\n      <td>...</td>\n      <td>...</td>\n    </tr>\n    <tr>\n      <th>9386</th>\n      <td>s8804</td>\n      <td>TV Show</td>\n      <td>Zombie Dumb</td>\n      <td>NaN</td>\n      <td>NaN</td>\n      <td>NaN</td>\n      <td>July 1, 2019</td>\n      <td>2018</td>\n      <td>TV-Y7</td>\n      <td>2 Seasons</td>\n      <td>Kids' TV, Korean TV Shows, TV Comedies</td>\n      <td>While living alone in a spooky town, a young g...</td>\n      <td>-0.2500</td>\n      <td>NaN</td>\n    </tr>\n    <tr>\n      <th>9387</th>\n      <td>s8805</td>\n      <td>Movie</td>\n      <td>Zombieland</td>\n      <td>Ruben Fleischer</td>\n      <td>Jesse Eisenberg, Woody Harrelson, Emma Stone, ...</td>\n      <td>United States</td>\n      <td>November 1, 2019</td>\n      <td>2009</td>\n      <td>R</td>\n      <td>88 min</td>\n      <td>Comedies, Horror Movies</td>\n      <td>Looking to survive in a world taken over by zo...</td>\n      <td>-0.2732</td>\n      <td>NaN</td>\n    </tr>\n    <tr>\n      <th>9388</th>\n      <td>s8806</td>\n      <td>Movie</td>\n      <td>Zoom</td>\n      <td>Peter Hewitt</td>\n      <td>Tim Allen, Courteney Cox, Chevy Chase, Kate Ma...</td>\n      <td>United States</td>\n      <td>January 11, 2020</td>\n      <td>2006</td>\n      <td>PG</td>\n      <td>88 min</td>\n      <td>Children &amp; Family Movies, Comedies</td>\n      <td>Dragged from civilian life, a former superhero...</td>\n      <td>-0.6808</td>\n      <td>4.4</td>\n    </tr>\n    <tr>\n      <th>9389</th>\n      <td>s8806</td>\n      <td>Movie</td>\n      <td>Zoom</td>\n      <td>Peter Hewitt</td>\n      <td>Tim Allen, Courteney Cox, Chevy Chase, Kate Ma...</td>\n      <td>United States</td>\n      <td>January 11, 2020</td>\n      <td>2006</td>\n      <td>PG</td>\n      <td>88 min</td>\n      <td>Children &amp; Family Movies, Comedies</td>\n      <td>Dragged from civilian life, a former superhero...</td>\n      <td>-0.6808</td>\n      <td>6.1</td>\n    </tr>\n    <tr>\n      <th>9390</th>\n      <td>s8807</td>\n      <td>Movie</td>\n      <td>Zubaan</td>\n      <td>Mozez Singh</td>\n      <td>Vicky Kaushal, Sarah-Jane Dias, Raaghav Chanan...</td>\n      <td>India</td>\n      <td>March 2, 2019</td>\n      <td>2015</td>\n      <td>TV-14</td>\n      <td>111 min</td>\n      <td>Dramas, International Movies, Music &amp; Musicals</td>\n      <td>A scrappy but poor boy worms his way into a ty...</td>\n      <td>-0.7579</td>\n      <td>6.2</td>\n    </tr>\n  </tbody>\n</table>\n<p>9391 rows × 14 columns</p>\n</div>"
     },
     "metadata": {}
    }
   ]
  },
  {
   "cell_type": "code",
   "metadata": {
    "tags": [],
    "cell_id": "00019-bc6367f3-26cd-407f-96df-4fbe27baa464",
    "deepnote_to_be_reexecuted": false,
    "source_hash": "bfbba14f",
    "execution_start": 1638451559184,
    "execution_millis": 95,
    "deepnote_cell_type": "code"
   },
   "source": "# only include rows that have a weighted average vote\nmovie_rating_df = movie_ratings[movie_ratings['weighted_average_vote'].isnull() == False]\nmovie_rating_df",
   "execution_count": null,
   "outputs": [
    {
     "output_type": "execute_result",
     "execution_count": 21,
     "data": {
      "application/vnd.deepnote.dataframe.v2+json": {
       "row_count": 2960,
       "column_count": 14,
       "columns": [
        {
         "name": "show_id",
         "dtype": "object",
         "stats": {
          "unique_count": 2376,
          "nan_count": 0,
          "categories": [
           {
            "name": "s633",
            "count": 7
           },
           {
            "name": "s2433",
            "count": 7
           },
           {
            "name": "2374 others",
            "count": 2946
           }
          ]
         }
        },
        {
         "name": "type",
         "dtype": "object",
         "stats": {
          "unique_count": 2,
          "nan_count": 0,
          "categories": [
           {
            "name": "Movie",
            "count": 2592
           },
           {
            "name": "TV Show",
            "count": 368
           }
          ]
         }
        },
        {
         "name": "title",
         "dtype": "object",
         "stats": {
          "unique_count": 2376,
          "nan_count": 0,
          "categories": [
           {
            "name": "Wanted",
            "count": 7
           },
           {
            "name": "Alone",
            "count": 7
           },
           {
            "name": "2374 others",
            "count": 2946
           }
          ]
         }
        },
        {
         "name": "director",
         "dtype": "object",
         "stats": {
          "unique_count": 1787,
          "nan_count": 345,
          "categories": [
           {
            "name": "Ram Gopal Varma",
            "count": 10
           },
           {
            "name": "1786 others",
            "count": 2605
           },
           {
            "name": "Missing",
            "count": 345
           }
          ]
         }
        },
        {
         "name": "cast",
         "dtype": "object",
         "stats": {
          "unique_count": 2335,
          "nan_count": 61,
          "categories": [
           {
            "name": "Daad Rizk, Georges Diab, Sihame Haddad, Georges Boukhalil, Aida Sabra, Pierre Rabbat, Myriam Klink, Dory El Samarany, Josyane Boulos",
            "count": 7
           },
           {
            "name": "2334 others",
            "count": 2892
           },
           {
            "name": "Missing",
            "count": 61
           }
          ]
         }
        },
        {
         "name": "country",
         "dtype": "object",
         "stats": {
          "unique_count": 328,
          "nan_count": 88,
          "categories": [
           {
            "name": "United States",
            "count": 865
           },
           {
            "name": "327 others",
            "count": 2007
           },
           {
            "name": "Missing",
            "count": 88
           }
          ]
         }
        },
        {
         "name": "date_added",
         "dtype": "object",
         "stats": {
          "unique_count": 964,
          "nan_count": 2,
          "categories": [
           {
            "name": "December 31, 2019",
            "count": 66
           },
           {
            "name": "963 others",
            "count": 2892
           },
           {
            "name": "Missing",
            "count": 2
           }
          ]
         }
        },
        {
         "name": "release_year",
         "dtype": "int64",
         "stats": {
          "unique_count": 59,
          "nan_count": 0,
          "min": "1946",
          "max": "2021",
          "histogram": [
           {
            "bin_start": 1946,
            "bin_end": 1953.5,
            "count": 2
           },
           {
            "bin_start": 1953.5,
            "bin_end": 1961,
            "count": 5
           },
           {
            "bin_start": 1961,
            "bin_end": 1968.5,
            "count": 6
           },
           {
            "bin_start": 1968.5,
            "bin_end": 1976,
            "count": 17
           },
           {
            "bin_start": 1976,
            "bin_end": 1983.5,
            "count": 32
           },
           {
            "bin_start": 1983.5,
            "bin_end": 1991,
            "count": 26
           },
           {
            "bin_start": 1991,
            "bin_end": 1998.5,
            "count": 80
           },
           {
            "bin_start": 1998.5,
            "bin_end": 2006,
            "count": 168
           },
           {
            "bin_start": 2006,
            "bin_end": 2013.5,
            "count": 575
           },
           {
            "bin_start": 2013.5,
            "bin_end": 2021,
            "count": 2049
           }
          ]
         }
        },
        {
         "name": "rating",
         "dtype": "object",
         "stats": {
          "unique_count": 13,
          "nan_count": 1,
          "categories": [
           {
            "name": "TV-MA",
            "count": 1098
           },
           {
            "name": "12 others",
            "count": 1861
           },
           {
            "name": "Missing",
            "count": 1
           }
          ]
         }
        },
        {
         "name": "duration",
         "dtype": "object",
         "stats": {
          "unique_count": 153,
          "nan_count": 0,
          "categories": [
           {
            "name": "1 Season",
            "count": 240
           },
           {
            "name": "91 min",
            "count": 80
           },
           {
            "name": "151 others",
            "count": 2640
           }
          ]
         }
        },
        {
         "name": "listed_in",
         "dtype": "object",
         "stats": {
          "unique_count": 283,
          "nan_count": 0,
          "categories": [
           {
            "name": "Dramas, Independent Movies, International Movies",
            "count": 177
           },
           {
            "name": "Dramas, International Movies",
            "count": 172
           },
           {
            "name": "281 others",
            "count": 2611
           }
          ]
         }
        },
        {
         "name": "description",
         "dtype": "object",
         "stats": {
          "unique_count": 2375,
          "nan_count": 0,
          "categories": [
           {
            "name": "Four seniors embark on misadventures after breaking out of their nursing home to save a loved one’s grave from demolition by estate developers.",
            "count": 7
           },
           {
            "name": "Equipped with limited resources, an isolated group of individuals is subjected to the harsh conditions of the wilderness and must survive — or tap out.",
            "count": 7
           },
           {
            "name": "2373 others",
            "count": 2946
           }
          ]
         }
        },
        {
         "name": "description_sentiment_score",
         "dtype": "float64",
         "stats": {
          "unique_count": 361,
          "nan_count": 0,
          "min": "-0.9668",
          "max": "0.9545",
          "histogram": [
           {
            "bin_start": -0.9668,
            "bin_end": -0.77467,
            "count": 376
           },
           {
            "bin_start": -0.77467,
            "bin_end": -0.5825400000000001,
            "count": 478
           },
           {
            "bin_start": -0.5825400000000001,
            "bin_end": -0.39041000000000003,
            "count": 319
           },
           {
            "bin_start": -0.39041000000000003,
            "bin_end": -0.19828,
            "count": 299
           },
           {
            "bin_start": -0.19828,
            "bin_end": -0.006149999999999989,
            "count": 129
           },
           {
            "bin_start": -0.006149999999999989,
            "bin_end": 0.18597999999999992,
            "count": 383
           },
           {
            "bin_start": 0.18597999999999992,
            "bin_end": 0.37811000000000006,
            "count": 224
           },
           {
            "bin_start": 0.37811000000000006,
            "bin_end": 0.57024,
            "count": 256
           },
           {
            "bin_start": 0.57024,
            "bin_end": 0.7623699999999999,
            "count": 283
           },
           {
            "bin_start": 0.7623699999999999,
            "bin_end": 0.9545,
            "count": 213
           }
          ]
         }
        },
        {
         "name": "weighted_average_vote",
         "dtype": "float64",
         "stats": {
          "unique_count": 73,
          "nan_count": 0,
          "min": "1.6",
          "max": "9.0",
          "histogram": [
           {
            "bin_start": 1.6,
            "bin_end": 2.34,
            "count": 19
           },
           {
            "bin_start": 2.34,
            "bin_end": 3.08,
            "count": 60
           },
           {
            "bin_start": 3.08,
            "bin_end": 3.82,
            "count": 133
           },
           {
            "bin_start": 3.82,
            "bin_end": 4.5600000000000005,
            "count": 239
           },
           {
            "bin_start": 4.5600000000000005,
            "bin_end": 5.300000000000001,
            "count": 443
           },
           {
            "bin_start": 5.300000000000001,
            "bin_end": 6.039999999999999,
            "count": 587
           },
           {
            "bin_start": 6.039999999999999,
            "bin_end": 6.779999999999999,
            "count": 676
           },
           {
            "bin_start": 6.779999999999999,
            "bin_end": 7.52,
            "count": 562
           },
           {
            "bin_start": 7.52,
            "bin_end": 8.26,
            "count": 200
           },
           {
            "bin_start": 8.26,
            "bin_end": 9,
            "count": 41
           }
          ]
         }
        },
        {
         "name": "_deepnote_index_column",
         "dtype": "int64"
        }
       ],
       "rows_top": [
        {
         "show_id": "s6",
         "type": "TV Show",
         "title": "Midnight Mass",
         "director": "Mike Flanagan",
         "cast": "Kate Siegel, Zach Gilford, Hamish Linklater, Henry Thomas, Kristin Lehman, Samantha Sloyan, Igby Ri…",
         "country": "nan",
         "date_added": "September 24, 2021",
         "release_year": 2021,
         "rating": "TV-MA",
         "duration": "1 Season",
         "listed_in": "TV Dramas, TV Horror, TV Mysteries",
         "description": "The arrival of a charismatic young priest brings glorious miracles, ominous mysteries and renewed r…",
         "description_sentiment_score": 0.128,
         "weighted_average_vote": 2.4,
         "_deepnote_index_column": 5
        },
        {
         "show_id": "s8",
         "type": "Movie",
         "title": "Sankofa",
         "director": "Haile Gerima",
         "cast": "Kofi Ghanaba, Oyafunmike Ogunlano, Alexandra Duah, Nick Medley, Mutabaruka, Afemo Omilami, Reggie C…",
         "country": "United States, Ghana, Burkina Faso, United Kingdom, Germany, Ethiopia",
         "date_added": "September 24, 2021",
         "release_year": 1993,
         "rating": "TV-MA",
         "duration": "125 min",
         "listed_in": "Dramas, Independent Movies, International Movies",
         "description": "On a photo shoot in Ghana, an American model slips back in time, becomes enslaved on a plantation a…",
         "description_sentiment_score": -0.7845,
         "weighted_average_vote": 6.9,
         "_deepnote_index_column": 7
        },
        {
         "show_id": "s16",
         "type": "TV Show",
         "title": "Dear White People",
         "director": "nan",
         "cast": "Logan Browning, Brandon P. Bell, DeRon Horton, Antoinette Robertson, John Patrick Amedori, Ashley B…",
         "country": "United States",
         "date_added": "September 22, 2021",
         "release_year": 2021,
         "rating": "TV-MA",
         "duration": "4 Seasons",
         "listed_in": "TV Comedies, TV Dramas",
         "description": "Students of color navigate the daily slights and slippery politics of life at an Ivy League college…",
         "description_sentiment_score": 0,
         "weighted_average_vote": 6.1,
         "_deepnote_index_column": 15
        },
        {
         "show_id": "s20",
         "type": "TV Show",
         "title": "Jaguar",
         "director": "nan",
         "cast": "Blanca Suárez, Iván Marcos, Óscar Casas, Adrián Lastra, Francesc Garrido, Stefan Weinert, Julia Möl…",
         "country": "nan",
         "date_added": "September 22, 2021",
         "release_year": 2021,
         "rating": "TV-MA",
         "duration": "1 Season",
         "listed_in": "International TV Shows, Spanish-Language TV Shows, TV Action & Adventure",
         "description": "In the 1960s, a Holocaust survivor joins a group of self-trained spies who seek justice against Naz…",
         "description_sentiment_score": 0.6369,
         "weighted_average_vote": 5.5,
         "_deepnote_index_column": 19
        },
        {
         "show_id": "s25",
         "type": "Movie",
         "title": "Jeans",
         "director": "S. Shankar",
         "cast": "Prashanth, Aishwarya Rai Bachchan, Sri Lakshmi, Nassar",
         "country": "India",
         "date_added": "September 21, 2021",
         "release_year": 1998,
         "rating": "TV-14",
         "duration": "166 min",
         "listed_in": "Comedies, International Movies, Romantic Movies",
         "description": "When the father of the man she loves insists that his twin sons marry twin sisters, a woman creates…",
         "description_sentiment_score": 0.8176,
         "weighted_average_vote": 6.5,
         "_deepnote_index_column": 24
        },
        {
         "show_id": "s30",
         "type": "Movie",
         "title": "Paranoia",
         "director": "Robert Luketic",
         "cast": "Liam Hemsworth, Gary Oldman, Amber Heard, Harrison Ford, Lucas Till, Embeth Davidtz, Julian McMahon…",
         "country": "United States, India, France",
         "date_added": "September 19, 2021",
         "release_year": 2013,
         "rating": "PG-13",
         "duration": "106 min",
         "listed_in": "Thrillers",
         "description": "Blackmailed by his company's CEO, a low-level employee finds himself forced to spy on the boss's ri…",
         "description_sentiment_score": -0.4588,
         "weighted_average_vote": 6.3,
         "_deepnote_index_column": 29
        },
        {
         "show_id": "s30",
         "type": "Movie",
         "title": "Paranoia",
         "director": "Robert Luketic",
         "cast": "Liam Hemsworth, Gary Oldman, Amber Heard, Harrison Ford, Lucas Till, Embeth Davidtz, Julian McMahon…",
         "country": "United States, India, France",
         "date_added": "September 19, 2021",
         "release_year": 2013,
         "rating": "PG-13",
         "duration": "106 min",
         "listed_in": "Thrillers",
         "description": "Blackmailed by his company's CEO, a low-level employee finds himself forced to spy on the boss's ri…",
         "description_sentiment_score": -0.4588,
         "weighted_average_vote": 4.9,
         "_deepnote_index_column": 30
        },
        {
         "show_id": "s49",
         "type": "Movie",
         "title": "Training Day",
         "director": "Antoine Fuqua",
         "cast": "Denzel Washington, Ethan Hawke, Scott Glenn, Tom Berenger, Harris Yulin, Raymond J. Barry, Cliff Cu…",
         "country": "United States",
         "date_added": "September 16, 2021",
         "release_year": 2001,
         "rating": "R",
         "duration": "122 min",
         "listed_in": "Dramas, Thrillers",
         "description": "A rookie cop with one day to prove himself to a veteran LAPD narcotics officer receives a crash cou…",
         "description_sentiment_score": -0.128,
         "weighted_average_vote": 7.7,
         "_deepnote_index_column": 49
        },
        {
         "show_id": "s74",
         "type": "Movie",
         "title": "King of Boys",
         "director": "Kemi Adetiba",
         "cast": "Sola Sobowale, Adesua Etomi, Remilekun \"Reminisce\" Safaru, Tobechukwu \"iLLbliss\" Ejiofor, Toni Tone…",
         "country": "Nigeria",
         "date_added": "September 14, 2021",
         "release_year": 2018,
         "rating": "TV-MA",
         "duration": "182 min",
         "listed_in": "Dramas, International Movies",
         "description": "When a powerful businesswoman’s political ambitions are threatened by her underworld connections, t…",
         "description_sentiment_score": -0.3612,
         "weighted_average_vote": 5.8,
         "_deepnote_index_column": 74
        },
        {
         "show_id": "s83",
         "type": "TV Show",
         "title": "Lucifer",
         "director": "nan",
         "cast": "Tom Ellis, Lauren German, Kevin Alejandro, D.B. Woodside, Lesley-Ann Brandt, Scarlett Estevez, Rach…",
         "country": "United States",
         "date_added": "September 10, 2021",
         "release_year": 2021,
         "rating": "TV-14",
         "duration": "6 Seasons",
         "listed_in": "Crime TV Shows, TV Comedies, TV Dramas",
         "description": "Bored with being the Lord of Hell, the devil relocates to Los Angeles, where he opens a nightclub a…",
         "description_sentiment_score": -0.9022,
         "weighted_average_vote": 3.8,
         "_deepnote_index_column": 83
        },
        {
         "show_id": "s83",
         "type": "TV Show",
         "title": "Lucifer",
         "director": "nan",
         "cast": "Tom Ellis, Lauren German, Kevin Alejandro, D.B. Woodside, Lesley-Ann Brandt, Scarlett Estevez, Rach…",
         "country": "United States",
         "date_added": "September 10, 2021",
         "release_year": 2021,
         "rating": "TV-14",
         "duration": "6 Seasons",
         "listed_in": "Crime TV Shows, TV Comedies, TV Dramas",
         "description": "Bored with being the Lord of Hell, the devil relocates to Los Angeles, where he opens a nightclub a…",
         "description_sentiment_score": -0.9022,
         "weighted_average_vote": 6.6,
         "_deepnote_index_column": 84
        },
        {
         "show_id": "s83",
         "type": "TV Show",
         "title": "Lucifer",
         "director": "nan",
         "cast": "Tom Ellis, Lauren German, Kevin Alejandro, D.B. Woodside, Lesley-Ann Brandt, Scarlett Estevez, Rach…",
         "country": "United States",
         "date_added": "September 10, 2021",
         "release_year": 2021,
         "rating": "TV-14",
         "duration": "6 Seasons",
         "listed_in": "Crime TV Shows, TV Comedies, TV Dramas",
         "description": "Bored with being the Lord of Hell, the devil relocates to Los Angeles, where he opens a nightclub a…",
         "description_sentiment_score": -0.9022,
         "weighted_average_vote": 7.5,
         "_deepnote_index_column": 85
        },
        {
         "show_id": "s87",
         "type": "Movie",
         "title": "Prey",
         "director": "Thomas Sieben",
         "cast": "David Kross, Hanno Koffler, Maria Ehrich, Robert Finster, Yung Ngo, Klaus Steinbacher, Livia Matthe…",
         "country": "nan",
         "date_added": "September 10, 2021",
         "release_year": 2021,
         "rating": "TV-MA",
         "duration": "87 min",
         "listed_in": "International Movies, Thrillers",
         "description": "A hiking trip into the wild turns into a desperate bid for survival for five friends on the run fro…",
         "description_sentiment_score": 0.2023,
         "weighted_average_vote": 2.2,
         "_deepnote_index_column": 89
        },
        {
         "show_id": "s87",
         "type": "Movie",
         "title": "Prey",
         "director": "Thomas Sieben",
         "cast": "David Kross, Hanno Koffler, Maria Ehrich, Robert Finster, Yung Ngo, Klaus Steinbacher, Livia Matthe…",
         "country": "nan",
         "date_added": "September 10, 2021",
         "release_year": 2021,
         "rating": "TV-MA",
         "duration": "87 min",
         "listed_in": "International Movies, Thrillers",
         "description": "A hiking trip into the wild turns into a desperate bid for survival for five friends on the run fro…",
         "description_sentiment_score": 0.2023,
         "weighted_average_vote": 4.7,
         "_deepnote_index_column": 90
        },
        {
         "show_id": "s91",
         "type": "Movie",
         "title": "Paradise Hills",
         "director": "Alice Waddington",
         "cast": "Emma Roberts, Danielle Macdonald, Awkwafina, Eiza González, Milla Jovovich, Jeremy Irvine, Arnaud V…",
         "country": "Spain, United States",
         "date_added": "September 9, 2021",
         "release_year": 2019,
         "rating": "TV-MA",
         "duration": "95 min",
         "listed_in": "Sci-Fi & Fantasy, Thrillers",
         "description": "Uma wakes up in a lush tropical facility designed to turn willful girls into perfect ladies. That’s…",
         "description_sentiment_score": -0.6187,
         "weighted_average_vote": 5.6,
         "_deepnote_index_column": 94
        },
        {
         "show_id": "s96",
         "type": "TV Show",
         "title": "The Circle",
         "director": "nan",
         "cast": "Michelle Buteau",
         "country": "United States, United Kingdom",
         "date_added": "September 8, 2021",
         "release_year": 2021,
         "rating": "TV-MA",
         "duration": "3 Seasons",
         "listed_in": "Reality TV",
         "description": "Status and strategy collide in this social experiment and competition show where online players fli…",
         "description_sentiment_score": -0.0772,
         "weighted_average_vote": 6.3,
         "_deepnote_index_column": 99
        },
        {
         "show_id": "s96",
         "type": "TV Show",
         "title": "The Circle",
         "director": "nan",
         "cast": "Michelle Buteau",
         "country": "United States, United Kingdom",
         "date_added": "September 8, 2021",
         "release_year": 2021,
         "rating": "TV-MA",
         "duration": "3 Seasons",
         "listed_in": "Reality TV",
         "description": "Status and strategy collide in this social experiment and competition show where online players fli…",
         "description_sentiment_score": -0.0772,
         "weighted_average_vote": 5.6,
         "_deepnote_index_column": 100
        },
        {
         "show_id": "s96",
         "type": "TV Show",
         "title": "The Circle",
         "director": "nan",
         "cast": "Michelle Buteau",
         "country": "United States, United Kingdom",
         "date_added": "September 8, 2021",
         "release_year": 2021,
         "rating": "TV-MA",
         "duration": "3 Seasons",
         "listed_in": "Reality TV",
         "description": "Status and strategy collide in this social experiment and competition show where online players fli…",
         "description_sentiment_score": -0.0772,
         "weighted_average_vote": 4.9,
         "_deepnote_index_column": 101
        },
        {
         "show_id": "s96",
         "type": "TV Show",
         "title": "The Circle",
         "director": "nan",
         "cast": "Michelle Buteau",
         "country": "United States, United Kingdom",
         "date_added": "September 8, 2021",
         "release_year": 2021,
         "rating": "TV-MA",
         "duration": "3 Seasons",
         "listed_in": "Reality TV",
         "description": "Status and strategy collide in this social experiment and competition show where online players fli…",
         "description_sentiment_score": -0.0772,
         "weighted_average_vote": 5.3,
         "_deepnote_index_column": 102
        },
        {
         "show_id": "s106",
         "type": "Movie",
         "title": "Angamaly Diaries",
         "director": "Lijo Jose Pellissery",
         "cast": "Antony Varghese, Reshma Rajan, Binny Rinky Benjamin, Vineeth Vishwam, Kichu Tellus, Sreekanth Dasan…",
         "country": "India",
         "date_added": "September 5, 2021",
         "release_year": 2017,
         "rating": "TV-14",
         "duration": "128 min",
         "listed_in": "Action & Adventure, Comedies, Dramas",
         "description": "After growing up amidst the gang wars of his hometown, Vincent forms an entrepreneurial squad of hi…",
         "description_sentiment_score": -0.7184,
         "weighted_average_vote": 8,
         "_deepnote_index_column": 112
        },
        {
         "show_id": "s113",
         "type": "Movie",
         "title": "Worth",
         "director": "Sara Colangelo",
         "cast": "Michael Keaton, Stanley Tucci, Amy Ryan, Shunori Ramanathan, Ato Blankson-Wood, Tate Donovan, Laura…",
         "country": "nan",
         "date_added": "September 3, 2021",
         "release_year": 2021,
         "rating": "PG-13",
         "duration": "119 min",
         "listed_in": "Dramas",
         "description": "In the wake of the Sept. 11 attacks, a lawyer faces an emotional reckoning as he attempts to put a …",
         "description_sentiment_score": -0.296,
         "weighted_average_vote": 5.1,
         "_deepnote_index_column": 119
        },
        {
         "show_id": "s115",
         "type": "Movie",
         "title": "Anjaam",
         "director": "Rahul Rawail",
         "cast": "Madhuri Dixit, Shah Rukh Khan, Tinnu Anand, Johny Lever, Kalpana Iyer, Himani Shivpuri, Sudha Chand…",
         "country": "India",
         "date_added": "September 2, 2021",
         "release_year": 1994,
         "rating": "TV-14",
         "duration": "143 min",
         "listed_in": "Dramas, International Movies, Thrillers",
         "description": "A wealthy industrialist’s dangerous obsession with a flight attendant destroys her world, until she…",
         "description_sentiment_score": -0.872,
         "weighted_average_vote": 6.9,
         "_deepnote_index_column": 121
        },
        {
         "show_id": "s116",
         "type": "Movie",
         "title": "Bright Star",
         "director": "Jane Campion",
         "cast": "Abbie Cornish, Ben Whishaw, Paul Schneider, Kerry Fox, Edie Martin, Thomas Brodie-Sangster, Claudie…",
         "country": "United Kingdom, Australia, France",
         "date_added": "September 2, 2021",
         "release_year": 2009,
         "rating": "PG",
         "duration": "119 min",
         "listed_in": "Dramas, Romantic Movies",
         "description": "This drama details the passionate three-year romance between Romantic poet John Keats – who died tr…",
         "description_sentiment_score": 0.8934,
         "weighted_average_vote": 6.9,
         "_deepnote_index_column": 122
        },
        {
         "show_id": "s117",
         "type": "Movie",
         "title": "Dhanak",
         "director": "Nagesh Kukunoor",
         "cast": "Krrish Chhabria, Hetal Gada, Vipin Sharma, Gulfam Khan, Suresh Menon, Vijay Maurya, Rajiv Lakshman,…",
         "country": "India",
         "date_added": "September 2, 2021",
         "release_year": 2015,
         "rating": "TV-PG",
         "duration": "114 min",
         "listed_in": "Comedies, Dramas, Independent Movies",
         "description": "A movie-loving 10-year-old and her blind little brother trek to meet Indian superstar Shah Rukh Kha…",
         "description_sentiment_score": 0,
         "weighted_average_vote": 7.9,
         "_deepnote_index_column": 123
        },
        {
         "show_id": "s119",
         "type": "Movie",
         "title": "Gurgaon",
         "director": "Shanker Raman",
         "cast": "Akshay Oberoi, Pankaj Tripathi, Ragini Khanna, Aamir Bashir, Shalini Vatsa, Ashish Verma",
         "country": "India",
         "date_added": "September 2, 2021",
         "release_year": 2017,
         "rating": "TV-14",
         "duration": "106 min",
         "listed_in": "Dramas, International Movies, Thrillers",
         "description": "When the daughter of a wealthy family returns from college, she gets a frosty welcome from her brot…",
         "description_sentiment_score": 0.4215,
         "weighted_average_vote": 6.6,
         "_deepnote_index_column": 125
        },
        {
         "show_id": "s123",
         "type": "Movie",
         "title": "In the Cut",
         "director": "Jane Campion",
         "cast": "Meg Ryan, Mark Ruffalo, Jennifer Jason Leigh, Nick Damici, Sharrieff Pugh, Kevin Bacon, Yaani King …",
         "country": "United Kingdom, Australia, France, United States",
         "date_added": "September 2, 2021",
         "release_year": 2003,
         "rating": "R",
         "duration": "118 min",
         "listed_in": "Thrillers",
         "description": "After embarking on an affair with the cop probing the murder of a young woman, an insular schooltea…",
         "description_sentiment_score": -0.7783,
         "weighted_average_vote": 5.3,
         "_deepnote_index_column": 129
        },
        {
         "show_id": "s127",
         "type": "Movie",
         "title": "Shikara",
         "director": "Vidhu Vinod Chopra",
         "cast": "Aadil Khan, Sadia Khateeb, Zain Khan Durrani, Priyanshu Chatterjee, Bhavna Chauhan, Ashwin Dhar, Fa…",
         "country": "India",
         "date_added": "September 2, 2021",
         "release_year": 2020,
         "rating": "TV-14",
         "duration": "115 min",
         "listed_in": "Dramas, International Movies, Romantic Movies",
         "description": "A couple must strive to remain resilient after regional hostilities drive them from their beloved h…",
         "description_sentiment_score": 0.0516,
         "weighted_average_vote": 3.7,
         "_deepnote_index_column": 133
        },
        {
         "show_id": "s128",
         "type": "Movie",
         "title": "A Cinderella Story",
         "director": "Mark Rosman",
         "cast": "Hilary Duff, Chad Michael Murray, Jennifer Coolidge, Dan Byrd, Regina King, Julie Gonzalo, Lin Shay…",
         "country": "United States, Canada",
         "date_added": "September 1, 2021",
         "release_year": 2004,
         "rating": "PG",
         "duration": "95 min",
         "listed_in": "Children & Family Movies, Comedies",
         "description": "Teen Sam meets the boy of her dreams at a dance before returning to toil in her stepmother's diner.…",
         "description_sentiment_score": 0.1027,
         "weighted_average_vote": 5.9,
         "_deepnote_index_column": 134
        },
        {
         "show_id": "s139",
         "type": "Movie",
         "title": "Dear John",
         "director": "Lasse Hallström",
         "cast": "Channing Tatum, Amanda Seyfried, Richard Jenkins, Henry Thomas, D.J. Cotrona, Cullen Moss, Gavin Mc…",
         "country": "United States",
         "date_added": "September 1, 2021",
         "release_year": 2010,
         "rating": "PG-13",
         "duration": "108 min",
         "listed_in": "Dramas, Romantic Movies",
         "description": "While on summer leave, a U.S. soldier falls for a college student. But when he's forced to reenlist…",
         "description_sentiment_score": 0.128,
         "weighted_average_vote": 6.3,
         "_deepnote_index_column": 145
        },
        {
         "show_id": "s141",
         "type": "Movie",
         "title": "El patrón, radiografía de un crimen",
         "director": "Sebastián Schindel",
         "cast": "Joaquín Furriel, Luis Ziembrowski, Guillermo Pfening, Mónica Lairana, Germán de Silva, Victoria Rap…",
         "country": "Argentina, Venezuela",
         "date_added": "September 1, 2021",
         "release_year": 2014,
         "rating": "TV-MA",
         "duration": "100 min",
         "listed_in": "Dramas, International Movies, Thrillers",
         "description": "A lawyer defends an illiterate man whose exploitation by a cruel boss while working as a butcher in…",
         "description_sentiment_score": -0.7506,
         "weighted_average_vote": 7.4,
         "_deepnote_index_column": 147
        },
        {
         "show_id": "s142",
         "type": "Movie",
         "title": "Extraction",
         "director": "Steven C. Miller",
         "cast": "Bruce Willis, Kellan Lutz, Gina Carano, D.B. Sweeney, Joshua Mikel, Steve Coulter, Dan Bilzerian, H…",
         "country": "United States, United Kingdom, Canada",
         "date_added": "September 1, 2021",
         "release_year": 2015,
         "rating": "R",
         "duration": "82 min",
         "listed_in": "Action & Adventure",
         "description": "When a retired CIA agent is kidnapped, his son, a government analyst, embarks on an unauthorized mi…",
         "description_sentiment_score": -0.6908,
         "weighted_average_vote": 4.9,
         "_deepnote_index_column": 148
        },
        {
         "show_id": "s142",
         "type": "Movie",
         "title": "Extraction",
         "director": "Steven C. Miller",
         "cast": "Bruce Willis, Kellan Lutz, Gina Carano, D.B. Sweeney, Joshua Mikel, Steve Coulter, Dan Bilzerian, H…",
         "country": "United States, United Kingdom, Canada",
         "date_added": "September 1, 2021",
         "release_year": 2015,
         "rating": "R",
         "duration": "82 min",
         "listed_in": "Action & Adventure",
         "description": "When a retired CIA agent is kidnapped, his son, a government analyst, embarks on an unauthorized mi…",
         "description_sentiment_score": -0.6908,
         "weighted_average_vote": 4.1,
         "_deepnote_index_column": 149
        },
        {
         "show_id": "s143",
         "type": "Movie",
         "title": "Freedom Writers",
         "director": "Richard LaGravenese",
         "cast": "Hilary Swank, Patrick Dempsey, Scott Glenn, Imelda Staunton, April L. Hernandez, Mario, Kristin Her…",
         "country": "Germany, United States",
         "date_added": "September 1, 2021",
         "release_year": 2007,
         "rating": "PG-13",
         "duration": "124 min",
         "listed_in": "Dramas",
         "description": "While her at-risk students are reading classics such as \"The Diary of Anne Frank,\" a teacher asks t…",
         "description_sentiment_score": -0.4588,
         "weighted_average_vote": 7.5,
         "_deepnote_index_column": 150
        },
        {
         "show_id": "s146",
         "type": "Movie",
         "title": "House Party 2",
         "director": "George Jackson, Doug McHenry",
         "cast": "Christopher Reid, Christopher Martin, Martin Lawrence, Bowlegged Lou, Paul Anthony, B-Fine, Tisha C…",
         "country": "United States",
         "date_added": "September 1, 2021",
         "release_year": 1991,
         "rating": "R",
         "duration": "94 min",
         "listed_in": "Comedies, Cult Movies, Music & Musicals",
         "description": "Kid goes off to college with scholarship money but when Play loses Kid's tuition funds to a shady m…",
         "description_sentiment_score": 0.0387,
         "weighted_average_vote": 5.3,
         "_deepnote_index_column": 153
        },
        {
         "show_id": "s147",
         "type": "Movie",
         "title": "House Party 3",
         "director": "Eric Meza",
         "cast": "Christopher Reid, Christopher Martin, Tisha Campbell, David Edwards, Angela Means, Ketty Lester, Be…",
         "country": "United States",
         "date_added": "September 1, 2021",
         "release_year": 1994,
         "rating": "R",
         "duration": "94 min",
         "listed_in": "Comedies, Music & Musicals",
         "description": "After Kid gets engaged, Play plans to throw the biggest bachelor party ever. But every celebration …",
         "description_sentiment_score": 0.5267,
         "weighted_average_vote": 4.7,
         "_deepnote_index_column": 154
        }
       ],
       "rows_bottom": [
        {
         "show_id": "s8705",
         "type": "Movie",
         "title": "We Belong Together",
         "director": "Chris Stokes",
         "cast": "Charles Malik Whitfield, Draya Michele, Elise Neal, Cassidey Fralin, Brian White, Valarie Pettiford…",
         "country": "United States",
         "date_added": "July 16, 2019",
         "release_year": 2018,
         "rating": "TV-14",
         "duration": "83 min",
         "listed_in": "Thrillers",
         "description": "A divorced professor shares a night of passion with a troubled student who quickly develops an unhe…",
         "description_sentiment_score": -0.1531,
         "weighted_average_vote": 4.7,
         "_deepnote_index_column": 9286
        },
        {
         "show_id": "s8716",
         "type": "Movie",
         "title": "Welcome to New York",
         "director": "Abel Ferrara",
         "cast": "Gérard Depardieu, Jacqueline Bisset, Marie Mouté, Paul Calderon, Paul Hipp, Pamela Afesi, Chris Zoi…",
         "country": "United States, France",
         "date_added": "March 23, 2017",
         "release_year": 2014,
         "rating": "R",
         "duration": "108 min",
         "listed_in": "Dramas, Independent Movies",
         "description": "A lecherous World Bank official sees his reputation crumbling when he's accused of raping a hotel m…",
         "description_sentiment_score": -0.7906,
         "weighted_average_vote": 5.4,
         "_deepnote_index_column": 9297
        },
        {
         "show_id": "s8716",
         "type": "Movie",
         "title": "Welcome to New York",
         "director": "Abel Ferrara",
         "cast": "Gérard Depardieu, Jacqueline Bisset, Marie Mouté, Paul Calderon, Paul Hipp, Pamela Afesi, Chris Zoi…",
         "country": "United States, France",
         "date_added": "March 23, 2017",
         "release_year": 2014,
         "rating": "R",
         "duration": "108 min",
         "listed_in": "Dramas, Independent Movies",
         "description": "A lecherous World Bank official sees his reputation crumbling when he's accused of raping a hotel m…",
         "description_sentiment_score": -0.7906,
         "weighted_average_vote": 1.6,
         "_deepnote_index_column": 9298
        },
        {
         "show_id": "s8717",
         "type": "Movie",
         "title": "Welcome to Willits",
         "director": "Trevor Ryan",
         "cast": "Bill Sage, Sabina Gadecki, Anastasia Baranova, Dolph Lundgren, Thomas Dekker, Karrueche Tran, Chris…",
         "country": "United States",
         "date_added": "February 6, 2018",
         "release_year": 2017,
         "rating": "TV-MA",
         "duration": "84 min",
         "listed_in": "Comedies, Horror Movies, Independent Movies",
         "description": "A marijuana farmer's extraterrestrial paranoia creates trouble for a group of young campers who pit…",
         "description_sentiment_score": -0.3818,
         "weighted_average_vote": 4.1,
         "_deepnote_index_column": 9299
        },
        {
         "show_id": "s8722",
         "type": "TV Show",
         "title": "What Is Love?",
         "director": "nan",
         "cast": "Chris Wu, Jade Chou, Duncan Lai, King Chin, Kimi Hsia, Gina Lim",
         "country": "Taiwan",
         "date_added": "January 1, 2017",
         "release_year": 2012,
         "rating": "TV-14",
         "duration": "1 Season",
         "listed_in": "International TV Shows, Romantic TV Shows, TV Comedies",
         "description": "A 32-year-old romantic looking for a long-term, monogamous relationship meets a handsome bad boy wh…",
         "description_sentiment_score": 0.34,
         "weighted_average_vote": 7,
         "_deepnote_index_column": 9304
        },
        {
         "show_id": "s8725",
         "type": "Movie",
         "title": "What Still Remains",
         "director": "Josh Mendoza",
         "cast": "Lulu Antariksa, Colin O'Donoghue, Mimi Rogers, Peter O'Brien, Dohn Norwood, Jeff Kober, Roshon Fega…",
         "country": "United States",
         "date_added": "December 21, 2018",
         "release_year": 2018,
         "rating": "TV-14",
         "duration": "91 min",
         "listed_in": "Dramas, Thrillers",
         "description": "Struggling to survive alone post-apocalypse, a young woman is offered protection by an unknown man,…",
         "description_sentiment_score": -0.34,
         "weighted_average_vote": 4.7,
         "_deepnote_index_column": 9307
        },
        {
         "show_id": "s8731",
         "type": "Movie",
         "title": "Where's the Money",
         "director": "Scott Zabielski",
         "cast": "Andrew Bachelor, Kat Graham, Mike Epps, Terry Crews, Method Man, Logan Paul, Allen Maldonado, Josh …",
         "country": "United States",
         "date_added": "January 22, 2018",
         "release_year": 2017,
         "rating": "R",
         "duration": "86 min",
         "listed_in": "Comedies",
         "description": "Hunting for a stash of stolen money, a sharp-witted slacker from South Central Los Angeles infiltra…",
         "description_sentiment_score": -0.4939,
         "weighted_average_vote": 5.1,
         "_deepnote_index_column": 9313
        },
        {
         "show_id": "s8733",
         "type": "Movie",
         "title": "White Chamber",
         "director": "Paul Raschid",
         "cast": "Shauna MacDonald, Oded Fehr, Amrita Acharia, Sharon Maughan, Nicholas Farrell, Candis Nergaard, Mar…",
         "country": "United Kingdom",
         "date_added": "August 1, 2019",
         "release_year": 2018,
         "rating": "TV-MA",
         "duration": "89 min",
         "listed_in": "Sci-Fi & Fantasy, Thrillers",
         "description": "When a civil war ravages the UK, a scientist awakens in a futuristic cell and is tortured by her ca…",
         "description_sentiment_score": -0.8176,
         "weighted_average_vote": 4.4,
         "_deepnote_index_column": 9315
        },
        {
         "show_id": "s8734",
         "type": "Movie",
         "title": "White Island",
         "director": "Benjamin Turner",
         "cast": "Lyndon Ogbourne, Billy Zane, Billy Boyd, Joel Dommett, Elliot Gleave, Gala Gordon, Darren Day, Owai…",
         "country": "United Kingdom",
         "date_added": "September 25, 2017",
         "release_year": 2016,
         "rating": "TV-MA",
         "duration": "91 min",
         "listed_in": "Comedies, Independent Movies, Thrillers",
         "description": "Returning to Ibiza after several years walking the straight and narrow in London, Connor falls back…",
         "description_sentiment_score": 0,
         "weighted_average_vote": 4.3,
         "_deepnote_index_column": 9316
        },
        {
         "show_id": "s8743",
         "type": "Movie",
         "title": "Wild Wild West",
         "director": "Barry Sonnenfeld",
         "cast": "Will Smith, Kevin Kline, Kenneth Branagh, Salma Hayek, M. Emmet Walsh, Ted Levine, Frederique Van D…",
         "country": "United States",
         "date_added": "January 1, 2020",
         "release_year": 1999,
         "rating": "PG-13",
         "duration": "106 min",
         "listed_in": "Action & Adventure, Comedies, Sci-Fi & Fantasy",
         "description": "Armed with an ingenious arsenal, two top-notch government agents are tasked with tracking down a di…",
         "description_sentiment_score": 0,
         "weighted_average_vote": 4.9,
         "_deepnote_index_column": 9325
        },
        {
         "show_id": "s8744",
         "type": "Movie",
         "title": "Wildlife",
         "director": "Paul Dano",
         "cast": "Carey Mulligan, Ed Oxenbould, Bill Camp, Jake Gyllenhaal, Mollie Milligan, Darryl Cox",
         "country": "United States",
         "date_added": "September 1, 2020",
         "release_year": 2018,
         "rating": "PG-13",
         "duration": "105 min",
         "listed_in": "Dramas, Independent Movies",
         "description": "A teen’s life in 1960 Montana grows complicated when his father is fired, his mother returns to wor…",
         "description_sentiment_score": -0.5859,
         "weighted_average_vote": 6.8,
         "_deepnote_index_column": 9326
        },
        {
         "show_id": "s8747",
         "type": "Movie",
         "title": "Winnie",
         "director": "Pascale Lamche",
         "cast": "nan",
         "country": "France, Netherlands, South Africa, Finland",
         "date_added": "February 26, 2018",
         "release_year": 2017,
         "rating": "TV-14",
         "duration": "85 min",
         "listed_in": "Documentaries, International Movies",
         "description": "Winnie Mandela speaks about her extraordinary and controversial career, from her early life to her …",
         "description_sentiment_score": -0.2023,
         "weighted_average_vote": 6,
         "_deepnote_index_column": 9329
        },
        {
         "show_id": "s8749",
         "type": "Movie",
         "title": "Winter of Our Dreams",
         "director": "John Duigan",
         "cast": "Judy Davis, Bryan Brown, Cathy Downes, Baz Luhrmann, Peter Mochrie, Mervyn Drake, Margie McCrae",
         "country": "Australia",
         "date_added": "November 1, 2016",
         "release_year": 1981,
         "rating": "NR",
         "duration": "86 min",
         "listed_in": "Classic Movies, Dramas",
         "description": "After the death of a long-ago lover, married philanderer Rob tracks down her friend, a drug-addicte…",
         "description_sentiment_score": -0.2732,
         "weighted_average_vote": 6.3,
         "_deepnote_index_column": 9331
        },
        {
         "show_id": "s8752",
         "type": "Movie",
         "title": "Wish I Was Here",
         "director": "Zach Braff",
         "cast": "Zach Braff, Kate Hudson, Donald Faison, Joey King, Josh Gad, Jim Parsons, Pierce Gagnon, Mandy Pati…",
         "country": "United States",
         "date_added": "August 16, 2018",
         "release_year": 2014,
         "rating": "R",
         "duration": "106 min",
         "listed_in": "Comedies, Dramas, Independent Movies",
         "description": "With his acting career moribund, Aidan Bloom steers a new tack in life, taking over his children's …",
         "description_sentiment_score": -0.1027,
         "weighted_average_vote": 6.7,
         "_deepnote_index_column": 9334
        },
        {
         "show_id": "s8753",
         "type": "Movie",
         "title": "Wish Man",
         "director": "Theo Davies",
         "cast": "Andrew Steel, Kirby Bliss Blanton, Tom Sizemore, Danny Trejo, Frank Whaley, Robert Pine, Fay Master…",
         "country": "United States",
         "date_added": "December 3, 2019",
         "release_year": 2019,
         "rating": "TV-14",
         "duration": "108 min",
         "listed_in": "Children & Family Movies, Dramas",
         "description": "After surviving a life-threatening accident, a troubled cop finds new purpose when he bonds with a …",
         "description_sentiment_score": -0.5994,
         "weighted_average_vote": 7.1,
         "_deepnote_index_column": 9335
        },
        {
         "show_id": "s8754",
         "type": "Movie",
         "title": "Withdrawn",
         "director": "Adrian Murray",
         "cast": "Aaron Keogh, Molly Reisman, Dean Tardioli, Greg Wasylyszn, Adrian Murray, Kelly Paoli, Earl Olivero…",
         "country": "Canada",
         "date_added": "May 1, 2018",
         "release_year": 2017,
         "rating": "TV-MA",
         "duration": "74 min",
         "listed_in": "Dramas, Independent Movies",
         "description": "Unable to pay bills and unwilling to change his slacker lifestyle, twentysomething Aaron hatches a …",
         "description_sentiment_score": -0.0258,
         "weighted_average_vote": 6.4,
         "_deepnote_index_column": 9336
        },
        {
         "show_id": "s8755",
         "type": "Movie",
         "title": "Wolves",
         "director": "Bart Freundlich",
         "cast": "Michael Shannon, Carla Gugino, Taylor John Smith, Chris Bauer, John Douglas Thompson, Zazie Beetz, …",
         "country": "United States",
         "date_added": "March 29, 2019",
         "release_year": 2016,
         "rating": "R",
         "duration": "109 min",
         "listed_in": "Dramas, Independent Movies, Sports Movies",
         "description": "A promising high school basketball player has his eye on an Ivy League scholarship. But his father'…",
         "description_sentiment_score": -0.6542,
         "weighted_average_vote": 5.3,
         "_deepnote_index_column": 9337
        },
        {
         "show_id": "s8758",
         "type": "Movie",
         "title": "World Trade Center",
         "director": "Oliver Stone",
         "cast": "Nicolas Cage, Michael Peña, Maggie Gyllenhaal, Maria Bello, Stephen Dorff, Jay Hernandez, Michael S…",
         "country": "United States",
         "date_added": "November 20, 2019",
         "release_year": 2006,
         "rating": "PG-13",
         "duration": "129 min",
         "listed_in": "Action & Adventure, Dramas",
         "description": "Working under treacherous conditions, an army of dedicated rescuers struggles to find anyone who su…",
         "description_sentiment_score": -0.34,
         "weighted_average_vote": 5.9,
         "_deepnote_index_column": 9340
        },
        {
         "show_id": "s8761",
         "type": "Movie",
         "title": "Would You Rather",
         "director": "David Guy Levy",
         "cast": "Brittany Snow, Jeffrey Combs, Jonny Coyne, Lawrence Gilliard Jr., Enver Gjokaj, Sasha Grey, John He…",
         "country": "United States",
         "date_added": "June 5, 2019",
         "release_year": 2013,
         "rating": "TV-MA",
         "duration": "93 min",
         "listed_in": "Horror Movies, Independent Movies, Thrillers",
         "description": "In need of cash to help her sick brother, a young woman agrees to take part in a lethal winner-take…",
         "description_sentiment_score": 0.0516,
         "weighted_average_vote": 5.7,
         "_deepnote_index_column": 9343
        },
        {
         "show_id": "s8762",
         "type": "Movie",
         "title": "Wrong No.",
         "director": "Yasir Nawaz",
         "cast": "Javed Sheikh, Danish Taimoor, Janita Asma, Nayyar Ejaz, Qavi Khan, Shafqat Cheema, Sohai Ali Abro, …",
         "country": "Pakistan",
         "date_added": "July 1, 2017",
         "release_year": 2015,
         "rating": "TV-14",
         "duration": "133 min",
         "listed_in": "Comedies, International Movies, Romantic Movies",
         "description": "Two identical strangers pursue their respective dreams after exchanging lives and getting out from …",
         "description_sentiment_score": 0.8555,
         "weighted_average_vote": 6.7,
         "_deepnote_index_column": 9344
        },
        {
         "show_id": "s8763",
         "type": "Movie",
         "title": "Wrong Side Raju",
         "director": "Mikhil Musale",
         "cast": "Pratik Gandhi, Kimberley Louisa McBeath, Asif Basra, Kavi Shastri, Hetal Puniwala, Ragi Jani, Makar…",
         "country": "India",
         "date_added": "October 1, 2017",
         "release_year": 2016,
         "rating": "TV-MA",
         "duration": "140 min",
         "listed_in": "Dramas, International Movies",
         "description": "The life of a chauffeur and part-time bootlegger takes a turn toward the dramatic when a girl appro…",
         "description_sentiment_score": 0,
         "weighted_average_vote": 8,
         "_deepnote_index_column": 9345
        },
        {
         "show_id": "s8765",
         "type": "Movie",
         "title": "Wyatt Earp",
         "director": "Lawrence Kasdan",
         "cast": "Kevin Costner, Dennis Quaid, Gene Hackman, David Andrews, Linden Ashby, Jeff Fahey, Joanna Going, M…",
         "country": "United States",
         "date_added": "January 1, 2020",
         "release_year": 1994,
         "rating": "PG-13",
         "duration": "191 min",
         "listed_in": "Action & Adventure",
         "description": "Legendary lawman Wyatt Earp is continually at odds with a gang of renegade cowboys, culminating in …",
         "description_sentiment_score": 0.1363,
         "weighted_average_vote": 6.7,
         "_deepnote_index_column": 9347
        },
        {
         "show_id": "s8773",
         "type": "Movie",
         "title": "Yamla Pagla Deewana 2",
         "director": "Sangeeth Sivan",
         "cast": "Dharmendra, Sunny Deol, Bobby Deol, Neha Sharma, Kristina Akheeva, Annu Kapoor, Johnny Lever, Suche…",
         "country": "India",
         "date_added": "May 1, 2017",
         "release_year": 2013,
         "rating": "TV-14",
         "duration": "147 min",
         "listed_in": "Action & Adventure, Comedies, International Movies",
         "description": "Up to his old tricks, con man Dharam poses as a millionaire to get his younger son married to the d…",
         "description_sentiment_score": 0.25,
         "weighted_average_vote": 3.4,
         "_deepnote_index_column": 9355
        },
        {
         "show_id": "s8774",
         "type": "Movie",
         "title": "Yanda Kartavya Aahe",
         "director": "Kedar Shinde",
         "cast": "Ankush Choudhary, Smita Shewale, Mohan Joshi, Atmaram Bhende, Asha Bhende",
         "country": "India",
         "date_added": "January 1, 2018",
         "release_year": 2006,
         "rating": "TV-PG",
         "duration": "151 min",
         "listed_in": "Comedies, Dramas, International Movies",
         "description": "Thanks to an arranged marriage that was designed to make an ailing grandmother happy, newlyweds Rah…",
         "description_sentiment_score": 0.765,
         "weighted_average_vote": 6.6,
         "_deepnote_index_column": 9356
        },
        {
         "show_id": "s8777",
         "type": "Movie",
         "title": "Yellowbird",
         "director": "Christian De Vita",
         "cast": "Dakota Fanning, Seth Green, Christine Baranski, Zachary Gordon, Richard Kind, Danny Glover, Elliott…",
         "country": "France, Belgium",
         "date_added": "August 5, 2015",
         "release_year": 2014,
         "rating": "PG",
         "duration": "90 min",
         "listed_in": "Children & Family Movies, Comedies",
         "description": "An orphaned bird tags along with a flock on their long migration to Africa and becomes a hero when …",
         "description_sentiment_score": 0.2263,
         "weighted_average_vote": 5.6,
         "_deepnote_index_column": 9359
        },
        {
         "show_id": "s8780",
         "type": "Movie",
         "title": "Yes or No 2.5",
         "director": "Kirati Nakintanon",
         "cast": "Supanart Jittaleela, Pimpakan Bangchawong, Chansakorn Kittiwattanakorn, Sunanta Yoonniyom",
         "country": "Thailand",
         "date_added": "November 8, 2018",
         "release_year": 2015,
         "rating": "TV-PG",
         "duration": "107 min",
         "listed_in": "International Movies, LGBTQ Movies, Romantic Movies",
         "description": "Roommates Wine and Pie find their lives turned upside down when two more ladies move in next door, …",
         "description_sentiment_score": 0.4215,
         "weighted_average_vote": 5.3,
         "_deepnote_index_column": 9362
        },
        {
         "show_id": "s8787",
         "type": "Movie",
         "title": "You Can Tutu",
         "director": "James Brown",
         "cast": "Lily O'Regan, Jeannettsy Enriquez Borges, Joeley Gibson, Zahra Hassan Malik, Cleo Badcock, Stuart M…",
         "country": "United Kingdom",
         "date_added": "December 31, 2017",
         "release_year": 2017,
         "rating": "TV-G",
         "duration": "87 min",
         "listed_in": "Children & Family Movies",
         "description": "A gifted young ballet dancer struggles to find her footing in an uptight ballet school that brings …",
         "description_sentiment_score": -0.6249,
         "weighted_average_vote": 4.3,
         "_deepnote_index_column": 9369
        },
        {
         "show_id": "s8790",
         "type": "Movie",
         "title": "You Changed My Life",
         "director": "Cathy Garcia-Molina",
         "cast": "John Lloyd Cruz, Sarah Geronimo, Rayver Cruz, Dante Rivero, Rowell Santiago, Al Tantay, Irma Adlawa…",
         "country": "Philippines",
         "date_added": "February 27, 2019",
         "release_year": 2009,
         "rating": "TV-PG",
         "duration": "116 min",
         "listed_in": "Comedies, Dramas, International Movies",
         "description": "Laida and Miggy think they've found perfect happiness with each other, until their burgeoning caree…",
         "description_sentiment_score": 0.8074,
         "weighted_average_vote": 6.5,
         "_deepnote_index_column": 9372
        },
        {
         "show_id": "s8792",
         "type": "Movie",
         "title": "Young Adult",
         "director": "Jason Reitman",
         "cast": "Charlize Theron, Patton Oswalt, Patrick Wilson, Elizabeth Reaser, Jill Eikenberry, Mary Beth Hurt, …",
         "country": "United States",
         "date_added": "November 20, 2019",
         "release_year": 2011,
         "rating": "R",
         "duration": "94 min",
         "listed_in": "Comedies, Dramas, Independent Movies",
         "description": "When a divorced writer gets a letter from an old boyfriend announcing his wife's had a baby, she re…",
         "description_sentiment_score": 0,
         "weighted_average_vote": 6.2,
         "_deepnote_index_column": 9374
        },
        {
         "show_id": "s8799",
         "type": "Movie",
         "title": "Zed Plus",
         "director": "Chandra Prakash Dwivedi",
         "cast": "Adil Hussain, Mona Singh, K.K. Raina, Sanjay Mishra, Anil Rastogi, Ravi Jhankal, Kulbhushan Kharban…",
         "country": "India",
         "date_added": "December 31, 2019",
         "release_year": 2014,
         "rating": "TV-MA",
         "duration": "131 min",
         "listed_in": "Comedies, Dramas, International Movies",
         "description": "A philandering small-town mechanic's political ambitions are sparked when the visiting prime minist…",
         "description_sentiment_score": 0.5859,
         "weighted_average_vote": 6.4,
         "_deepnote_index_column": 9381
        },
        {
         "show_id": "s8800",
         "type": "Movie",
         "title": "Zenda",
         "director": "Avadhoot Gupte",
         "cast": "Santosh Juvekar, Siddharth Chandekar, Sachit Patil, Chinmay Mandlekar, Rajesh Shringarpure, Pushkar…",
         "country": "India",
         "date_added": "February 15, 2018",
         "release_year": 2009,
         "rating": "TV-14",
         "duration": "120 min",
         "listed_in": "Dramas, International Movies",
         "description": "A change in the leadership of a political party sparks bitter conflict and the party's division int…",
         "description_sentiment_score": -0.34,
         "weighted_average_vote": 7,
         "_deepnote_index_column": 9382
        },
        {
         "show_id": "s8802",
         "type": "Movie",
         "title": "Zinzana",
         "director": "Majid Al Ansari",
         "cast": "Ali Suliman, Saleh Bakri, Yasa, Ali Al-Jabri, Mansoor Alfeeli, Ahd",
         "country": "United Arab Emirates, Jordan",
         "date_added": "March 9, 2016",
         "release_year": 2015,
         "rating": "TV-MA",
         "duration": "96 min",
         "listed_in": "Dramas, International Movies, Thrillers",
         "description": "Recovering alcoholic Talal wakes up inside a small-town police station cell, where he's subject to …",
         "description_sentiment_score": 0,
         "weighted_average_vote": 6.7,
         "_deepnote_index_column": 9384
        },
        {
         "show_id": "s8803",
         "type": "Movie",
         "title": "Zodiac",
         "director": "David Fincher",
         "cast": "Mark Ruffalo, Jake Gyllenhaal, Robert Downey Jr., Anthony Edwards, Brian Cox, Elias Koteas, Donal L…",
         "country": "United States",
         "date_added": "November 20, 2019",
         "release_year": 2007,
         "rating": "R",
         "duration": "158 min",
         "listed_in": "Cult Movies, Dramas, Thrillers",
         "description": "A political cartoonist, a crime reporter and a pair of cops investigate San Francisco's infamous Zo…",
         "description_sentiment_score": -0.6808,
         "weighted_average_vote": 7.7,
         "_deepnote_index_column": 9385
        },
        {
         "show_id": "s8806",
         "type": "Movie",
         "title": "Zoom",
         "director": "Peter Hewitt",
         "cast": "Tim Allen, Courteney Cox, Chevy Chase, Kate Mara, Ryan Newman, Michael Cassidy, Spencer Breslin, Ri…",
         "country": "United States",
         "date_added": "January 11, 2020",
         "release_year": 2006,
         "rating": "PG",
         "duration": "88 min",
         "listed_in": "Children & Family Movies, Comedies",
         "description": "Dragged from civilian life, a former superhero must train a new crop of youthful saviors when the m…",
         "description_sentiment_score": -0.6808,
         "weighted_average_vote": 4.4,
         "_deepnote_index_column": 9388
        },
        {
         "show_id": "s8806",
         "type": "Movie",
         "title": "Zoom",
         "director": "Peter Hewitt",
         "cast": "Tim Allen, Courteney Cox, Chevy Chase, Kate Mara, Ryan Newman, Michael Cassidy, Spencer Breslin, Ri…",
         "country": "United States",
         "date_added": "January 11, 2020",
         "release_year": 2006,
         "rating": "PG",
         "duration": "88 min",
         "listed_in": "Children & Family Movies, Comedies",
         "description": "Dragged from civilian life, a former superhero must train a new crop of youthful saviors when the m…",
         "description_sentiment_score": -0.6808,
         "weighted_average_vote": 6.1,
         "_deepnote_index_column": 9389
        },
        {
         "show_id": "s8807",
         "type": "Movie",
         "title": "Zubaan",
         "director": "Mozez Singh",
         "cast": "Vicky Kaushal, Sarah-Jane Dias, Raaghav Chanana, Manish Chaudhary, Meghna Malik, Malkeet Rauni, Ani…",
         "country": "India",
         "date_added": "March 2, 2019",
         "release_year": 2015,
         "rating": "TV-14",
         "duration": "111 min",
         "listed_in": "Dramas, International Movies, Music & Musicals",
         "description": "A scrappy but poor boy worms his way into a tycoon's dysfunctional family, while facing his fear of…",
         "description_sentiment_score": -0.7579,
         "weighted_average_vote": 6.2,
         "_deepnote_index_column": 9390
        }
       ]
      },
      "text/plain": "     show_id     type              title         director  \\\n5         s6  TV Show      Midnight Mass    Mike Flanagan   \n7         s8    Movie            Sankofa     Haile Gerima   \n15       s16  TV Show  Dear White People              NaN   \n19       s20  TV Show             Jaguar              NaN   \n24       s25    Movie              Jeans       S. Shankar   \n...      ...      ...                ...              ...   \n9384   s8802    Movie            Zinzana  Majid Al Ansari   \n9385   s8803    Movie             Zodiac    David Fincher   \n9388   s8806    Movie               Zoom     Peter Hewitt   \n9389   s8806    Movie               Zoom     Peter Hewitt   \n9390   s8807    Movie             Zubaan      Mozez Singh   \n\n                                                   cast  \\\n5     Kate Siegel, Zach Gilford, Hamish Linklater, H...   \n7     Kofi Ghanaba, Oyafunmike Ogunlano, Alexandra D...   \n15    Logan Browning, Brandon P. Bell, DeRon Horton,...   \n19    Blanca Suárez, Iván Marcos, Óscar Casas, Adriá...   \n24    Prashanth, Aishwarya Rai Bachchan, Sri Lakshmi...   \n...                                                 ...   \n9384  Ali Suliman, Saleh Bakri, Yasa, Ali Al-Jabri, ...   \n9385  Mark Ruffalo, Jake Gyllenhaal, Robert Downey J...   \n9388  Tim Allen, Courteney Cox, Chevy Chase, Kate Ma...   \n9389  Tim Allen, Courteney Cox, Chevy Chase, Kate Ma...   \n9390  Vicky Kaushal, Sarah-Jane Dias, Raaghav Chanan...   \n\n                                                country          date_added  \\\n5                                                   NaN  September 24, 2021   \n7     United States, Ghana, Burkina Faso, United Kin...  September 24, 2021   \n15                                        United States  September 22, 2021   \n19                                                  NaN  September 22, 2021   \n24                                                India  September 21, 2021   \n...                                                 ...                 ...   \n9384                       United Arab Emirates, Jordan       March 9, 2016   \n9385                                      United States   November 20, 2019   \n9388                                      United States    January 11, 2020   \n9389                                      United States    January 11, 2020   \n9390                                              India       March 2, 2019   \n\n      release_year rating   duration  \\\n5             2021  TV-MA   1 Season   \n7             1993  TV-MA    125 min   \n15            2021  TV-MA  4 Seasons   \n19            2021  TV-MA   1 Season   \n24            1998  TV-14    166 min   \n...            ...    ...        ...   \n9384          2015  TV-MA     96 min   \n9385          2007      R    158 min   \n9388          2006     PG     88 min   \n9389          2006     PG     88 min   \n9390          2015  TV-14    111 min   \n\n                                              listed_in  \\\n5                    TV Dramas, TV Horror, TV Mysteries   \n7      Dramas, Independent Movies, International Movies   \n15                               TV Comedies, TV Dramas   \n19    International TV Shows, Spanish-Language TV Sh...   \n24      Comedies, International Movies, Romantic Movies   \n...                                                 ...   \n9384            Dramas, International Movies, Thrillers   \n9385                     Cult Movies, Dramas, Thrillers   \n9388                 Children & Family Movies, Comedies   \n9389                 Children & Family Movies, Comedies   \n9390     Dramas, International Movies, Music & Musicals   \n\n                                            description  \\\n5     The arrival of a charismatic young priest brin...   \n7     On a photo shoot in Ghana, an American model s...   \n15    Students of color navigate the daily slights a...   \n19    In the 1960s, a Holocaust survivor joins a gro...   \n24    When the father of the man she loves insists t...   \n...                                                 ...   \n9384  Recovering alcoholic Talal wakes up inside a s...   \n9385  A political cartoonist, a crime reporter and a...   \n9388  Dragged from civilian life, a former superhero...   \n9389  Dragged from civilian life, a former superhero...   \n9390  A scrappy but poor boy worms his way into a ty...   \n\n      description_sentiment_score  weighted_average_vote  \n5                          0.1280                    2.4  \n7                         -0.7845                    6.9  \n15                         0.0000                    6.1  \n19                         0.6369                    5.5  \n24                         0.8176                    6.5  \n...                           ...                    ...  \n9384                       0.0000                    6.7  \n9385                      -0.6808                    7.7  \n9388                      -0.6808                    4.4  \n9389                      -0.6808                    6.1  \n9390                      -0.7579                    6.2  \n\n[2960 rows x 14 columns]",
      "text/html": "<div>\n<style scoped>\n    .dataframe tbody tr th:only-of-type {\n        vertical-align: middle;\n    }\n\n    .dataframe tbody tr th {\n        vertical-align: top;\n    }\n\n    .dataframe thead th {\n        text-align: right;\n    }\n</style>\n<table border=\"1\" class=\"dataframe\">\n  <thead>\n    <tr style=\"text-align: right;\">\n      <th></th>\n      <th>show_id</th>\n      <th>type</th>\n      <th>title</th>\n      <th>director</th>\n      <th>cast</th>\n      <th>country</th>\n      <th>date_added</th>\n      <th>release_year</th>\n      <th>rating</th>\n      <th>duration</th>\n      <th>listed_in</th>\n      <th>description</th>\n      <th>description_sentiment_score</th>\n      <th>weighted_average_vote</th>\n    </tr>\n  </thead>\n  <tbody>\n    <tr>\n      <th>5</th>\n      <td>s6</td>\n      <td>TV Show</td>\n      <td>Midnight Mass</td>\n      <td>Mike Flanagan</td>\n      <td>Kate Siegel, Zach Gilford, Hamish Linklater, H...</td>\n      <td>NaN</td>\n      <td>September 24, 2021</td>\n      <td>2021</td>\n      <td>TV-MA</td>\n      <td>1 Season</td>\n      <td>TV Dramas, TV Horror, TV Mysteries</td>\n      <td>The arrival of a charismatic young priest brin...</td>\n      <td>0.1280</td>\n      <td>2.4</td>\n    </tr>\n    <tr>\n      <th>7</th>\n      <td>s8</td>\n      <td>Movie</td>\n      <td>Sankofa</td>\n      <td>Haile Gerima</td>\n      <td>Kofi Ghanaba, Oyafunmike Ogunlano, Alexandra D...</td>\n      <td>United States, Ghana, Burkina Faso, United Kin...</td>\n      <td>September 24, 2021</td>\n      <td>1993</td>\n      <td>TV-MA</td>\n      <td>125 min</td>\n      <td>Dramas, Independent Movies, International Movies</td>\n      <td>On a photo shoot in Ghana, an American model s...</td>\n      <td>-0.7845</td>\n      <td>6.9</td>\n    </tr>\n    <tr>\n      <th>15</th>\n      <td>s16</td>\n      <td>TV Show</td>\n      <td>Dear White People</td>\n      <td>NaN</td>\n      <td>Logan Browning, Brandon P. Bell, DeRon Horton,...</td>\n      <td>United States</td>\n      <td>September 22, 2021</td>\n      <td>2021</td>\n      <td>TV-MA</td>\n      <td>4 Seasons</td>\n      <td>TV Comedies, TV Dramas</td>\n      <td>Students of color navigate the daily slights a...</td>\n      <td>0.0000</td>\n      <td>6.1</td>\n    </tr>\n    <tr>\n      <th>19</th>\n      <td>s20</td>\n      <td>TV Show</td>\n      <td>Jaguar</td>\n      <td>NaN</td>\n      <td>Blanca Suárez, Iván Marcos, Óscar Casas, Adriá...</td>\n      <td>NaN</td>\n      <td>September 22, 2021</td>\n      <td>2021</td>\n      <td>TV-MA</td>\n      <td>1 Season</td>\n      <td>International TV Shows, Spanish-Language TV Sh...</td>\n      <td>In the 1960s, a Holocaust survivor joins a gro...</td>\n      <td>0.6369</td>\n      <td>5.5</td>\n    </tr>\n    <tr>\n      <th>24</th>\n      <td>s25</td>\n      <td>Movie</td>\n      <td>Jeans</td>\n      <td>S. Shankar</td>\n      <td>Prashanth, Aishwarya Rai Bachchan, Sri Lakshmi...</td>\n      <td>India</td>\n      <td>September 21, 2021</td>\n      <td>1998</td>\n      <td>TV-14</td>\n      <td>166 min</td>\n      <td>Comedies, International Movies, Romantic Movies</td>\n      <td>When the father of the man she loves insists t...</td>\n      <td>0.8176</td>\n      <td>6.5</td>\n    </tr>\n    <tr>\n      <th>...</th>\n      <td>...</td>\n      <td>...</td>\n      <td>...</td>\n      <td>...</td>\n      <td>...</td>\n      <td>...</td>\n      <td>...</td>\n      <td>...</td>\n      <td>...</td>\n      <td>...</td>\n      <td>...</td>\n      <td>...</td>\n      <td>...</td>\n      <td>...</td>\n    </tr>\n    <tr>\n      <th>9384</th>\n      <td>s8802</td>\n      <td>Movie</td>\n      <td>Zinzana</td>\n      <td>Majid Al Ansari</td>\n      <td>Ali Suliman, Saleh Bakri, Yasa, Ali Al-Jabri, ...</td>\n      <td>United Arab Emirates, Jordan</td>\n      <td>March 9, 2016</td>\n      <td>2015</td>\n      <td>TV-MA</td>\n      <td>96 min</td>\n      <td>Dramas, International Movies, Thrillers</td>\n      <td>Recovering alcoholic Talal wakes up inside a s...</td>\n      <td>0.0000</td>\n      <td>6.7</td>\n    </tr>\n    <tr>\n      <th>9385</th>\n      <td>s8803</td>\n      <td>Movie</td>\n      <td>Zodiac</td>\n      <td>David Fincher</td>\n      <td>Mark Ruffalo, Jake Gyllenhaal, Robert Downey J...</td>\n      <td>United States</td>\n      <td>November 20, 2019</td>\n      <td>2007</td>\n      <td>R</td>\n      <td>158 min</td>\n      <td>Cult Movies, Dramas, Thrillers</td>\n      <td>A political cartoonist, a crime reporter and a...</td>\n      <td>-0.6808</td>\n      <td>7.7</td>\n    </tr>\n    <tr>\n      <th>9388</th>\n      <td>s8806</td>\n      <td>Movie</td>\n      <td>Zoom</td>\n      <td>Peter Hewitt</td>\n      <td>Tim Allen, Courteney Cox, Chevy Chase, Kate Ma...</td>\n      <td>United States</td>\n      <td>January 11, 2020</td>\n      <td>2006</td>\n      <td>PG</td>\n      <td>88 min</td>\n      <td>Children &amp; Family Movies, Comedies</td>\n      <td>Dragged from civilian life, a former superhero...</td>\n      <td>-0.6808</td>\n      <td>4.4</td>\n    </tr>\n    <tr>\n      <th>9389</th>\n      <td>s8806</td>\n      <td>Movie</td>\n      <td>Zoom</td>\n      <td>Peter Hewitt</td>\n      <td>Tim Allen, Courteney Cox, Chevy Chase, Kate Ma...</td>\n      <td>United States</td>\n      <td>January 11, 2020</td>\n      <td>2006</td>\n      <td>PG</td>\n      <td>88 min</td>\n      <td>Children &amp; Family Movies, Comedies</td>\n      <td>Dragged from civilian life, a former superhero...</td>\n      <td>-0.6808</td>\n      <td>6.1</td>\n    </tr>\n    <tr>\n      <th>9390</th>\n      <td>s8807</td>\n      <td>Movie</td>\n      <td>Zubaan</td>\n      <td>Mozez Singh</td>\n      <td>Vicky Kaushal, Sarah-Jane Dias, Raaghav Chanan...</td>\n      <td>India</td>\n      <td>March 2, 2019</td>\n      <td>2015</td>\n      <td>TV-14</td>\n      <td>111 min</td>\n      <td>Dramas, International Movies, Music &amp; Musicals</td>\n      <td>A scrappy but poor boy worms his way into a ty...</td>\n      <td>-0.7579</td>\n      <td>6.2</td>\n    </tr>\n  </tbody>\n</table>\n<p>2960 rows × 14 columns</p>\n</div>"
     },
     "metadata": {}
    }
   ]
  },
  {
   "cell_type": "code",
   "metadata": {
    "tags": [],
    "cell_id": "00028-079bbbfe-2691-4828-b7bb-e81ffbfe9819",
    "deepnote_to_be_reexecuted": false,
    "source_hash": "a200f0b0",
    "execution_start": 1638451561124,
    "execution_millis": 8558,
    "deepnote_cell_type": "code"
   },
   "source": "!pip install statsmodels==0.13.1",
   "execution_count": null,
   "outputs": [
    {
     "name": "stdout",
     "text": "Collecting statsmodels==0.13.1\n  Downloading statsmodels-0.13.1-cp37-cp37m-manylinux_2_17_x86_64.manylinux2014_x86_64.whl (9.8 MB)\n\u001b[K     |████████████████████████████████| 9.8 MB 22.5 MB/s \n\u001b[?25hRequirement already satisfied: scipy>=1.3 in /shared-libs/python3.7/py/lib/python3.7/site-packages (from statsmodels==0.13.1) (1.7.2)\nCollecting patsy>=0.5.2\n  Downloading patsy-0.5.2-py2.py3-none-any.whl (233 kB)\n\u001b[K     |████████████████████████████████| 233 kB 55.0 MB/s \n\u001b[?25hRequirement already satisfied: numpy>=1.17 in /shared-libs/python3.7/py/lib/python3.7/site-packages (from statsmodels==0.13.1) (1.19.5)\nRequirement already satisfied: pandas>=0.25 in /shared-libs/python3.7/py/lib/python3.7/site-packages (from statsmodels==0.13.1) (1.2.5)\nRequirement already satisfied: six in /shared-libs/python3.7/py-core/lib/python3.7/site-packages (from patsy>=0.5.2->statsmodels==0.13.1) (1.16.0)\nRequirement already satisfied: python-dateutil>=2.7.3 in /shared-libs/python3.7/py-core/lib/python3.7/site-packages (from pandas>=0.25->statsmodels==0.13.1) (2.8.2)\nRequirement already satisfied: pytz>=2017.3 in /shared-libs/python3.7/py/lib/python3.7/site-packages (from pandas>=0.25->statsmodels==0.13.1) (2021.3)\nInstalling collected packages: patsy, statsmodels\nSuccessfully installed patsy-0.5.2 statsmodels-0.13.1\n\u001b[33mWARNING: You are using pip version 20.1.1; however, version 21.3.1 is available.\nYou should consider upgrading via the '/root/venv/bin/python -m pip install --upgrade pip' command.\u001b[0m\n",
     "output_type": "stream"
    }
   ]
  },
  {
   "cell_type": "code",
   "metadata": {
    "tags": [],
    "cell_id": "00019-0d82d13a-fbcf-4a3a-b06d-1be0c077fb29",
    "deepnote_to_be_reexecuted": false,
    "source_hash": "e8b34192",
    "execution_start": 1638451571207,
    "execution_millis": 327,
    "deepnote_cell_type": "code"
   },
   "source": "import statsmodels.api as sm\nimport statsmodels.formula.api as smf",
   "execution_count": null,
   "outputs": []
  },
  {
   "cell_type": "code",
   "metadata": {
    "tags": [],
    "cell_id": "00026-3a1c2499-1925-4ff6-a05e-9bdcc06b5aa1",
    "deepnote_to_be_reexecuted": false,
    "source_hash": "d05cd91d",
    "execution_start": 1638451572468,
    "execution_millis": 29,
    "deepnote_output_heights": [
     606.9375
    ],
    "deepnote_cell_type": "code"
   },
   "source": "model = smf.ols(\"weighted_average_vote ~ description_sentiment_score \", data=movie_rating_df)\nmodel.fit().summary()",
   "execution_count": null,
   "outputs": [
    {
     "output_type": "execute_result",
     "execution_count": 24,
     "data": {
      "text/plain": "<class 'statsmodels.iolib.summary.Summary'>\n\"\"\"\n                              OLS Regression Results                             \n=================================================================================\nDep. Variable:     weighted_average_vote   R-squared:                       0.003\nModel:                               OLS   Adj. R-squared:                  0.003\nMethod:                    Least Squares   F-statistic:                     9.515\nDate:                   Thu, 02 Dec 2021   Prob (F-statistic):            0.00206\nTime:                           13:26:12   Log-Likelihood:                -4919.6\nNo. Observations:                   2960   AIC:                             9843.\nDf Residuals:                       2958   BIC:                             9855.\nDf Model:                              1                                         \nCovariance Type:               nonrobust                                         \n===============================================================================================\n                                  coef    std err          t      P>|t|      [0.025      0.975]\n-----------------------------------------------------------------------------------------------\nIntercept                       5.9144      0.024    246.908      0.000       5.867       5.961\ndescription_sentiment_score     0.1294      0.042      3.085      0.002       0.047       0.212\n==============================================================================\nOmnibus:                      107.152   Durbin-Watson:                   1.836\nProb(Omnibus):                  0.000   Jarque-Bera (JB):              118.295\nSkew:                          -0.488   Prob(JB):                     2.05e-26\nKurtosis:                       3.079   Cond. No.                         1.82\n==============================================================================\n\nNotes:\n[1] Standard Errors assume that the covariance matrix of the errors is correctly specified.\n\"\"\"",
      "text/html": "<table class=\"simpletable\">\n<caption>OLS Regression Results</caption>\n<tr>\n  <th>Dep. Variable:</th>    <td>weighted_average_vote</td> <th>  R-squared:         </th> <td>   0.003</td>\n</tr>\n<tr>\n  <th>Model:</th>                     <td>OLS</td>          <th>  Adj. R-squared:    </th> <td>   0.003</td>\n</tr>\n<tr>\n  <th>Method:</th>               <td>Least Squares</td>     <th>  F-statistic:       </th> <td>   9.515</td>\n</tr>\n<tr>\n  <th>Date:</th>               <td>Thu, 02 Dec 2021</td>    <th>  Prob (F-statistic):</th>  <td>0.00206</td>\n</tr>\n<tr>\n  <th>Time:</th>                   <td>13:26:12</td>        <th>  Log-Likelihood:    </th> <td> -4919.6</td>\n</tr>\n<tr>\n  <th>No. Observations:</th>        <td>  2960</td>         <th>  AIC:               </th> <td>   9843.</td>\n</tr>\n<tr>\n  <th>Df Residuals:</th>            <td>  2958</td>         <th>  BIC:               </th> <td>   9855.</td>\n</tr>\n<tr>\n  <th>Df Model:</th>                <td>     1</td>         <th>                     </th>     <td> </td>   \n</tr>\n<tr>\n  <th>Covariance Type:</th>        <td>nonrobust</td>       <th>                     </th>     <td> </td>   \n</tr>\n</table>\n<table class=\"simpletable\">\n<tr>\n               <td></td>                  <th>coef</th>     <th>std err</th>      <th>t</th>      <th>P>|t|</th>  <th>[0.025</th>    <th>0.975]</th>  \n</tr>\n<tr>\n  <th>Intercept</th>                   <td>    5.9144</td> <td>    0.024</td> <td>  246.908</td> <td> 0.000</td> <td>    5.867</td> <td>    5.961</td>\n</tr>\n<tr>\n  <th>description_sentiment_score</th> <td>    0.1294</td> <td>    0.042</td> <td>    3.085</td> <td> 0.002</td> <td>    0.047</td> <td>    0.212</td>\n</tr>\n</table>\n<table class=\"simpletable\">\n<tr>\n  <th>Omnibus:</th>       <td>107.152</td> <th>  Durbin-Watson:     </th> <td>   1.836</td>\n</tr>\n<tr>\n  <th>Prob(Omnibus):</th> <td> 0.000</td>  <th>  Jarque-Bera (JB):  </th> <td> 118.295</td>\n</tr>\n<tr>\n  <th>Skew:</th>          <td>-0.488</td>  <th>  Prob(JB):          </th> <td>2.05e-26</td>\n</tr>\n<tr>\n  <th>Kurtosis:</th>      <td> 3.079</td>  <th>  Cond. No.          </th> <td>    1.82</td>\n</tr>\n</table><br/><br/>Notes:<br/>[1] Standard Errors assume that the covariance matrix of the errors is correctly specified."
     },
     "metadata": {}
    }
   ]
  },
  {
   "cell_type": "markdown",
   "source": "- R^2 value is very small so the data is highly variable \n- P-value is less than 0.05 so we should reject the null hypothesis (no significant relationship) and conclude that there is a significant relationship between IMDB score and description sentiment. \n- Independent variables are correlated with the dependent variable, but they do not explain much of the variability in the dependent variable.\nhttps://statisticsbyjim.com/regression/low-r-squared-regression/",
   "metadata": {
    "tags": [],
    "cell_id": "00038-4269db54-5441-4461-97e7-8198715087a4",
    "deepnote_cell_type": "markdown"
   }
  },
  {
   "cell_type": "code",
   "metadata": {
    "tags": [],
    "cell_id": "00039-e034e7fa-ef70-4410-877c-56bd3d369094",
    "deepnote_to_be_reexecuted": false,
    "source_hash": "22481e51",
    "execution_start": 1638451579750,
    "execution_millis": 880,
    "deepnote_output_heights": [
     21.1875,
     268.46875
    ],
    "deepnote_cell_type": "code"
   },
   "source": "sns.regplot(x=\"description_sentiment_score\", y=\"weighted_average_vote\", data=movie_rating_df, line_kws={\"color\": \"red\"})\nplt.title('Linear Regression Plot of Description Sentiment vs IMDB Rating')\n",
   "execution_count": null,
   "outputs": [
    {
     "output_type": "execute_result",
     "execution_count": 25,
     "data": {
      "text/plain": "Text(0.5, 1.0, 'Linear Regression Plot of Description Sentiment vs IMDB Rating')"
     },
     "metadata": {}
    },
    {
     "data": {
      "text/plain": "<Figure size 432x288 with 1 Axes>",
      "image/png": "[encoded data removed]"
     },
     "metadata": {
      "needs_background": "light",
      "image/png": {
       "width": 401,
       "height": 279
      }
     },
     "output_type": "display_data"
    }
   ]
  },
  {
   "cell_type": "markdown",
   "source": "## Limitations/Challenges",
   "metadata": {
    "tags": [],
    "is_collapsed": false,
    "cell_id": "00006-20990fb9-856f-4469-97e3-10f6f20025f3",
    "deepnote_cell_type": "text-cell-h2"
   }
  },
  {
   "cell_type": "markdown",
   "source": "* Null Values\n    - Director, Cast, country, date added, rating, and duration\n    - Description had no null values, which is what we needed for recommendation system, so null values ended up being an easy obstacle to overcome\n        - Filled with empty strings, N/A, Mode\n* Incorrect Input of Data\n    - i.e.) Movie Lengths inputted into Rating Column\n    - Data had to be translated and cleaned into usable types for machine learning model and linear regression\n* IMBD Rating Dataset\n    - Did not have all titles found in Netflix dataset, so analysis may not be representative of entire dataset; regression should cautiously extrapolated to entire set\n        - Netflix dataset --> 6131 titles\n        - Merged dataset --> 2960 titles",
   "metadata": {
    "tags": [],
    "cell_id": "00009-e4cee2ac-7088-47e6-aded-6a1085b25f02",
    "deepnote_cell_type": "markdown"
   }
  },
  {
   "cell_type": "markdown",
   "source": "## Recommendations",
   "metadata": {
    "tags": [],
    "is_collapsed": false,
    "cell_id": "00009-031e9513-257c-4b52-8c34-b09fefa92056",
    "deepnote_cell_type": "text-cell-h2"
   }
  },
  {
   "cell_type": "markdown",
   "source": "* Deal with Null Values More Efficiently\n    - Reference other datasets and merge with original dataset in order to obtain necessary information to proceed with analysis/recommendations\n* Refine Recommendation System\n    - Currently based on similarities between descriptions of titles\n    - Future iterations can recommend based on cast, ratings, or even location of production\n    - By incorporating different factors, recommender system could be more accurate in its suggestions",
   "metadata": {
    "tags": [],
    "cell_id": "00012-1b129cda-ae01-41b5-b49f-bee6e310ce88",
    "deepnote_cell_type": "markdown"
   }
  },
  {
   "cell_type": "markdown",
   "source": "",
   "metadata": {
    "tags": [],
    "cell_id": "00013-60f6d04a-73aa-4847-aa1e-aee063054584",
    "deepnote_cell_type": "markdown"
   }
  },
  {
   "cell_type": "markdown",
   "source": "<a style='text-decoration:none;line-height:16px;display:flex;color:#5B5B62;padding:10px;justify-content:end;' href='https://deepnote.com?utm_source=created-in-deepnote-cell&projectId=d9418010-a4f3-43dc-9b03-c6e40b911e74' target=\"_blank\">\n<img alt='Created in deepnote.com' style='display:inline;max-height:16px;margin:0px;margin-right:7.5px;' src='data:image/svg+xml;base64,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' > </img>\nCreated in <span style='font-weight:600;margin-left:4px;'>Deepnote</span></a>",
   "metadata": {
    "tags": [],
    "created_in_deepnote_cell": true,
    "deepnote_cell_type": "markdown"
   }
  }
 ],
 "nbformat": 4,
 "nbformat_minor": 2,
 "metadata": {
  "orig_nbformat": 2,
  "deepnote": {
   "is_reactive": false
  },
  "deepnote_notebook_id": "b6c34f44-01f6-480b-b0f7-3202293622ee",
  "deepnote_execution_queue": []
 }
}